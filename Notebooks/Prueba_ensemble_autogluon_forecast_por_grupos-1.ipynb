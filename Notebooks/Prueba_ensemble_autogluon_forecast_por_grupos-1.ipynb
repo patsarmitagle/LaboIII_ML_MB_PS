{
 "cells": [
  {
   "cell_type": "code",
   "execution_count": 3,
   "id": "7473fc4d",
   "metadata": {},
   "outputs": [],
   "source": [
    "import pandas as pd\n",
    "import numpy as np"
   ]
  },
  {
   "cell_type": "code",
   "execution_count": 4,
   "id": "06f57af0",
   "metadata": {},
   "outputs": [],
   "source": [
    "# 1. Cargar los archivos\n",
    "\n",
    "df_autogluon = pd.read_csv(\"predicciones_febrero2020_01-07-25_2.csv\")\n",
    "df_promedios = pd.read_csv(\"promedio_12m_febrero2020_2.csv\")\n",
    "\n",
    "\n",
    "product_preciso = pd.read_csv(\"product_id_promedio_preciso.csv\")"
   ]
  },
  {
   "cell_type": "code",
   "execution_count": 5,
   "id": "61f6cef3",
   "metadata": {},
   "outputs": [
    {
     "name": "stdout",
     "output_type": "stream",
     "text": [
      "    product_id          tn\n",
      "8        20009  541.322587\n",
      "10       20011  377.635440\n",
      "14       20015  369.023652\n",
      "17       20018  275.445111\n",
      "26       20027  230.014917\n"
     ]
    }
   ],
   "source": [
    "# Reemplazar las 'tn' en df_autogluon por las de df_promedios para los productos en product_preciso\n",
    "\n",
    "# Obtener los product_id precisos\n",
    "ids_precisos = product_preciso[\"product_id\"].tolist()\n",
    "\n",
    "# Crear un mapeo de tn desde df_promedios para los ids precisos\n",
    "tn_promedios_precisos = df_promedios.set_index(\"product_id\").loc[ids_precisos, \"tn\"]\n",
    "\n",
    "# Reemplazar en df_autogluon\n",
    "df_autogluon.loc[df_autogluon[\"product_id\"].isin(ids_precisos), \"tn\"] = \\\n",
    "    df_autogluon.loc[df_autogluon[\"product_id\"].isin(ids_precisos), \"product_id\"].map(tn_promedios_precisos)\n",
    "\n",
    "# Verificar reemplazo\n",
    "print(df_autogluon[df_autogluon[\"product_id\"].isin(ids_precisos)].head())"
   ]
  },
  {
   "cell_type": "code",
   "execution_count": 6,
   "id": "933ba989",
   "metadata": {},
   "outputs": [],
   "source": [
    "df_autogluon[[\"product_id\", \"tn\"]].to_csv(\"df_autogluon_salida_190725_1.csv\", index=False)"
   ]
  },
  {
   "cell_type": "code",
   "execution_count": null,
   "id": "c54ef691",
   "metadata": {},
   "outputs": [
    {
     "name": "stdout",
     "output_type": "stream",
     "text": [
      "Número total de product_id en ensemble: 655\n",
      "   product_id  tn_pred_ensemble\n",
      "0       20001       1289.854612\n",
      "1       20002       1043.714777\n",
      "2       20003        730.515933\n",
      "3       20004        542.798590\n",
      "4       20005        534.809802\n"
     ]
    }
   ],
   "source": [
    "\n",
    "\n",
    "\n",
    "# 2. Calcular errores absolutos para comparar métodos\n",
    "comparacion_febrero[\"error_autogluon\"] = abs(comparacion_febrero[\"tn\"] - comparacion_febrero[\"tn_feb_2019\"])\n",
    "comparacion_febrero[\"error_promedio\"] = abs(comparacion_febrero[\"tn\"] - comparacion_febrero[\"promedio_ultimos_12m\"])\n",
    "\n",
    "# 3. Separar productos según qué método fue mejor\n",
    "mejor_con_promedio = comparacion_febrero[comparacion_febrero[\"error_promedio\"] < comparacion_febrero[\"error_autogluon\"]][\"product_id\"].tolist()\n",
    "mejor_con_autogluon = comparacion_febrero[comparacion_febrero[\"error_autogluon\"] <= comparacion_febrero[\"error_promedio\"]][\"product_id\"].tolist()\n",
    "\n",
    "# 4. Tomar predicciones de febrero 2020 según el mejor método para cada grupo\n",
    "preds_autogluon = df_autogluon[df_autogluon[\"product_id\"].isin(mejor_con_autogluon)].copy()\n",
    "preds_promedio = df_promedios[df_promedios[\"product_id\"].isin(mejor_con_promedio)].copy()\n",
    "\n",
    "# 5. Renombrar columna a 'tn_pred_ensemble' en ambos casos\n",
    "preds_autogluon = preds_autogluon.rename(columns={\"tn\": \"tn_pred_ensemble\"})\n",
    "preds_promedio = preds_promedio.rename(columns={\"tn\": \"tn_pred_ensemble\"})\n",
    "\n",
    "# 6. Unir ambos grupos\n",
    "ensemble_df = pd.concat([preds_autogluon[[\"product_id\", \"tn_pred_ensemble\"]],\n",
    "                         preds_promedio[[\"product_id\", \"tn_pred_ensemble\"]]],\n",
    "                        axis=0).sort_values(\"product_id\").reset_index(drop=True)\n",
    "\n",
    "# 7. Verificación final\n",
    "print(f\"Número total de product_id en ensemble: {ensemble_df['product_id'].nunique()}\")\n",
    "print(ensemble_df.head())\n",
    "\n",
    "# 8. Guardar a CSV si querés\n",
    "ensemble_df.to_csv(\"ensemble_febrero2020_190725_1.csv\", index=False)\n"
   ]
  }
 ],
 "metadata": {
  "kernelspec": {
   "display_name": "base",
   "language": "python",
   "name": "python3"
  },
  "language_info": {
   "codemirror_mode": {
    "name": "ipython",
    "version": 3
   },
   "file_extension": ".py",
   "mimetype": "text/x-python",
   "name": "python",
   "nbconvert_exporter": "python",
   "pygments_lexer": "ipython3",
   "version": "3.12.7"
  }
 },
 "nbformat": 4,
 "nbformat_minor": 5
}
