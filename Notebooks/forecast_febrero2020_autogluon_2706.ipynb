{
 "cells": [
  {
   "cell_type": "code",
   "execution_count": 31,
   "id": "490c8917",
   "metadata": {},
   "outputs": [],
   "source": [
    "# AutoGluon - Predicción de ventas (tn) por producto para febrero 2020"
   ]
  },
  {
   "cell_type": "code",
   "execution_count": 71,
   "id": "add42c51",
   "metadata": {},
   "outputs": [
    {
     "name": "stdout",
     "output_type": "stream",
     "text": [
      "Requirement already satisfied: autogluon.timeseries in /Users/patricialorenasarmientotagle/langchain-academy/lc-academy-env/lib/python3.12/site-packages (1.3.1)\n",
      "Requirement already satisfied: joblib<2,>=1.1 in /Users/patricialorenasarmientotagle/langchain-academy/lc-academy-env/lib/python3.12/site-packages (from autogluon.timeseries) (1.5.1)\n",
      "Requirement already satisfied: numpy<2.3.0,>=1.25.0 in /Users/patricialorenasarmientotagle/langchain-academy/lc-academy-env/lib/python3.12/site-packages (from autogluon.timeseries) (2.1.3)\n",
      "Requirement already satisfied: scipy<1.16,>=1.5.4 in /Users/patricialorenasarmientotagle/langchain-academy/lc-academy-env/lib/python3.12/site-packages (from autogluon.timeseries) (1.15.3)\n",
      "Requirement already satisfied: pandas<2.3.0,>=2.0.0 in /Users/patricialorenasarmientotagle/langchain-academy/lc-academy-env/lib/python3.12/site-packages (from autogluon.timeseries) (2.2.3)\n",
      "Requirement already satisfied: torch<2.7,>=2.2 in /Users/patricialorenasarmientotagle/langchain-academy/lc-academy-env/lib/python3.12/site-packages (from autogluon.timeseries) (2.6.0)\n",
      "Requirement already satisfied: lightning<2.7,>=2.2 in /Users/patricialorenasarmientotagle/langchain-academy/lc-academy-env/lib/python3.12/site-packages (from autogluon.timeseries) (2.5.2)\n",
      "Requirement already satisfied: pytorch-lightning in /Users/patricialorenasarmientotagle/langchain-academy/lc-academy-env/lib/python3.12/site-packages (from autogluon.timeseries) (2.5.2)\n",
      "Requirement already satisfied: transformers<4.50,>=4.38.0 in /Users/patricialorenasarmientotagle/langchain-academy/lc-academy-env/lib/python3.12/site-packages (from transformers[sentencepiece]<4.50,>=4.38.0->autogluon.timeseries) (4.49.0)\n",
      "Requirement already satisfied: accelerate<2.0,>=0.34.0 in /Users/patricialorenasarmientotagle/langchain-academy/lc-academy-env/lib/python3.12/site-packages (from autogluon.timeseries) (1.8.1)\n",
      "Requirement already satisfied: gluonts<0.17,>=0.15.0 in /Users/patricialorenasarmientotagle/langchain-academy/lc-academy-env/lib/python3.12/site-packages (from autogluon.timeseries) (0.16.1)\n",
      "Requirement already satisfied: networkx<4,>=3.0 in /Users/patricialorenasarmientotagle/langchain-academy/lc-academy-env/lib/python3.12/site-packages (from autogluon.timeseries) (3.5)\n",
      "Requirement already satisfied: statsforecast<2.0.2,>=1.7.0 in /Users/patricialorenasarmientotagle/langchain-academy/lc-academy-env/lib/python3.12/site-packages (from autogluon.timeseries) (2.0.1)\n",
      "Requirement already satisfied: mlforecast<0.14,>0.13 in /Users/patricialorenasarmientotagle/langchain-academy/lc-academy-env/lib/python3.12/site-packages (from autogluon.timeseries) (0.13.6)\n",
      "Requirement already satisfied: utilsforecast<0.2.11,>=0.2.3 in /Users/patricialorenasarmientotagle/langchain-academy/lc-academy-env/lib/python3.12/site-packages (from autogluon.timeseries) (0.2.10)\n",
      "Requirement already satisfied: coreforecast<0.0.16,>=0.0.12 in /Users/patricialorenasarmientotagle/langchain-academy/lc-academy-env/lib/python3.12/site-packages (from autogluon.timeseries) (0.0.15)\n",
      "Requirement already satisfied: fugue>=0.9.0 in /Users/patricialorenasarmientotagle/langchain-academy/lc-academy-env/lib/python3.12/site-packages (from autogluon.timeseries) (0.9.1)\n",
      "Requirement already satisfied: tqdm<5,>=4.38 in /Users/patricialorenasarmientotagle/langchain-academy/lc-academy-env/lib/python3.12/site-packages (from autogluon.timeseries) (4.67.1)\n",
      "Requirement already satisfied: orjson~=3.9 in /Users/patricialorenasarmientotagle/langchain-academy/lc-academy-env/lib/python3.12/site-packages (from autogluon.timeseries) (3.10.18)\n",
      "Requirement already satisfied: tensorboard<3,>=2.9 in /Users/patricialorenasarmientotagle/langchain-academy/lc-academy-env/lib/python3.12/site-packages (from autogluon.timeseries) (2.19.0)\n",
      "Requirement already satisfied: autogluon.core==1.3.1 in /Users/patricialorenasarmientotagle/langchain-academy/lc-academy-env/lib/python3.12/site-packages (from autogluon.core[raytune]==1.3.1->autogluon.timeseries) (1.3.1)\n",
      "Requirement already satisfied: autogluon.common==1.3.1 in /Users/patricialorenasarmientotagle/langchain-academy/lc-academy-env/lib/python3.12/site-packages (from autogluon.timeseries) (1.3.1)\n",
      "Requirement already satisfied: autogluon.features==1.3.1 in /Users/patricialorenasarmientotagle/langchain-academy/lc-academy-env/lib/python3.12/site-packages (from autogluon.timeseries) (1.3.1)\n",
      "Requirement already satisfied: autogluon.tabular==1.3.1 in /Users/patricialorenasarmientotagle/langchain-academy/lc-academy-env/lib/python3.12/site-packages (from autogluon.tabular[catboost,lightgbm,xgboost]==1.3.1->autogluon.timeseries) (1.3.1)\n",
      "Requirement already satisfied: boto3<2,>=1.10 in /Users/patricialorenasarmientotagle/langchain-academy/lc-academy-env/lib/python3.12/site-packages (from autogluon.common==1.3.1->autogluon.timeseries) (1.38.45)\n",
      "Requirement already satisfied: psutil<7.1.0,>=5.7.3 in /Users/patricialorenasarmientotagle/langchain-academy/lc-academy-env/lib/python3.12/site-packages (from autogluon.common==1.3.1->autogluon.timeseries) (7.0.0)\n",
      "Requirement already satisfied: scikit-learn<1.7.0,>=1.4.0 in /Users/patricialorenasarmientotagle/langchain-academy/lc-academy-env/lib/python3.12/site-packages (from autogluon.core==1.3.1->autogluon.core[raytune]==1.3.1->autogluon.timeseries) (1.6.1)\n",
      "Requirement already satisfied: requests in /Users/patricialorenasarmientotagle/langchain-academy/lc-academy-env/lib/python3.12/site-packages (from autogluon.core==1.3.1->autogluon.core[raytune]==1.3.1->autogluon.timeseries) (2.32.4)\n",
      "Requirement already satisfied: matplotlib<3.11,>=3.7.0 in /Users/patricialorenasarmientotagle/langchain-academy/lc-academy-env/lib/python3.12/site-packages (from autogluon.core==1.3.1->autogluon.core[raytune]==1.3.1->autogluon.timeseries) (3.10.3)\n",
      "Requirement already satisfied: pyarrow>=15.0.0 in /Users/patricialorenasarmientotagle/langchain-academy/lc-academy-env/lib/python3.12/site-packages (from autogluon.core[raytune]==1.3.1->autogluon.timeseries) (19.0.1)\n",
      "Requirement already satisfied: ray<2.45,>=2.10.0 in /Users/patricialorenasarmientotagle/langchain-academy/lc-academy-env/lib/python3.12/site-packages (from ray[default,tune]<2.45,>=2.10.0; extra == \"raytune\"->autogluon.core[raytune]==1.3.1->autogluon.timeseries) (2.44.1)\n",
      "Requirement already satisfied: hyperopt<0.2.8,>=0.2.7 in /Users/patricialorenasarmientotagle/langchain-academy/lc-academy-env/lib/python3.12/site-packages (from autogluon.core[raytune]==1.3.1->autogluon.timeseries) (0.2.7)\n",
      "Requirement already satisfied: catboost<1.3,>=1.2 in /Users/patricialorenasarmientotagle/langchain-academy/lc-academy-env/lib/python3.12/site-packages (from autogluon.tabular[catboost,lightgbm,xgboost]==1.3.1->autogluon.timeseries) (1.2.8)\n",
      "Requirement already satisfied: lightgbm<4.7,>=4.0 in /Users/patricialorenasarmientotagle/langchain-academy/lc-academy-env/lib/python3.12/site-packages (from autogluon.tabular[catboost,lightgbm,xgboost]==1.3.1->autogluon.timeseries) (4.6.0)\n",
      "Requirement already satisfied: xgboost<3.1,>=2.0 in /Users/patricialorenasarmientotagle/langchain-academy/lc-academy-env/lib/python3.12/site-packages (from autogluon.tabular[catboost,lightgbm,xgboost]==1.3.1->autogluon.timeseries) (3.0.2)\n",
      "Requirement already satisfied: packaging>=20.0 in /Users/patricialorenasarmientotagle/langchain-academy/lc-academy-env/lib/python3.12/site-packages (from accelerate<2.0,>=0.34.0->autogluon.timeseries) (24.2)\n",
      "Requirement already satisfied: pyyaml in /Users/patricialorenasarmientotagle/langchain-academy/lc-academy-env/lib/python3.12/site-packages (from accelerate<2.0,>=0.34.0->autogluon.timeseries) (6.0.2)\n",
      "Requirement already satisfied: huggingface_hub>=0.21.0 in /Users/patricialorenasarmientotagle/langchain-academy/lc-academy-env/lib/python3.12/site-packages (from accelerate<2.0,>=0.34.0->autogluon.timeseries) (0.33.1)\n",
      "Requirement already satisfied: safetensors>=0.4.3 in /Users/patricialorenasarmientotagle/langchain-academy/lc-academy-env/lib/python3.12/site-packages (from accelerate<2.0,>=0.34.0->autogluon.timeseries) (0.5.3)\n",
      "Requirement already satisfied: botocore<1.39.0,>=1.38.45 in /Users/patricialorenasarmientotagle/langchain-academy/lc-academy-env/lib/python3.12/site-packages (from boto3<2,>=1.10->autogluon.common==1.3.1->autogluon.timeseries) (1.38.45)\n",
      "Requirement already satisfied: jmespath<2.0.0,>=0.7.1 in /Users/patricialorenasarmientotagle/langchain-academy/lc-academy-env/lib/python3.12/site-packages (from boto3<2,>=1.10->autogluon.common==1.3.1->autogluon.timeseries) (1.0.1)\n",
      "Requirement already satisfied: s3transfer<0.14.0,>=0.13.0 in /Users/patricialorenasarmientotagle/langchain-academy/lc-academy-env/lib/python3.12/site-packages (from boto3<2,>=1.10->autogluon.common==1.3.1->autogluon.timeseries) (0.13.0)\n",
      "Requirement already satisfied: python-dateutil<3.0.0,>=2.1 in /Users/patricialorenasarmientotagle/langchain-academy/lc-academy-env/lib/python3.12/site-packages (from botocore<1.39.0,>=1.38.45->boto3<2,>=1.10->autogluon.common==1.3.1->autogluon.timeseries) (2.9.0.post0)\n",
      "Requirement already satisfied: urllib3!=2.2.0,<3,>=1.25.4 in /Users/patricialorenasarmientotagle/langchain-academy/lc-academy-env/lib/python3.12/site-packages (from botocore<1.39.0,>=1.38.45->boto3<2,>=1.10->autogluon.common==1.3.1->autogluon.timeseries) (2.5.0)\n",
      "Requirement already satisfied: graphviz in /Users/patricialorenasarmientotagle/langchain-academy/lc-academy-env/lib/python3.12/site-packages (from catboost<1.3,>=1.2->autogluon.tabular[catboost,lightgbm,xgboost]==1.3.1->autogluon.timeseries) (0.21)\n",
      "Requirement already satisfied: plotly in /Users/patricialorenasarmientotagle/langchain-academy/lc-academy-env/lib/python3.12/site-packages (from catboost<1.3,>=1.2->autogluon.tabular[catboost,lightgbm,xgboost]==1.3.1->autogluon.timeseries) (6.2.0)\n",
      "Requirement already satisfied: six in /Users/patricialorenasarmientotagle/langchain-academy/lc-academy-env/lib/python3.12/site-packages (from catboost<1.3,>=1.2->autogluon.tabular[catboost,lightgbm,xgboost]==1.3.1->autogluon.timeseries) (1.17.0)\n",
      "Requirement already satisfied: pydantic<3,>=1.7 in /Users/patricialorenasarmientotagle/langchain-academy/lc-academy-env/lib/python3.12/site-packages (from gluonts<0.17,>=0.15.0->autogluon.timeseries) (2.11.7)\n",
      "Requirement already satisfied: toolz~=0.10 in /Users/patricialorenasarmientotagle/langchain-academy/lc-academy-env/lib/python3.12/site-packages (from gluonts<0.17,>=0.15.0->autogluon.timeseries) (0.12.1)\n",
      "Requirement already satisfied: typing-extensions~=4.0 in /Users/patricialorenasarmientotagle/langchain-academy/lc-academy-env/lib/python3.12/site-packages (from gluonts<0.17,>=0.15.0->autogluon.timeseries) (4.14.0)\n",
      "Requirement already satisfied: future in /Users/patricialorenasarmientotagle/langchain-academy/lc-academy-env/lib/python3.12/site-packages (from hyperopt<0.2.8,>=0.2.7->autogluon.core[raytune]==1.3.1->autogluon.timeseries) (1.0.0)\n",
      "Requirement already satisfied: cloudpickle in /Users/patricialorenasarmientotagle/langchain-academy/lc-academy-env/lib/python3.12/site-packages (from hyperopt<0.2.8,>=0.2.7->autogluon.core[raytune]==1.3.1->autogluon.timeseries) (3.1.1)\n",
      "Requirement already satisfied: py4j in /Users/patricialorenasarmientotagle/langchain-academy/lc-academy-env/lib/python3.12/site-packages (from hyperopt<0.2.8,>=0.2.7->autogluon.core[raytune]==1.3.1->autogluon.timeseries) (0.10.9.9)\n",
      "Requirement already satisfied: fsspec<2027.0,>=2022.5.0 in /Users/patricialorenasarmientotagle/langchain-academy/lc-academy-env/lib/python3.12/site-packages (from fsspec[http]<2027.0,>=2022.5.0->lightning<2.7,>=2.2->autogluon.timeseries) (2025.5.1)\n",
      "Requirement already satisfied: lightning-utilities<2.0,>=0.10.0 in /Users/patricialorenasarmientotagle/langchain-academy/lc-academy-env/lib/python3.12/site-packages (from lightning<2.7,>=2.2->autogluon.timeseries) (0.14.3)\n",
      "Requirement already satisfied: torchmetrics<3.0,>=0.7.0 in /Users/patricialorenasarmientotagle/langchain-academy/lc-academy-env/lib/python3.12/site-packages (from lightning<2.7,>=2.2->autogluon.timeseries) (1.7.3)\n",
      "Requirement already satisfied: aiohttp!=4.0.0a0,!=4.0.0a1 in /Users/patricialorenasarmientotagle/langchain-academy/lc-academy-env/lib/python3.12/site-packages (from fsspec[http]<2027.0,>=2022.5.0->lightning<2.7,>=2.2->autogluon.timeseries) (3.12.13)\n",
      "Requirement already satisfied: setuptools in /Users/patricialorenasarmientotagle/langchain-academy/lc-academy-env/lib/python3.12/site-packages (from lightning-utilities<2.0,>=0.10.0->lightning<2.7,>=2.2->autogluon.timeseries) (80.9.0)\n",
      "Requirement already satisfied: contourpy>=1.0.1 in /Users/patricialorenasarmientotagle/langchain-academy/lc-academy-env/lib/python3.12/site-packages (from matplotlib<3.11,>=3.7.0->autogluon.core==1.3.1->autogluon.core[raytune]==1.3.1->autogluon.timeseries) (1.3.2)\n",
      "Requirement already satisfied: cycler>=0.10 in /Users/patricialorenasarmientotagle/langchain-academy/lc-academy-env/lib/python3.12/site-packages (from matplotlib<3.11,>=3.7.0->autogluon.core==1.3.1->autogluon.core[raytune]==1.3.1->autogluon.timeseries) (0.12.1)\n",
      "Requirement already satisfied: fonttools>=4.22.0 in /Users/patricialorenasarmientotagle/langchain-academy/lc-academy-env/lib/python3.12/site-packages (from matplotlib<3.11,>=3.7.0->autogluon.core==1.3.1->autogluon.core[raytune]==1.3.1->autogluon.timeseries) (4.58.4)\n",
      "Requirement already satisfied: kiwisolver>=1.3.1 in /Users/patricialorenasarmientotagle/langchain-academy/lc-academy-env/lib/python3.12/site-packages (from matplotlib<3.11,>=3.7.0->autogluon.core==1.3.1->autogluon.core[raytune]==1.3.1->autogluon.timeseries) (1.4.8)\n",
      "Requirement already satisfied: pillow>=8 in /Users/patricialorenasarmientotagle/langchain-academy/lc-academy-env/lib/python3.12/site-packages (from matplotlib<3.11,>=3.7.0->autogluon.core==1.3.1->autogluon.core[raytune]==1.3.1->autogluon.timeseries) (11.2.1)\n",
      "Requirement already satisfied: pyparsing>=2.3.1 in /Users/patricialorenasarmientotagle/langchain-academy/lc-academy-env/lib/python3.12/site-packages (from matplotlib<3.11,>=3.7.0->autogluon.core==1.3.1->autogluon.core[raytune]==1.3.1->autogluon.timeseries) (3.2.3)\n",
      "Requirement already satisfied: numba in /Users/patricialorenasarmientotagle/langchain-academy/lc-academy-env/lib/python3.12/site-packages (from mlforecast<0.14,>0.13->autogluon.timeseries) (0.61.2)\n",
      "Requirement already satisfied: optuna in /Users/patricialorenasarmientotagle/langchain-academy/lc-academy-env/lib/python3.12/site-packages (from mlforecast<0.14,>0.13->autogluon.timeseries) (4.4.0)\n",
      "Requirement already satisfied: window-ops in /Users/patricialorenasarmientotagle/langchain-academy/lc-academy-env/lib/python3.12/site-packages (from mlforecast<0.14,>0.13->autogluon.timeseries) (0.0.15)\n",
      "Requirement already satisfied: pytz>=2020.1 in /Users/patricialorenasarmientotagle/langchain-academy/lc-academy-env/lib/python3.12/site-packages (from pandas<2.3.0,>=2.0.0->autogluon.timeseries) (2025.2)\n",
      "Requirement already satisfied: tzdata>=2022.7 in /Users/patricialorenasarmientotagle/langchain-academy/lc-academy-env/lib/python3.12/site-packages (from pandas<2.3.0,>=2.0.0->autogluon.timeseries) (2025.2)\n",
      "Requirement already satisfied: annotated-types>=0.6.0 in /Users/patricialorenasarmientotagle/langchain-academy/lc-academy-env/lib/python3.12/site-packages (from pydantic<3,>=1.7->gluonts<0.17,>=0.15.0->autogluon.timeseries) (0.7.0)\n",
      "Requirement already satisfied: pydantic-core==2.33.2 in /Users/patricialorenasarmientotagle/langchain-academy/lc-academy-env/lib/python3.12/site-packages (from pydantic<3,>=1.7->gluonts<0.17,>=0.15.0->autogluon.timeseries) (2.33.2)\n",
      "Requirement already satisfied: typing-inspection>=0.4.0 in /Users/patricialorenasarmientotagle/langchain-academy/lc-academy-env/lib/python3.12/site-packages (from pydantic<3,>=1.7->gluonts<0.17,>=0.15.0->autogluon.timeseries) (0.4.1)\n",
      "Requirement already satisfied: click>=7.0 in /Users/patricialorenasarmientotagle/langchain-academy/lc-academy-env/lib/python3.12/site-packages (from ray<2.45,>=2.10.0->ray[default,tune]<2.45,>=2.10.0; extra == \"raytune\"->autogluon.core[raytune]==1.3.1->autogluon.timeseries) (8.2.1)\n",
      "Requirement already satisfied: filelock in /Users/patricialorenasarmientotagle/langchain-academy/lc-academy-env/lib/python3.12/site-packages (from ray<2.45,>=2.10.0->ray[default,tune]<2.45,>=2.10.0; extra == \"raytune\"->autogluon.core[raytune]==1.3.1->autogluon.timeseries) (3.18.0)\n",
      "Requirement already satisfied: jsonschema in /Users/patricialorenasarmientotagle/langchain-academy/lc-academy-env/lib/python3.12/site-packages (from ray<2.45,>=2.10.0->ray[default,tune]<2.45,>=2.10.0; extra == \"raytune\"->autogluon.core[raytune]==1.3.1->autogluon.timeseries) (4.24.0)\n",
      "Requirement already satisfied: msgpack<2.0.0,>=1.0.0 in /Users/patricialorenasarmientotagle/langchain-academy/lc-academy-env/lib/python3.12/site-packages (from ray<2.45,>=2.10.0->ray[default,tune]<2.45,>=2.10.0; extra == \"raytune\"->autogluon.core[raytune]==1.3.1->autogluon.timeseries) (1.1.1)\n",
      "Requirement already satisfied: protobuf!=3.19.5,>=3.15.3 in /Users/patricialorenasarmientotagle/langchain-academy/lc-academy-env/lib/python3.12/site-packages (from ray<2.45,>=2.10.0->ray[default,tune]<2.45,>=2.10.0; extra == \"raytune\"->autogluon.core[raytune]==1.3.1->autogluon.timeseries) (6.31.1)\n",
      "Requirement already satisfied: aiosignal in /Users/patricialorenasarmientotagle/langchain-academy/lc-academy-env/lib/python3.12/site-packages (from ray<2.45,>=2.10.0->ray[default,tune]<2.45,>=2.10.0; extra == \"raytune\"->autogluon.core[raytune]==1.3.1->autogluon.timeseries) (1.3.2)\n",
      "Requirement already satisfied: frozenlist in /Users/patricialorenasarmientotagle/langchain-academy/lc-academy-env/lib/python3.12/site-packages (from ray<2.45,>=2.10.0->ray[default,tune]<2.45,>=2.10.0; extra == \"raytune\"->autogluon.core[raytune]==1.3.1->autogluon.timeseries) (1.7.0)\n",
      "Requirement already satisfied: aiohttp-cors in /Users/patricialorenasarmientotagle/langchain-academy/lc-academy-env/lib/python3.12/site-packages (from ray[default,tune]<2.45,>=2.10.0; extra == \"raytune\"->autogluon.core[raytune]==1.3.1->autogluon.timeseries) (0.8.1)\n",
      "Requirement already satisfied: colorful in /Users/patricialorenasarmientotagle/langchain-academy/lc-academy-env/lib/python3.12/site-packages (from ray[default,tune]<2.45,>=2.10.0; extra == \"raytune\"->autogluon.core[raytune]==1.3.1->autogluon.timeseries) (0.5.6)\n",
      "Requirement already satisfied: opencensus in /Users/patricialorenasarmientotagle/langchain-academy/lc-academy-env/lib/python3.12/site-packages (from ray[default,tune]<2.45,>=2.10.0; extra == \"raytune\"->autogluon.core[raytune]==1.3.1->autogluon.timeseries) (0.11.4)\n",
      "Requirement already satisfied: prometheus-client>=0.7.1 in /Users/patricialorenasarmientotagle/langchain-academy/lc-academy-env/lib/python3.12/site-packages (from ray[default,tune]<2.45,>=2.10.0; extra == \"raytune\"->autogluon.core[raytune]==1.3.1->autogluon.timeseries) (0.22.1)\n",
      "Requirement already satisfied: smart-open in /Users/patricialorenasarmientotagle/langchain-academy/lc-academy-env/lib/python3.12/site-packages (from ray[default,tune]<2.45,>=2.10.0; extra == \"raytune\"->autogluon.core[raytune]==1.3.1->autogluon.timeseries) (7.1.0)\n",
      "Requirement already satisfied: virtualenv!=20.21.1,>=20.0.24 in /Users/patricialorenasarmientotagle/langchain-academy/lc-academy-env/lib/python3.12/site-packages (from ray[default,tune]<2.45,>=2.10.0; extra == \"raytune\"->autogluon.core[raytune]==1.3.1->autogluon.timeseries) (20.31.2)\n",
      "Requirement already satisfied: grpcio>=1.42.0 in /Users/patricialorenasarmientotagle/langchain-academy/lc-academy-env/lib/python3.12/site-packages (from ray[default,tune]<2.45,>=2.10.0; extra == \"raytune\"->autogluon.core[raytune]==1.3.1->autogluon.timeseries) (1.73.0)\n",
      "Requirement already satisfied: py-spy>=0.4.0 in /Users/patricialorenasarmientotagle/langchain-academy/lc-academy-env/lib/python3.12/site-packages (from ray[default,tune]<2.45,>=2.10.0; extra == \"raytune\"->autogluon.core[raytune]==1.3.1->autogluon.timeseries) (0.4.0)\n",
      "Requirement already satisfied: tensorboardX>=1.9 in /Users/patricialorenasarmientotagle/langchain-academy/lc-academy-env/lib/python3.12/site-packages (from ray[default,tune]<2.45,>=2.10.0; extra == \"raytune\"->autogluon.core[raytune]==1.3.1->autogluon.timeseries) (2.6.4)\n",
      "Requirement already satisfied: threadpoolctl>=3.1.0 in /Users/patricialorenasarmientotagle/langchain-academy/lc-academy-env/lib/python3.12/site-packages (from scikit-learn<1.7.0,>=1.4.0->autogluon.core==1.3.1->autogluon.core[raytune]==1.3.1->autogluon.timeseries) (3.6.0)\n",
      "Requirement already satisfied: statsmodels>=0.13.2 in /Users/patricialorenasarmientotagle/langchain-academy/lc-academy-env/lib/python3.12/site-packages (from statsforecast<2.0.2,>=1.7.0->autogluon.timeseries) (0.14.4)\n",
      "Requirement already satisfied: absl-py>=0.4 in /Users/patricialorenasarmientotagle/langchain-academy/lc-academy-env/lib/python3.12/site-packages (from tensorboard<3,>=2.9->autogluon.timeseries) (2.3.0)\n",
      "Requirement already satisfied: markdown>=2.6.8 in /Users/patricialorenasarmientotagle/langchain-academy/lc-academy-env/lib/python3.12/site-packages (from tensorboard<3,>=2.9->autogluon.timeseries) (3.8.2)\n",
      "Requirement already satisfied: tensorboard-data-server<0.8.0,>=0.7.0 in /Users/patricialorenasarmientotagle/langchain-academy/lc-academy-env/lib/python3.12/site-packages (from tensorboard<3,>=2.9->autogluon.timeseries) (0.7.2)\n",
      "Requirement already satisfied: werkzeug>=1.0.1 in /Users/patricialorenasarmientotagle/langchain-academy/lc-academy-env/lib/python3.12/site-packages (from tensorboard<3,>=2.9->autogluon.timeseries) (3.1.3)\n",
      "Requirement already satisfied: jinja2 in /Users/patricialorenasarmientotagle/langchain-academy/lc-academy-env/lib/python3.12/site-packages (from torch<2.7,>=2.2->autogluon.timeseries) (3.1.6)\n",
      "Requirement already satisfied: sympy==1.13.1 in /Users/patricialorenasarmientotagle/langchain-academy/lc-academy-env/lib/python3.12/site-packages (from torch<2.7,>=2.2->autogluon.timeseries) (1.13.1)\n",
      "Requirement already satisfied: mpmath<1.4,>=1.1.0 in /Users/patricialorenasarmientotagle/langchain-academy/lc-academy-env/lib/python3.12/site-packages (from sympy==1.13.1->torch<2.7,>=2.2->autogluon.timeseries) (1.3.0)\n",
      "Requirement already satisfied: regex!=2019.12.17 in /Users/patricialorenasarmientotagle/langchain-academy/lc-academy-env/lib/python3.12/site-packages (from transformers<4.50,>=4.38.0->transformers[sentencepiece]<4.50,>=4.38.0->autogluon.timeseries) (2024.11.6)\n",
      "Requirement already satisfied: tokenizers<0.22,>=0.21 in /Users/patricialorenasarmientotagle/langchain-academy/lc-academy-env/lib/python3.12/site-packages (from transformers<4.50,>=4.38.0->transformers[sentencepiece]<4.50,>=4.38.0->autogluon.timeseries) (0.21.2)\n",
      "Requirement already satisfied: hf-xet<2.0.0,>=1.1.2 in /Users/patricialorenasarmientotagle/langchain-academy/lc-academy-env/lib/python3.12/site-packages (from huggingface_hub>=0.21.0->accelerate<2.0,>=0.34.0->autogluon.timeseries) (1.1.5)\n",
      "Requirement already satisfied: sentencepiece!=0.1.92,>=0.1.91 in /Users/patricialorenasarmientotagle/langchain-academy/lc-academy-env/lib/python3.12/site-packages (from transformers[sentencepiece]<4.50,>=4.38.0->autogluon.timeseries) (0.2.0)\n",
      "Requirement already satisfied: aiohappyeyeballs>=2.5.0 in /Users/patricialorenasarmientotagle/langchain-academy/lc-academy-env/lib/python3.12/site-packages (from aiohttp!=4.0.0a0,!=4.0.0a1->fsspec[http]<2027.0,>=2022.5.0->lightning<2.7,>=2.2->autogluon.timeseries) (2.6.1)\n",
      "Requirement already satisfied: attrs>=17.3.0 in /Users/patricialorenasarmientotagle/langchain-academy/lc-academy-env/lib/python3.12/site-packages (from aiohttp!=4.0.0a0,!=4.0.0a1->fsspec[http]<2027.0,>=2022.5.0->lightning<2.7,>=2.2->autogluon.timeseries) (25.3.0)\n",
      "Requirement already satisfied: multidict<7.0,>=4.5 in /Users/patricialorenasarmientotagle/langchain-academy/lc-academy-env/lib/python3.12/site-packages (from aiohttp!=4.0.0a0,!=4.0.0a1->fsspec[http]<2027.0,>=2022.5.0->lightning<2.7,>=2.2->autogluon.timeseries) (6.5.0)\n",
      "Requirement already satisfied: propcache>=0.2.0 in /Users/patricialorenasarmientotagle/langchain-academy/lc-academy-env/lib/python3.12/site-packages (from aiohttp!=4.0.0a0,!=4.0.0a1->fsspec[http]<2027.0,>=2022.5.0->lightning<2.7,>=2.2->autogluon.timeseries) (0.3.2)\n",
      "Requirement already satisfied: yarl<2.0,>=1.17.0 in /Users/patricialorenasarmientotagle/langchain-academy/lc-academy-env/lib/python3.12/site-packages (from aiohttp!=4.0.0a0,!=4.0.0a1->fsspec[http]<2027.0,>=2022.5.0->lightning<2.7,>=2.2->autogluon.timeseries) (1.20.1)\n",
      "Requirement already satisfied: idna>=2.0 in /Users/patricialorenasarmientotagle/langchain-academy/lc-academy-env/lib/python3.12/site-packages (from yarl<2.0,>=1.17.0->aiohttp!=4.0.0a0,!=4.0.0a1->fsspec[http]<2027.0,>=2022.5.0->lightning<2.7,>=2.2->autogluon.timeseries) (3.10)\n",
      "Requirement already satisfied: triad>=0.9.7 in /Users/patricialorenasarmientotagle/langchain-academy/lc-academy-env/lib/python3.12/site-packages (from fugue>=0.9.0->autogluon.timeseries) (0.9.8)\n",
      "Requirement already satisfied: adagio>=0.2.4 in /Users/patricialorenasarmientotagle/langchain-academy/lc-academy-env/lib/python3.12/site-packages (from fugue>=0.9.0->autogluon.timeseries) (0.2.6)\n",
      "Requirement already satisfied: llvmlite<0.45,>=0.44.0dev0 in /Users/patricialorenasarmientotagle/langchain-academy/lc-academy-env/lib/python3.12/site-packages (from numba->mlforecast<0.14,>0.13->autogluon.timeseries) (0.44.0)\n",
      "Requirement already satisfied: patsy>=0.5.6 in /Users/patricialorenasarmientotagle/langchain-academy/lc-academy-env/lib/python3.12/site-packages (from statsmodels>=0.13.2->statsforecast<2.0.2,>=1.7.0->autogluon.timeseries) (1.0.1)\n",
      "Requirement already satisfied: fs in /Users/patricialorenasarmientotagle/langchain-academy/lc-academy-env/lib/python3.12/site-packages (from triad>=0.9.7->fugue>=0.9.0->autogluon.timeseries) (2.4.16)\n",
      "Requirement already satisfied: distlib<1,>=0.3.7 in /Users/patricialorenasarmientotagle/langchain-academy/lc-academy-env/lib/python3.12/site-packages (from virtualenv!=20.21.1,>=20.0.24->ray[default,tune]<2.45,>=2.10.0; extra == \"raytune\"->autogluon.core[raytune]==1.3.1->autogluon.timeseries) (0.3.9)\n",
      "Requirement already satisfied: platformdirs<5,>=3.9.1 in /Users/patricialorenasarmientotagle/langchain-academy/lc-academy-env/lib/python3.12/site-packages (from virtualenv!=20.21.1,>=20.0.24->ray[default,tune]<2.45,>=2.10.0; extra == \"raytune\"->autogluon.core[raytune]==1.3.1->autogluon.timeseries) (4.3.8)\n",
      "Requirement already satisfied: MarkupSafe>=2.1.1 in /Users/patricialorenasarmientotagle/langchain-academy/lc-academy-env/lib/python3.12/site-packages (from werkzeug>=1.0.1->tensorboard<3,>=2.9->autogluon.timeseries) (3.0.2)\n",
      "Requirement already satisfied: appdirs~=1.4.3 in /Users/patricialorenasarmientotagle/langchain-academy/lc-academy-env/lib/python3.12/site-packages (from fs->triad>=0.9.7->fugue>=0.9.0->autogluon.timeseries) (1.4.4)\n",
      "Requirement already satisfied: jsonschema-specifications>=2023.03.6 in /Users/patricialorenasarmientotagle/langchain-academy/lc-academy-env/lib/python3.12/site-packages (from jsonschema->ray<2.45,>=2.10.0->ray[default,tune]<2.45,>=2.10.0; extra == \"raytune\"->autogluon.core[raytune]==1.3.1->autogluon.timeseries) (2025.4.1)\n",
      "Requirement already satisfied: referencing>=0.28.4 in /Users/patricialorenasarmientotagle/langchain-academy/lc-academy-env/lib/python3.12/site-packages (from jsonschema->ray<2.45,>=2.10.0->ray[default,tune]<2.45,>=2.10.0; extra == \"raytune\"->autogluon.core[raytune]==1.3.1->autogluon.timeseries) (0.36.2)\n",
      "Requirement already satisfied: rpds-py>=0.7.1 in /Users/patricialorenasarmientotagle/langchain-academy/lc-academy-env/lib/python3.12/site-packages (from jsonschema->ray<2.45,>=2.10.0->ray[default,tune]<2.45,>=2.10.0; extra == \"raytune\"->autogluon.core[raytune]==1.3.1->autogluon.timeseries) (0.25.1)\n",
      "Requirement already satisfied: opencensus-context>=0.1.3 in /Users/patricialorenasarmientotagle/langchain-academy/lc-academy-env/lib/python3.12/site-packages (from opencensus->ray[default,tune]<2.45,>=2.10.0; extra == \"raytune\"->autogluon.core[raytune]==1.3.1->autogluon.timeseries) (0.1.3)\n",
      "Requirement already satisfied: google-api-core<3.0.0,>=1.0.0 in /Users/patricialorenasarmientotagle/langchain-academy/lc-academy-env/lib/python3.12/site-packages (from opencensus->ray[default,tune]<2.45,>=2.10.0; extra == \"raytune\"->autogluon.core[raytune]==1.3.1->autogluon.timeseries) (2.25.1)\n",
      "Requirement already satisfied: googleapis-common-protos<2.0.0,>=1.56.2 in /Users/patricialorenasarmientotagle/langchain-academy/lc-academy-env/lib/python3.12/site-packages (from google-api-core<3.0.0,>=1.0.0->opencensus->ray[default,tune]<2.45,>=2.10.0; extra == \"raytune\"->autogluon.core[raytune]==1.3.1->autogluon.timeseries) (1.70.0)\n",
      "Requirement already satisfied: proto-plus<2.0.0,>=1.22.3 in /Users/patricialorenasarmientotagle/langchain-academy/lc-academy-env/lib/python3.12/site-packages (from google-api-core<3.0.0,>=1.0.0->opencensus->ray[default,tune]<2.45,>=2.10.0; extra == \"raytune\"->autogluon.core[raytune]==1.3.1->autogluon.timeseries) (1.26.1)\n",
      "Requirement already satisfied: google-auth<3.0.0,>=2.14.1 in /Users/patricialorenasarmientotagle/langchain-academy/lc-academy-env/lib/python3.12/site-packages (from google-api-core<3.0.0,>=1.0.0->opencensus->ray[default,tune]<2.45,>=2.10.0; extra == \"raytune\"->autogluon.core[raytune]==1.3.1->autogluon.timeseries) (2.40.3)\n",
      "Requirement already satisfied: cachetools<6.0,>=2.0.0 in /Users/patricialorenasarmientotagle/langchain-academy/lc-academy-env/lib/python3.12/site-packages (from google-auth<3.0.0,>=2.14.1->google-api-core<3.0.0,>=1.0.0->opencensus->ray[default,tune]<2.45,>=2.10.0; extra == \"raytune\"->autogluon.core[raytune]==1.3.1->autogluon.timeseries) (5.5.2)\n",
      "Requirement already satisfied: pyasn1-modules>=0.2.1 in /Users/patricialorenasarmientotagle/langchain-academy/lc-academy-env/lib/python3.12/site-packages (from google-auth<3.0.0,>=2.14.1->google-api-core<3.0.0,>=1.0.0->opencensus->ray[default,tune]<2.45,>=2.10.0; extra == \"raytune\"->autogluon.core[raytune]==1.3.1->autogluon.timeseries) (0.4.2)\n",
      "Requirement already satisfied: rsa<5,>=3.1.4 in /Users/patricialorenasarmientotagle/langchain-academy/lc-academy-env/lib/python3.12/site-packages (from google-auth<3.0.0,>=2.14.1->google-api-core<3.0.0,>=1.0.0->opencensus->ray[default,tune]<2.45,>=2.10.0; extra == \"raytune\"->autogluon.core[raytune]==1.3.1->autogluon.timeseries) (4.9.1)\n",
      "Requirement already satisfied: charset_normalizer<4,>=2 in /Users/patricialorenasarmientotagle/langchain-academy/lc-academy-env/lib/python3.12/site-packages (from requests->autogluon.core==1.3.1->autogluon.core[raytune]==1.3.1->autogluon.timeseries) (3.4.2)\n",
      "Requirement already satisfied: certifi>=2017.4.17 in /Users/patricialorenasarmientotagle/langchain-academy/lc-academy-env/lib/python3.12/site-packages (from requests->autogluon.core==1.3.1->autogluon.core[raytune]==1.3.1->autogluon.timeseries) (2025.6.15)\n",
      "Requirement already satisfied: pyasn1>=0.1.3 in /Users/patricialorenasarmientotagle/langchain-academy/lc-academy-env/lib/python3.12/site-packages (from rsa<5,>=3.1.4->google-auth<3.0.0,>=2.14.1->google-api-core<3.0.0,>=1.0.0->opencensus->ray[default,tune]<2.45,>=2.10.0; extra == \"raytune\"->autogluon.core[raytune]==1.3.1->autogluon.timeseries) (0.6.1)\n",
      "Requirement already satisfied: alembic>=1.5.0 in /Users/patricialorenasarmientotagle/langchain-academy/lc-academy-env/lib/python3.12/site-packages (from optuna->mlforecast<0.14,>0.13->autogluon.timeseries) (1.16.2)\n",
      "Requirement already satisfied: colorlog in /Users/patricialorenasarmientotagle/langchain-academy/lc-academy-env/lib/python3.12/site-packages (from optuna->mlforecast<0.14,>0.13->autogluon.timeseries) (6.9.0)\n",
      "Requirement already satisfied: sqlalchemy>=1.4.2 in /Users/patricialorenasarmientotagle/langchain-academy/lc-academy-env/lib/python3.12/site-packages (from optuna->mlforecast<0.14,>0.13->autogluon.timeseries) (2.0.41)\n",
      "Requirement already satisfied: Mako in /Users/patricialorenasarmientotagle/langchain-academy/lc-academy-env/lib/python3.12/site-packages (from alembic>=1.5.0->optuna->mlforecast<0.14,>0.13->autogluon.timeseries) (1.3.10)\n",
      "Requirement already satisfied: narwhals>=1.15.1 in /Users/patricialorenasarmientotagle/langchain-academy/lc-academy-env/lib/python3.12/site-packages (from plotly->catboost<1.3,>=1.2->autogluon.tabular[catboost,lightgbm,xgboost]==1.3.1->autogluon.timeseries) (1.43.1)\n",
      "Requirement already satisfied: wrapt in /Users/patricialorenasarmientotagle/langchain-academy/lc-academy-env/lib/python3.12/site-packages (from smart-open->ray[default,tune]<2.45,>=2.10.0; extra == \"raytune\"->autogluon.core[raytune]==1.3.1->autogluon.timeseries) (1.17.2)\n",
      "Note: you may need to restart the kernel to use updated packages.\n"
     ]
    }
   ],
   "source": [
    "## 1. Importar librerías necesarias\n",
    "%pip install autogluon.timeseries"
   ]
  },
  {
   "cell_type": "code",
   "execution_count": 72,
   "id": "8f52d34a",
   "metadata": {},
   "outputs": [],
   "source": [
    "\n",
    "\n",
    "import pandas as pd\n",
    "from autogluon.timeseries import TimeSeriesPredictor, TimeSeriesDataFrame"
   ]
  },
  {
   "cell_type": "code",
   "execution_count": 73,
   "id": "74387549",
   "metadata": {},
   "outputs": [],
   "source": [
    "## 2. Cargar datasets\n",
    "df_sellin = pd.read_csv(\"sell-in.txt\", sep=\"\\t\")\n",
    "df_productos = pd.read_csv(\"tb_productos.txt\", sep=\"\\t\")"
   ]
  },
  {
   "cell_type": "code",
   "execution_count": 74,
   "id": "e14417ff",
   "metadata": {},
   "outputs": [],
   "source": [
    "# Leer lista de productos a predecir\n",
    "with open(\"product_id_apredecir201912.TXT\", \"r\") as f:\n",
    "    product_ids = [int(line.strip()) for line in f if line.strip().isdigit()]"
   ]
  },
  {
   "cell_type": "code",
   "execution_count": 75,
   "id": "b1527b4d",
   "metadata": {},
   "outputs": [],
   "source": [
    "## 3. Preprocesamiento\n",
    "# Convertir periodo a datetime\n",
    "df_sellin['timestamp'] = pd.to_datetime(df_sellin['periodo'], format='%Y%m')"
   ]
  },
  {
   "cell_type": "code",
   "execution_count": 76,
   "id": "1083376b",
   "metadata": {},
   "outputs": [],
   "source": [
    "# Filtrar hasta dic 2019 y productos requeridos\n",
    "df_filtered = df_sellin[\n",
    "    (df_sellin['timestamp'] <= '2019-12-01') &\n",
    "    (df_sellin['product_id'].isin(product_ids))\n",
    "]"
   ]
  },
  {
   "cell_type": "code",
   "execution_count": 77,
   "id": "bb3c4bac",
   "metadata": {},
   "outputs": [],
   "source": [
    "# Agregar tn por periodo, cliente y producto\n",
    "df_grouped = df_filtered.groupby(['timestamp', 'customer_id', 'product_id'], as_index=False)['tn'].sum()"
   ]
  },
  {
   "cell_type": "code",
   "execution_count": 78,
   "id": "3df0c480",
   "metadata": {},
   "outputs": [],
   "source": [
    "# Agregar tn total por periodo y producto\n",
    "df_monthly_product = df_grouped.groupby(['timestamp', 'product_id'], as_index=False)['tn'].sum()"
   ]
  },
  {
   "cell_type": "code",
   "execution_count": 56,
   "id": "065d2ca2",
   "metadata": {},
   "outputs": [],
   "source": [
    "# Agregar columna 'item_id' para AutoGluon\n",
    "df_monthly_product['item_id'] = df_monthly_product['product_id']"
   ]
  },
  {
   "cell_type": "code",
   "execution_count": 81,
   "id": "eb4e2dfb",
   "metadata": {},
   "outputs": [],
   "source": [
    "## 4. Crear TimeSeriesDataFrame\n",
    "# Asegurarse de que 'item_id' existe\n",
    "if 'item_id' not in df_monthly_product.columns:\n",
    "    df_monthly_product['item_id'] = df_monthly_product['product_id']\n",
    "\n",
    "ts_data = TimeSeriesDataFrame.from_data_frame(\n",
    "    df_monthly_product,\n",
    "    id_column='item_id',\n",
    "    timestamp_column='timestamp'\n",
    ")"
   ]
  },
  {
   "cell_type": "code",
   "execution_count": 82,
   "id": "92e7dcbe",
   "metadata": {},
   "outputs": [
    {
     "name": "stdout",
     "output_type": "stream",
     "text": [
      "            product_id          tn\n",
      "timestamp                         \n",
      "2017-01-01       20001   934.77222\n",
      "2017-02-01       20001   798.01620\n",
      "2017-03-01       20001  1303.35771\n",
      "2017-04-01       20001  1069.96130\n",
      "2017-05-01       20001  1502.20132\n",
      "2017-06-01       20001  1520.06539\n",
      "2017-07-01       20001  1030.67391\n",
      "2017-08-01       20001  1267.39462\n",
      "2017-09-01       20001  1316.94604\n",
      "2017-10-01       20001  1439.75563\n",
      "2017-11-01       20001  1580.47401\n",
      "2017-12-01       20001  1049.38860\n",
      "2018-01-01       20001  1169.07532\n",
      "2018-02-01       20001  1043.76470\n",
      "2018-03-01       20001  1856.83534\n",
      "2018-04-01       20001  1251.28462\n",
      "2018-05-01       20001  1293.89788\n",
      "2018-06-01       20001  1150.79169\n",
      "2018-07-01       20001  1470.41009\n",
      "2018-08-01       20001  1800.96168\n",
      "2018-09-01       20001  1438.67455\n",
      "2018-10-01       20001  2295.19832\n",
      "2018-11-01       20001  1813.01511\n",
      "2018-12-01       20001  1486.68669\n",
      "2019-01-01       20001  1275.77351\n",
      "2019-02-01       20001  1259.09363\n",
      "2019-03-01       20001  1470.65653\n",
      "2019-04-01       20001  1647.63848\n",
      "2019-05-01       20001  1629.78233\n",
      "2019-06-01       20001  1109.93769\n",
      "2019-07-01       20001  1678.99318\n",
      "2019-08-01       20001  1261.34529\n",
      "2019-09-01       20001  1660.00561\n",
      "2019-10-01       20001  1561.50552\n",
      "2019-11-01       20001  1397.37231\n",
      "2019-12-01       20001  1504.68856\n"
     ]
    }
   ],
   "source": [
    "print(ts_data.loc[20001])"
   ]
  },
  {
   "cell_type": "code",
   "execution_count": 83,
   "id": "ddac4147",
   "metadata": {},
   "outputs": [],
   "source": [
    "# Completar valores faltantes\n",
    "ts_data = ts_data.fill_missing_values()"
   ]
  },
  {
   "cell_type": "code",
   "execution_count": 60,
   "id": "5b7cc7be",
   "metadata": {},
   "outputs": [],
   "source": [
    "predictor = TimeSeriesPredictor(\n",
    "    prediction_length=2,  # Predecir 2 meses (enero y febrero 2020)\n",
    "    target='tn',\n",
    "    freq='MS',  # Frecuencia mensual (Month Start)\n",
    "    eval_metric='RMSE'\n",
    ")"
   ]
  },
  {
   "cell_type": "code",
   "execution_count": 84,
   "id": "f745c8d2",
   "metadata": {},
   "outputs": [
    {
     "name": "stderr",
     "output_type": "stream",
     "text": [
      "Beginning AutoGluon training...\n",
      "AutoGluon will save models to '/Users/patricialorenasarmientotagle/austral-labo-iii/notebooks/AutogluonModels/ag-20250627_201834'\n",
      "=================== System Info ===================\n",
      "AutoGluon Version:  1.3.1\n",
      "Python Version:     3.12.7\n",
      "Operating System:   Darwin\n",
      "Platform Machine:   arm64\n",
      "Platform Version:   Darwin Kernel Version 24.5.0: Tue Apr 22 19:53:27 PDT 2025; root:xnu-11417.121.6~2/RELEASE_ARM64_T6041\n",
      "CPU Count:          12\n",
      "GPU Count:          0\n",
      "Memory Avail:       5.76 GB / 24.00 GB (24.0%)\n",
      "Disk Space Avail:   249.47 GB / 460.43 GB (54.2%)\n",
      "===================================================\n",
      "\n",
      "Fitting with arguments:\n",
      "{'enable_ensemble': True,\n",
      " 'eval_metric': WQL,\n",
      " 'freq': 'MS',\n",
      " 'hyperparameters': {'Chronos': {},\n",
      "                     'DeepAR': {},\n",
      "                     'PatchTST': {},\n",
      "                     'TemporalFusionTransformer': {}},\n",
      " 'known_covariates_names': [],\n",
      " 'num_val_windows': 3,\n",
      " 'prediction_length': 2,\n",
      " 'quantile_levels': [0.1, 0.2, 0.3, 0.4, 0.5, 0.6, 0.7, 0.8, 0.9],\n",
      " 'random_seed': 123,\n",
      " 'refit_every_n_windows': 1,\n",
      " 'refit_full': False,\n",
      " 'skip_model_selection': False,\n",
      " 'target': 'tn',\n",
      " 'val_step_size': 1,\n",
      " 'verbosity': 2}\n",
      "\n",
      "train_data with frequency 'IRREG' has been resampled to frequency 'MS'.\n",
      "Provided train_data has 22375 rows (NaN fraction=0.1%), 780 time series. Median time series length is 36 (min=4, max=36). \n",
      "\tRemoving 75 short time series from train_data. Only series with length >= 9 will be used for training.\n",
      "\tAfter filtering, train_data has 21916 rows (NaN fraction=0.1%), 705 time series. Median time series length is 36 (min=9, max=36). \n",
      "\n",
      "Provided data contains following columns:\n",
      "\ttarget: 'tn'\n",
      "\tpast_covariates:\n",
      "\t\tcategorical:        []\n",
      "\t\tcontinuous (float): ['product_id']\n",
      "\n",
      "To learn how to fix incorrectly inferred types, please see documentation for TimeSeriesPredictor.fit\n",
      "\n",
      "AutoGluon will gauge predictive performance using evaluation metric: 'WQL'\n",
      "\tThis metric's sign has been flipped to adhere to being higher_is_better. The metric score can be multiplied by -1 to get the metric value.\n",
      "===================================================\n",
      "\n",
      "Starting training. Start time is 2025-06-27 17:18:35\n",
      "Models that will be trained: ['Chronos[autogluon__chronos-bolt-small]', 'TemporalFusionTransformer', 'DeepAR', 'PatchTST']\n",
      "Training timeseries model Chronos[autogluon__chronos-bolt-small]. \n",
      "\t-0.1913       = Validation score (-WQL)\n",
      "\t2.66    s     = Training runtime\n",
      "\t1.30    s     = Validation (prediction) runtime\n",
      "Training timeseries model TemporalFusionTransformer. \n",
      "\t-0.1828       = Validation score (-WQL)\n",
      "\t248.52  s     = Training runtime\n",
      "\t0.18    s     = Validation (prediction) runtime\n",
      "Training timeseries model DeepAR. \n",
      "\t-0.1844       = Validation score (-WQL)\n",
      "\t75.92   s     = Training runtime\n",
      "\t0.24    s     = Validation (prediction) runtime\n",
      "Training timeseries model PatchTST. \n",
      "\t-0.1843       = Validation score (-WQL)\n",
      "\t58.34   s     = Training runtime\n",
      "\t0.08    s     = Validation (prediction) runtime\n",
      "Fitting simple weighted ensemble.\n",
      "\tEnsemble weights: {'Chronos[autogluon__chronos-bolt-small]': 0.15, 'DeepAR': 0.33, 'PatchTST': 0.25, 'TemporalFusionTransformer': 0.28}\n",
      "\t-0.1744       = Validation score (-WQL)\n",
      "\t0.39    s     = Training runtime\n",
      "\t1.79    s     = Validation (prediction) runtime\n",
      "Training complete. Models trained: ['Chronos[autogluon__chronos-bolt-small]', 'TemporalFusionTransformer', 'DeepAR', 'PatchTST', 'WeightedEnsemble']\n",
      "Total runtime: 387.69 s\n",
      "Best model: WeightedEnsemble\n",
      "Best model score: -0.1744\n"
     ]
    },
    {
     "data": {
      "text/plain": [
       "<autogluon.timeseries.predictor.TimeSeriesPredictor at 0x3501a6a20>"
      ]
     },
     "execution_count": 84,
     "metadata": {},
     "output_type": "execute_result"
    }
   ],
   "source": [
    "# Si necesitas volver a entrenar, crea un nuevo predictor:\n",
    "new_predictor = TimeSeriesPredictor(\n",
    "    prediction_length=2,\n",
    "    target='tn',\n",
    "    freq='MS'\n",
    ")\n",
    "\n",
    "new_predictor.fit(\n",
    "    ts_data,\n",
    "    num_val_windows=3,\n",
    "    val_step_size=1,\n",
    "    hyperparameters={\n",
    "        'TemporalFusionTransformer': {},\n",
    "        'PatchTST': {},\n",
    "        'Chronos': {},\n",
    "        'DeepAR': {}\n",
    "    }\n",
    "    #time_limit=600,  # Opcional, en segundos (10 minutos)\n",
    "    #hyperparameters='default'  # Podés usar un dict para afinar modelos\n",
    ")"
   ]
  },
  {
   "cell_type": "code",
   "execution_count": 85,
   "id": "e85345d0",
   "metadata": {},
   "outputs": [
    {
     "data": {
      "text/html": [
       "<div>\n",
       "<style scoped>\n",
       "    .dataframe tbody tr th:only-of-type {\n",
       "        vertical-align: middle;\n",
       "    }\n",
       "\n",
       "    .dataframe tbody tr th {\n",
       "        vertical-align: top;\n",
       "    }\n",
       "\n",
       "    .dataframe thead th {\n",
       "        text-align: right;\n",
       "    }\n",
       "</style>\n",
       "<table border=\"1\" class=\"dataframe\">\n",
       "  <thead>\n",
       "    <tr style=\"text-align: right;\">\n",
       "      <th></th>\n",
       "      <th>model</th>\n",
       "      <th>score_val</th>\n",
       "      <th>pred_time_val</th>\n",
       "      <th>fit_time_marginal</th>\n",
       "      <th>fit_order</th>\n",
       "    </tr>\n",
       "  </thead>\n",
       "  <tbody>\n",
       "    <tr>\n",
       "      <th>0</th>\n",
       "      <td>WeightedEnsemble</td>\n",
       "      <td>-0.174446</td>\n",
       "      <td>1.791523</td>\n",
       "      <td>0.390831</td>\n",
       "      <td>5</td>\n",
       "    </tr>\n",
       "    <tr>\n",
       "      <th>1</th>\n",
       "      <td>TemporalFusionTransformer</td>\n",
       "      <td>-0.182780</td>\n",
       "      <td>0.176985</td>\n",
       "      <td>248.517770</td>\n",
       "      <td>2</td>\n",
       "    </tr>\n",
       "    <tr>\n",
       "      <th>2</th>\n",
       "      <td>PatchTST</td>\n",
       "      <td>-0.184279</td>\n",
       "      <td>0.079461</td>\n",
       "      <td>58.343336</td>\n",
       "      <td>4</td>\n",
       "    </tr>\n",
       "    <tr>\n",
       "      <th>3</th>\n",
       "      <td>DeepAR</td>\n",
       "      <td>-0.184423</td>\n",
       "      <td>0.239749</td>\n",
       "      <td>75.918770</td>\n",
       "      <td>3</td>\n",
       "    </tr>\n",
       "    <tr>\n",
       "      <th>4</th>\n",
       "      <td>Chronos[autogluon__chronos-bolt-small]</td>\n",
       "      <td>-0.191316</td>\n",
       "      <td>1.295328</td>\n",
       "      <td>2.663010</td>\n",
       "      <td>1</td>\n",
       "    </tr>\n",
       "  </tbody>\n",
       "</table>\n",
       "</div>"
      ],
      "text/plain": [
       "                                    model  score_val  pred_time_val  \\\n",
       "0                        WeightedEnsemble  -0.174446       1.791523   \n",
       "1               TemporalFusionTransformer  -0.182780       0.176985   \n",
       "2                                PatchTST  -0.184279       0.079461   \n",
       "3                                  DeepAR  -0.184423       0.239749   \n",
       "4  Chronos[autogluon__chronos-bolt-small]  -0.191316       1.295328   \n",
       "\n",
       "   fit_time_marginal  fit_order  \n",
       "0           0.390831          5  \n",
       "1         248.517770          2  \n",
       "2          58.343336          4  \n",
       "3          75.918770          3  \n",
       "4           2.663010          1  "
      ]
     },
     "execution_count": 85,
     "metadata": {},
     "output_type": "execute_result"
    }
   ],
   "source": [
    "new_predictor.leaderboard()"
   ]
  },
  {
   "cell_type": "code",
   "execution_count": 86,
   "id": "831890b4",
   "metadata": {},
   "outputs": [
    {
     "name": "stdout",
     "output_type": "stream",
     "text": [
      "780\n",
      "MS\n"
     ]
    }
   ],
   "source": [
    "print(ts_data.num_items)\n",
    "print(ts_data.freq)\n"
   ]
  },
  {
   "cell_type": "code",
   "execution_count": 87,
   "id": "2c27fefb",
   "metadata": {},
   "outputs": [
    {
     "name": "stderr",
     "output_type": "stream",
     "text": [
      "data with frequency 'IRREG' has been resampled to frequency 'MS'.\n",
      "Model not specified in predict, will default to the model with the best validation score: WeightedEnsemble\n"
     ]
    }
   ],
   "source": [
    "forecast = new_predictor.predict(ts_data)"
   ]
  },
  {
   "cell_type": "code",
   "execution_count": 88,
   "id": "2912e5b3",
   "metadata": {},
   "outputs": [
    {
     "name": "stdout",
     "output_type": "stream",
     "text": [
      "Index(['mean', '0.1', '0.2', '0.3', '0.4', '0.5', '0.6', '0.7', '0.8', '0.9'], dtype='object')\n"
     ]
    }
   ],
   "source": [
    "print(forecast.columns)\n"
   ]
  },
  {
   "cell_type": "code",
   "execution_count": 89,
   "id": "57205cb3",
   "metadata": {},
   "outputs": [
    {
     "name": "stdout",
     "output_type": "stream",
     "text": [
      "Index(['item_id', 'timestamp', 'mean'], dtype='object')\n"
     ]
    }
   ],
   "source": [
    "forecast_mean = forecast['mean'].reset_index()\n",
    "print(forecast_mean.columns)\n"
   ]
  },
  {
   "cell_type": "code",
   "execution_count": 90,
   "id": "d62a0982",
   "metadata": {},
   "outputs": [
    {
     "data": {
      "text/html": [
       "<div>\n",
       "<style scoped>\n",
       "    .dataframe tbody tr th:only-of-type {\n",
       "        vertical-align: middle;\n",
       "    }\n",
       "\n",
       "    .dataframe tbody tr th {\n",
       "        vertical-align: top;\n",
       "    }\n",
       "\n",
       "    .dataframe thead th {\n",
       "        text-align: right;\n",
       "    }\n",
       "</style>\n",
       "<table border=\"1\" class=\"dataframe\">\n",
       "  <thead>\n",
       "    <tr style=\"text-align: right;\">\n",
       "      <th></th>\n",
       "      <th>product_id</th>\n",
       "      <th>tn</th>\n",
       "    </tr>\n",
       "  </thead>\n",
       "  <tbody>\n",
       "    <tr>\n",
       "      <th>0</th>\n",
       "      <td>20001</td>\n",
       "      <td>1137.984424</td>\n",
       "    </tr>\n",
       "    <tr>\n",
       "      <th>1</th>\n",
       "      <td>20001</td>\n",
       "      <td>1122.156673</td>\n",
       "    </tr>\n",
       "    <tr>\n",
       "      <th>2</th>\n",
       "      <td>20002</td>\n",
       "      <td>1019.099588</td>\n",
       "    </tr>\n",
       "    <tr>\n",
       "      <th>3</th>\n",
       "      <td>20002</td>\n",
       "      <td>945.936847</td>\n",
       "    </tr>\n",
       "    <tr>\n",
       "      <th>4</th>\n",
       "      <td>20003</td>\n",
       "      <td>707.460762</td>\n",
       "    </tr>\n",
       "  </tbody>\n",
       "</table>\n",
       "</div>"
      ],
      "text/plain": [
       "   product_id           tn\n",
       "0       20001  1137.984424\n",
       "1       20001  1122.156673\n",
       "2       20002  1019.099588\n",
       "3       20002   945.936847\n",
       "4       20003   707.460762"
      ]
     },
     "execution_count": 90,
     "metadata": {},
     "output_type": "execute_result"
    }
   ],
   "source": [
    "# Tomar solo item_id y la predicción 'mean'\n",
    "resultado = forecast['mean'].reset_index()[['item_id', 'mean']]\n",
    "resultado.columns = ['product_id', 'tn']\n",
    "\n",
    "# Guardar a CSV\n",
    "resultado.to_csv(\"predicciones_febrero2020_2606_6.csv\", index=False)\n",
    "resultado.head()\n"
   ]
  },
  {
   "cell_type": "code",
   "execution_count": 95,
   "id": "d148292e",
   "metadata": {},
   "outputs": [
    {
     "name": "stdout",
     "output_type": "stream",
     "text": [
      "Archivo guardado como 'predicciones_febrero2020_tn_solo.csv'\n"
     ]
    }
   ],
   "source": [
    "import pandas as pd\n",
    "\n",
    "# Cargar el archivo original\n",
    "df = pd.read_csv('predicciones_febrero2020_2606_6.csv')\n",
    "\n",
    "# Filtrar solo la segunda fila por cada product_id\n",
    "febrero_df = df.groupby('product_id').nth(1).reset_index()\n",
    "\n",
    "# Renombrar product_id a product_id si querés que coincida con tus datos originales\n",
    "febrero_df = febrero_df.rename(columns={'product_id': 'product_id'})\n",
    "\n",
    "# Seleccionar solo las columnas deseadas\n",
    "febrero_final = febrero_df[['product_id', 'tn']]\n",
    "\n",
    "# Guardar sin índice\n",
    "febrero_final.to_csv('predicciones_febrero2020_tn_solo.csv', index=False)\n",
    "\n",
    "print(\"Archivo guardado como 'predicciones_febrero2020_tn_solo.csv'\")\n"
   ]
  },
  {
   "cell_type": "code",
   "execution_count": 96,
   "id": "3d327fd8",
   "metadata": {},
   "outputs": [],
   "source": [
    "# --- Cargar predicciones de AutoGluon ---\n",
    "df_autogluon = pd.read_csv(\"predicciones_febrero2020_tn_solo.csv\")  # columnas: product_id, tn\n",
    "\n",
    "# --- Cargar el promedio simple (ya lo calculaste) ---\n",
    "df_promedios = pd.read_csv(\"promedio_12m_febrero2020_2.csv\")  # columnas: product_id, tn\n",
    "\n",
    "# --- Renombrar columna del promedio para claridad ---\n",
    "df_promedios = df_promedios.rename(columns={\"tn\": \"tn_promedio\"})\n",
    "df_autogluon = df_autogluon.rename(columns={\"tn\": \"tn_autogluon\"})\n",
    "\n",
    "# --- Unir ambos resultados por product_id ---\n",
    "df_ensemble = df_autogluon.merge(df_promedios, on=\"product_id\", how=\"inner\")\n",
    "\n",
    "# --- Calcular promedio simple como ensemble ---\n",
    "df_ensemble[\"tn_ensemble\"] = (\n",
    "    df_ensemble[\"tn_autogluon\"] + df_ensemble[\"tn_promedio\"]\n",
    ") / 2\n",
    "\n",
    "# --- Guardar resultado final ---\n",
    "df_ensemble[[\"product_id\", \"tn_ensemble\"]].to_csv(\"ensemble_predicciones_febrero2020_tn_solo.csv\", index=False)\n"
   ]
  }
 ],
 "metadata": {
  "kernelspec": {
   "display_name": "lc-academy-env",
   "language": "python",
   "name": "python3"
  },
  "language_info": {
   "codemirror_mode": {
    "name": "ipython",
    "version": 3
   },
   "file_extension": ".py",
   "mimetype": "text/x-python",
   "name": "python",
   "nbconvert_exporter": "python",
   "pygments_lexer": "ipython3",
   "version": "3.12.7"
  }
 },
 "nbformat": 4,
 "nbformat_minor": 5
}
