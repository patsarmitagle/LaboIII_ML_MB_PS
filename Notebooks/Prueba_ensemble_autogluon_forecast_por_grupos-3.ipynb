{
 "cells": [
  {
   "cell_type": "markdown",
   "id": "13ccdf85",
   "metadata": {},
   "source": [
    "## Ensemble Autogluon + Promedio "
   ]
  },
  {
   "cell_type": "markdown",
   "id": "6f1b6d11",
   "metadata": {},
   "source": [
    "En este script se realiza un ensemble entre las predicciones de autogluon en las que logramos menor error y el promedio de 12 meses. La estrategia aplicada es la siguiente en base a las predicciones de febrero 2019 , se identifico un grupo de product id en los cuales el error era menor si se utilizaba como prediccion el promedio. "
   ]
  },
  {
   "cell_type": "code",
   "execution_count": 2,
   "id": "7473fc4d",
   "metadata": {},
   "outputs": [],
   "source": [
    "import pandas as pd\n",
    "import numpy as np"
   ]
  },
  {
   "cell_type": "code",
   "execution_count": 5,
   "id": "06f57af0",
   "metadata": {},
   "outputs": [],
   "source": [
    "# 1. Cargar los archivos\n",
    "\n",
    "df_autogluon = pd.read_csv(\"predicciones_febrero2020_01-07-25_2.csv\")\n",
    "df_promedios = pd.read_csv(\"promedio_12m_febrero2020_2.csv\")\n",
    "\n",
    "\n",
    "#product_preciso_23 = pd.read_csv(\"product_id_promedio_preciso_23.csv\")\n",
    "df_autogluon_preciso = pd.read_csv(\"product_id_autogluon_mejor.csv\")"
   ]
  },
  {
   "cell_type": "code",
   "execution_count": null,
   "id": "61f6cef3",
   "metadata": {},
   "outputs": [
    {
     "name": "stdout",
     "output_type": "stream",
     "text": [
      "    product_id          tn\n",
      "8        20009  541.322587\n",
      "10       20011  377.635440\n",
      "14       20015  369.023652\n",
      "17       20018  275.445111\n",
      "26       20027  230.014917\n"
     ]
    }
   ],
   "source": [
    "# Reemplazar las 'tn' en df_autogluon por las de df_promedios para los productos en product_preciso\n",
    "\n",
    "# Obtener los product_id precisos\n",
    "ids_precisos_autogluon = df_autogluon_preciso[\"product_id\"].tolist()\n",
    "\n",
    "# Crear un mapeo de tn desde df_promedios para los ids precisos\n",
    "tn_promedios_precisos_autogluon = df_autogluon.set_index(\"product_id\").loc[ids_precisos_autogluon, \"tn\"]\n",
    "\n",
    "# Reemplazar en df_promedios las 'tn' de los ids precisos\n",
    "df_autogluon.loc[df_autogluon[\"product_id\"].isin(ids_precisos_autogluon), \"tn\"] = \\\n",
    "    df_autogluon.loc[df_autogluon[\"product_id\"].isin(ids_precisos_autogluon), \"product_id\"].map(tn_promedios_precisos_autogluon)\n",
    "\n",
    "# Verificar reemplazo\n",
    "print(df_autogluon_23[df_autogluon_23[\"product_id\"].isin(ids_precisos_23)].head())"
   ]
  },
  {
   "cell_type": "code",
   "execution_count": 6,
   "id": "b8b4b925",
   "metadata": {},
   "outputs": [
    {
     "name": "stdout",
     "output_type": "stream",
     "text": [
      "Reemplazos realizados: 299\n"
     ]
    }
   ],
   "source": [
    "# Reemplazar en df_promedios las 'tn' de los product_id que están en df_autogluon_preciso por las 'tn' de df_autogluon\n",
    "\n",
    "# Obtener los product_id precisos\n",
    "ids_precisos = df_autogluon_preciso[\"product_id\"].tolist()\n",
    "\n",
    "# Crear un mapeo de tn desde df_autogluon para los ids precisos\n",
    "tn_autogluon_precisos = df_autogluon.set_index(\"product_id\").loc[ids_precisos, \"tn\"]\n",
    "\n",
    "# Realizar el reemplazo en df_promedios\n",
    "df_promedios.loc[df_promedios[\"product_id\"].isin(ids_precisos), \"tn\"] = \\\n",
    "    df_promedios.loc[df_promedios[\"product_id\"].isin(ids_precisos), \"product_id\"].map(tn_autogluon_precisos)\n",
    "\n",
    "# Controlar cantidad de reemplazos realizados\n",
    "reemplazos_realizados = df_promedios.loc[df_promedios[\"product_id\"].isin(ids_precisos)].shape[0]\n",
    "print(f\"Reemplazos realizados: {reemplazos_realizados}\")  # Debería ser 299"
   ]
  },
  {
   "cell_type": "code",
   "execution_count": 8,
   "id": "933ba989",
   "metadata": {},
   "outputs": [],
   "source": [
    "df_promedios[[\"product_id\", \"tn\"]].to_csv(\"df_ensemble_salida_200725_2.csv\", index=False)"
   ]
  }
 ],
 "metadata": {
  "kernelspec": {
   "display_name": "base",
   "language": "python",
   "name": "python3"
  },
  "language_info": {
   "codemirror_mode": {
    "name": "ipython",
    "version": 3
   },
   "file_extension": ".py",
   "mimetype": "text/x-python",
   "name": "python",
   "nbconvert_exporter": "python",
   "pygments_lexer": "ipython3",
   "version": "3.12.7"
  }
 },
 "nbformat": 4,
 "nbformat_minor": 5
}
