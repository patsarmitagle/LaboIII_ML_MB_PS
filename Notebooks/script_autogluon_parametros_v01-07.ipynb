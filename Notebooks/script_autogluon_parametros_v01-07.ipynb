{
 "cells": [
  {
   "cell_type": "code",
   "execution_count": 1,
   "id": "490c8917",
   "metadata": {},
   "outputs": [],
   "source": [
    "# AutoGluon - Predicción de ventas (tn) por producto para febrero 2020"
   ]
  },
  {
   "cell_type": "code",
   "execution_count": 2,
   "id": "8f52d34a",
   "metadata": {},
   "outputs": [],
   "source": [
    "## 1. Importar librerías necesarias\n",
    "import pandas as pd"
   ]
  },
  {
   "cell_type": "code",
   "execution_count": 3,
   "id": "a67eb1bb",
   "metadata": {},
   "outputs": [
    {
     "name": "stdout",
     "output_type": "stream",
     "text": [
      "Requirement already satisfied: autogluon.timeseries in c:\\users\\fraco\\anaconda3\\envs\\agluon39\\lib\\site-packages (1.3.1)\n",
      "Requirement already satisfied: joblib<2,>=1.1 in c:\\users\\fraco\\anaconda3\\envs\\agluon39\\lib\\site-packages (from autogluon.timeseries) (1.5.1)\n",
      "Requirement already satisfied: numpy<2.3.0,>=1.25.0 in c:\\users\\fraco\\anaconda3\\envs\\agluon39\\lib\\site-packages (from autogluon.timeseries) (2.0.1)\n",
      "Requirement already satisfied: scipy<1.16,>=1.5.4 in c:\\users\\fraco\\anaconda3\\envs\\agluon39\\lib\\site-packages (from autogluon.timeseries) (1.13.1)\n",
      "Requirement already satisfied: pandas<2.3.0,>=2.0.0 in c:\\users\\fraco\\anaconda3\\envs\\agluon39\\lib\\site-packages (from autogluon.timeseries) (2.2.3)\n",
      "Requirement already satisfied: torch<2.7,>=2.2 in c:\\users\\fraco\\anaconda3\\envs\\agluon39\\lib\\site-packages (from autogluon.timeseries) (2.6.0)\n",
      "Requirement already satisfied: lightning<2.7,>=2.2 in c:\\users\\fraco\\anaconda3\\envs\\agluon39\\lib\\site-packages (from autogluon.timeseries) (2.5.1.post0)\n",
      "Requirement already satisfied: pytorch-lightning in c:\\users\\fraco\\anaconda3\\envs\\agluon39\\lib\\site-packages (from autogluon.timeseries) (2.5.1.post0)\n",
      "Requirement already satisfied: transformers<4.50,>=4.38.0 in c:\\users\\fraco\\anaconda3\\envs\\agluon39\\lib\\site-packages (from transformers[sentencepiece]<4.50,>=4.38.0->autogluon.timeseries) (4.49.0)\n",
      "Requirement already satisfied: accelerate<2.0,>=0.34.0 in c:\\users\\fraco\\anaconda3\\envs\\agluon39\\lib\\site-packages (from autogluon.timeseries) (1.7.0)\n",
      "Requirement already satisfied: gluonts<0.17,>=0.15.0 in c:\\users\\fraco\\anaconda3\\envs\\agluon39\\lib\\site-packages (from autogluon.timeseries) (0.16.1)\n",
      "Requirement already satisfied: networkx<4,>=3.0 in c:\\users\\fraco\\anaconda3\\envs\\agluon39\\lib\\site-packages (from autogluon.timeseries) (3.2.1)\n",
      "Requirement already satisfied: statsforecast<2.0.2,>=1.7.0 in c:\\users\\fraco\\anaconda3\\envs\\agluon39\\lib\\site-packages (from autogluon.timeseries) (2.0.1)\n",
      "Requirement already satisfied: mlforecast<0.14,>0.13 in c:\\users\\fraco\\anaconda3\\envs\\agluon39\\lib\\site-packages (from autogluon.timeseries) (0.13.6)\n",
      "Requirement already satisfied: utilsforecast<0.2.11,>=0.2.3 in c:\\users\\fraco\\anaconda3\\envs\\agluon39\\lib\\site-packages (from autogluon.timeseries) (0.2.10)\n",
      "Requirement already satisfied: coreforecast<0.0.16,>=0.0.12 in c:\\users\\fraco\\anaconda3\\envs\\agluon39\\lib\\site-packages (from autogluon.timeseries) (0.0.15)\n",
      "Requirement already satisfied: fugue>=0.9.0 in c:\\users\\fraco\\anaconda3\\envs\\agluon39\\lib\\site-packages (from autogluon.timeseries) (0.9.1)\n",
      "Requirement already satisfied: tqdm<5,>=4.38 in c:\\users\\fraco\\anaconda3\\envs\\agluon39\\lib\\site-packages (from autogluon.timeseries) (4.67.1)\n",
      "Requirement already satisfied: orjson~=3.9 in c:\\users\\fraco\\anaconda3\\envs\\agluon39\\lib\\site-packages (from autogluon.timeseries) (3.10.18)\n",
      "Requirement already satisfied: tensorboard<3,>=2.9 in c:\\users\\fraco\\anaconda3\\envs\\agluon39\\lib\\site-packages (from autogluon.timeseries) (2.19.0)\n",
      "Requirement already satisfied: autogluon.core==1.3.1 in c:\\users\\fraco\\anaconda3\\envs\\agluon39\\lib\\site-packages (from autogluon.core[raytune]==1.3.1->autogluon.timeseries) (1.3.1)\n",
      "Requirement already satisfied: autogluon.common==1.3.1 in c:\\users\\fraco\\anaconda3\\envs\\agluon39\\lib\\site-packages (from autogluon.timeseries) (1.3.1)\n",
      "Requirement already satisfied: autogluon.features==1.3.1 in c:\\users\\fraco\\anaconda3\\envs\\agluon39\\lib\\site-packages (from autogluon.timeseries) (1.3.1)\n",
      "Requirement already satisfied: autogluon.tabular==1.3.1 in c:\\users\\fraco\\anaconda3\\envs\\agluon39\\lib\\site-packages (from autogluon.tabular[catboost,lightgbm,xgboost]==1.3.1->autogluon.timeseries) (1.3.1)\n",
      "Requirement already satisfied: boto3<2,>=1.10 in c:\\users\\fraco\\anaconda3\\envs\\agluon39\\lib\\site-packages (from autogluon.common==1.3.1->autogluon.timeseries) (1.38.34)\n",
      "Requirement already satisfied: psutil<7.1.0,>=5.7.3 in c:\\users\\fraco\\anaconda3\\envs\\agluon39\\lib\\site-packages (from autogluon.common==1.3.1->autogluon.timeseries) (7.0.0)\n",
      "Requirement already satisfied: scikit-learn<1.7.0,>=1.4.0 in c:\\users\\fraco\\anaconda3\\envs\\agluon39\\lib\\site-packages (from autogluon.core==1.3.1->autogluon.core[raytune]==1.3.1->autogluon.timeseries) (1.6.1)\n",
      "Requirement already satisfied: requests in c:\\users\\fraco\\anaconda3\\envs\\agluon39\\lib\\site-packages (from autogluon.core==1.3.1->autogluon.core[raytune]==1.3.1->autogluon.timeseries) (2.32.4)\n",
      "Requirement already satisfied: matplotlib<3.11,>=3.7.0 in c:\\users\\fraco\\anaconda3\\envs\\agluon39\\lib\\site-packages (from autogluon.core==1.3.1->autogluon.core[raytune]==1.3.1->autogluon.timeseries) (3.9.4)\n",
      "Requirement already satisfied: pyarrow>=15.0.0 in c:\\users\\fraco\\anaconda3\\envs\\agluon39\\lib\\site-packages (from autogluon.core[raytune]==1.3.1->autogluon.timeseries) (20.0.0)\n",
      "Requirement already satisfied: ray<2.45,>=2.10.0 in c:\\users\\fraco\\anaconda3\\envs\\agluon39\\lib\\site-packages (from ray[default,tune]<2.45,>=2.10.0; extra == \"raytune\"->autogluon.core[raytune]==1.3.1->autogluon.timeseries) (2.44.1)\n",
      "Requirement already satisfied: hyperopt<0.2.8,>=0.2.7 in c:\\users\\fraco\\anaconda3\\envs\\agluon39\\lib\\site-packages (from autogluon.core[raytune]==1.3.1->autogluon.timeseries) (0.2.7)\n",
      "Requirement already satisfied: xgboost<3.1,>=2.0 in c:\\users\\fraco\\anaconda3\\envs\\agluon39\\lib\\site-packages (from autogluon.tabular[catboost,lightgbm,xgboost]==1.3.1->autogluon.timeseries) (2.1.4)\n",
      "Requirement already satisfied: lightgbm<4.7,>=4.0 in c:\\users\\fraco\\anaconda3\\envs\\agluon39\\lib\\site-packages (from autogluon.tabular[catboost,lightgbm,xgboost]==1.3.1->autogluon.timeseries) (4.6.0)\n",
      "Requirement already satisfied: catboost<1.3,>=1.2 in c:\\users\\fraco\\anaconda3\\envs\\agluon39\\lib\\site-packages (from autogluon.tabular[catboost,lightgbm,xgboost]==1.3.1->autogluon.timeseries) (1.2.8)\n",
      "Requirement already satisfied: packaging>=20.0 in c:\\users\\fraco\\anaconda3\\envs\\agluon39\\lib\\site-packages (from accelerate<2.0,>=0.34.0->autogluon.timeseries) (24.2)\n",
      "Requirement already satisfied: pyyaml in c:\\users\\fraco\\anaconda3\\envs\\agluon39\\lib\\site-packages (from accelerate<2.0,>=0.34.0->autogluon.timeseries) (6.0.2)\n",
      "Requirement already satisfied: huggingface-hub>=0.21.0 in c:\\users\\fraco\\anaconda3\\envs\\agluon39\\lib\\site-packages (from accelerate<2.0,>=0.34.0->autogluon.timeseries) (0.32.5)\n",
      "Requirement already satisfied: safetensors>=0.4.3 in c:\\users\\fraco\\anaconda3\\envs\\agluon39\\lib\\site-packages (from accelerate<2.0,>=0.34.0->autogluon.timeseries) (0.5.3)\n",
      "Requirement already satisfied: botocore<1.39.0,>=1.38.34 in c:\\users\\fraco\\anaconda3\\envs\\agluon39\\lib\\site-packages (from boto3<2,>=1.10->autogluon.common==1.3.1->autogluon.timeseries) (1.38.34)\n",
      "Requirement already satisfied: jmespath<2.0.0,>=0.7.1 in c:\\users\\fraco\\anaconda3\\envs\\agluon39\\lib\\site-packages (from boto3<2,>=1.10->autogluon.common==1.3.1->autogluon.timeseries) (1.0.1)\n",
      "Requirement already satisfied: s3transfer<0.14.0,>=0.13.0 in c:\\users\\fraco\\anaconda3\\envs\\agluon39\\lib\\site-packages (from boto3<2,>=1.10->autogluon.common==1.3.1->autogluon.timeseries) (0.13.0)\n",
      "Requirement already satisfied: python-dateutil<3.0.0,>=2.1 in c:\\users\\fraco\\anaconda3\\envs\\agluon39\\lib\\site-packages (from botocore<1.39.0,>=1.38.34->boto3<2,>=1.10->autogluon.common==1.3.1->autogluon.timeseries) (2.9.0.post0)\n",
      "Requirement already satisfied: urllib3<1.27,>=1.25.4 in c:\\users\\fraco\\anaconda3\\envs\\agluon39\\lib\\site-packages (from botocore<1.39.0,>=1.38.34->boto3<2,>=1.10->autogluon.common==1.3.1->autogluon.timeseries) (1.26.20)\n",
      "Requirement already satisfied: graphviz in c:\\users\\fraco\\anaconda3\\envs\\agluon39\\lib\\site-packages (from catboost<1.3,>=1.2->autogluon.tabular[catboost,lightgbm,xgboost]==1.3.1->autogluon.timeseries) (0.20.3)\n",
      "Requirement already satisfied: plotly in c:\\users\\fraco\\anaconda3\\envs\\agluon39\\lib\\site-packages (from catboost<1.3,>=1.2->autogluon.tabular[catboost,lightgbm,xgboost]==1.3.1->autogluon.timeseries) (6.1.2)\n",
      "Requirement already satisfied: six in c:\\users\\fraco\\anaconda3\\envs\\agluon39\\lib\\site-packages (from catboost<1.3,>=1.2->autogluon.tabular[catboost,lightgbm,xgboost]==1.3.1->autogluon.timeseries) (1.17.0)\n",
      "Requirement already satisfied: pydantic<3,>=1.7 in c:\\users\\fraco\\anaconda3\\envs\\agluon39\\lib\\site-packages (from gluonts<0.17,>=0.15.0->autogluon.timeseries) (2.11.5)\n",
      "Requirement already satisfied: toolz~=0.10 in c:\\users\\fraco\\anaconda3\\envs\\agluon39\\lib\\site-packages (from gluonts<0.17,>=0.15.0->autogluon.timeseries) (0.12.1)\n",
      "Requirement already satisfied: typing-extensions~=4.0 in c:\\users\\fraco\\anaconda3\\envs\\agluon39\\lib\\site-packages (from gluonts<0.17,>=0.15.0->autogluon.timeseries) (4.14.0)\n",
      "Requirement already satisfied: future in c:\\users\\fraco\\anaconda3\\envs\\agluon39\\lib\\site-packages (from hyperopt<0.2.8,>=0.2.7->autogluon.core[raytune]==1.3.1->autogluon.timeseries) (1.0.0)\n",
      "Requirement already satisfied: cloudpickle in c:\\users\\fraco\\anaconda3\\envs\\agluon39\\lib\\site-packages (from hyperopt<0.2.8,>=0.2.7->autogluon.core[raytune]==1.3.1->autogluon.timeseries) (3.1.1)\n",
      "Requirement already satisfied: py4j in c:\\users\\fraco\\anaconda3\\envs\\agluon39\\lib\\site-packages (from hyperopt<0.2.8,>=0.2.7->autogluon.core[raytune]==1.3.1->autogluon.timeseries) (0.10.9.9)\n",
      "Requirement already satisfied: fsspec<2026.0,>=2022.5.0 in c:\\users\\fraco\\anaconda3\\envs\\agluon39\\lib\\site-packages (from fsspec[http]<2026.0,>=2022.5.0->lightning<2.7,>=2.2->autogluon.timeseries) (2025.5.1)\n",
      "Requirement already satisfied: lightning-utilities<2.0,>=0.10.0 in c:\\users\\fraco\\anaconda3\\envs\\agluon39\\lib\\site-packages (from lightning<2.7,>=2.2->autogluon.timeseries) (0.14.3)\n",
      "Requirement already satisfied: torchmetrics<3.0,>=0.7.0 in c:\\users\\fraco\\anaconda3\\envs\\agluon39\\lib\\site-packages (from lightning<2.7,>=2.2->autogluon.timeseries) (1.7.2)\n",
      "Requirement already satisfied: aiohttp!=4.0.0a0,!=4.0.0a1 in c:\\users\\fraco\\anaconda3\\envs\\agluon39\\lib\\site-packages (from fsspec[http]<2026.0,>=2022.5.0->lightning<2.7,>=2.2->autogluon.timeseries) (3.12.12)\n",
      "Requirement already satisfied: setuptools in c:\\users\\fraco\\anaconda3\\envs\\agluon39\\lib\\site-packages (from lightning-utilities<2.0,>=0.10.0->lightning<2.7,>=2.2->autogluon.timeseries) (78.1.1)\n",
      "Requirement already satisfied: contourpy>=1.0.1 in c:\\users\\fraco\\anaconda3\\envs\\agluon39\\lib\\site-packages (from matplotlib<3.11,>=3.7.0->autogluon.core==1.3.1->autogluon.core[raytune]==1.3.1->autogluon.timeseries) (1.3.0)\n",
      "Requirement already satisfied: cycler>=0.10 in c:\\users\\fraco\\anaconda3\\envs\\agluon39\\lib\\site-packages (from matplotlib<3.11,>=3.7.0->autogluon.core==1.3.1->autogluon.core[raytune]==1.3.1->autogluon.timeseries) (0.12.1)\n",
      "Requirement already satisfied: fonttools>=4.22.0 in c:\\users\\fraco\\anaconda3\\envs\\agluon39\\lib\\site-packages (from matplotlib<3.11,>=3.7.0->autogluon.core==1.3.1->autogluon.core[raytune]==1.3.1->autogluon.timeseries) (4.58.2)\n",
      "Requirement already satisfied: kiwisolver>=1.3.1 in c:\\users\\fraco\\anaconda3\\envs\\agluon39\\lib\\site-packages (from matplotlib<3.11,>=3.7.0->autogluon.core==1.3.1->autogluon.core[raytune]==1.3.1->autogluon.timeseries) (1.4.7)\n",
      "Requirement already satisfied: pillow>=8 in c:\\users\\fraco\\anaconda3\\envs\\agluon39\\lib\\site-packages (from matplotlib<3.11,>=3.7.0->autogluon.core==1.3.1->autogluon.core[raytune]==1.3.1->autogluon.timeseries) (11.2.1)\n",
      "Requirement already satisfied: pyparsing>=2.3.1 in c:\\users\\fraco\\anaconda3\\envs\\agluon39\\lib\\site-packages (from matplotlib<3.11,>=3.7.0->autogluon.core==1.3.1->autogluon.core[raytune]==1.3.1->autogluon.timeseries) (3.2.3)\n",
      "Requirement already satisfied: importlib-resources>=3.2.0 in c:\\users\\fraco\\anaconda3\\envs\\agluon39\\lib\\site-packages (from matplotlib<3.11,>=3.7.0->autogluon.core==1.3.1->autogluon.core[raytune]==1.3.1->autogluon.timeseries) (6.5.2)\n",
      "Requirement already satisfied: numba in c:\\users\\fraco\\anaconda3\\envs\\agluon39\\lib\\site-packages (from mlforecast<0.14,>0.13->autogluon.timeseries) (0.60.0)\n",
      "Requirement already satisfied: optuna in c:\\users\\fraco\\anaconda3\\envs\\agluon39\\lib\\site-packages (from mlforecast<0.14,>0.13->autogluon.timeseries) (4.3.0)\n",
      "Requirement already satisfied: window-ops in c:\\users\\fraco\\anaconda3\\envs\\agluon39\\lib\\site-packages (from mlforecast<0.14,>0.13->autogluon.timeseries) (0.0.15)\n",
      "Requirement already satisfied: pytz>=2020.1 in c:\\users\\fraco\\anaconda3\\envs\\agluon39\\lib\\site-packages (from pandas<2.3.0,>=2.0.0->autogluon.timeseries) (2024.1)\n",
      "Requirement already satisfied: tzdata>=2022.7 in c:\\users\\fraco\\anaconda3\\envs\\agluon39\\lib\\site-packages (from pandas<2.3.0,>=2.0.0->autogluon.timeseries) (2025.2)\n",
      "Requirement already satisfied: annotated-types>=0.6.0 in c:\\users\\fraco\\anaconda3\\envs\\agluon39\\lib\\site-packages (from pydantic<3,>=1.7->gluonts<0.17,>=0.15.0->autogluon.timeseries) (0.7.0)\n",
      "Requirement already satisfied: pydantic-core==2.33.2 in c:\\users\\fraco\\anaconda3\\envs\\agluon39\\lib\\site-packages (from pydantic<3,>=1.7->gluonts<0.17,>=0.15.0->autogluon.timeseries) (2.33.2)\n",
      "Requirement already satisfied: typing-inspection>=0.4.0 in c:\\users\\fraco\\anaconda3\\envs\\agluon39\\lib\\site-packages (from pydantic<3,>=1.7->gluonts<0.17,>=0.15.0->autogluon.timeseries) (0.4.1)\n",
      "Requirement already satisfied: click>=7.0 in c:\\users\\fraco\\anaconda3\\envs\\agluon39\\lib\\site-packages (from ray<2.45,>=2.10.0->ray[default,tune]<2.45,>=2.10.0; extra == \"raytune\"->autogluon.core[raytune]==1.3.1->autogluon.timeseries) (8.1.8)\n",
      "Requirement already satisfied: filelock in c:\\users\\fraco\\anaconda3\\envs\\agluon39\\lib\\site-packages (from ray<2.45,>=2.10.0->ray[default,tune]<2.45,>=2.10.0; extra == \"raytune\"->autogluon.core[raytune]==1.3.1->autogluon.timeseries) (3.18.0)\n",
      "Requirement already satisfied: jsonschema in c:\\users\\fraco\\anaconda3\\envs\\agluon39\\lib\\site-packages (from ray<2.45,>=2.10.0->ray[default,tune]<2.45,>=2.10.0; extra == \"raytune\"->autogluon.core[raytune]==1.3.1->autogluon.timeseries) (4.24.0)\n",
      "Requirement already satisfied: msgpack<2.0.0,>=1.0.0 in c:\\users\\fraco\\anaconda3\\envs\\agluon39\\lib\\site-packages (from ray<2.45,>=2.10.0->ray[default,tune]<2.45,>=2.10.0; extra == \"raytune\"->autogluon.core[raytune]==1.3.1->autogluon.timeseries) (1.1.0)\n",
      "Requirement already satisfied: protobuf!=3.19.5,>=3.15.3 in c:\\users\\fraco\\anaconda3\\envs\\agluon39\\lib\\site-packages (from ray<2.45,>=2.10.0->ray[default,tune]<2.45,>=2.10.0; extra == \"raytune\"->autogluon.core[raytune]==1.3.1->autogluon.timeseries) (6.31.1)\n",
      "Requirement already satisfied: aiosignal in c:\\users\\fraco\\anaconda3\\envs\\agluon39\\lib\\site-packages (from ray<2.45,>=2.10.0->ray[default,tune]<2.45,>=2.10.0; extra == \"raytune\"->autogluon.core[raytune]==1.3.1->autogluon.timeseries) (1.3.2)\n",
      "Requirement already satisfied: frozenlist in c:\\users\\fraco\\anaconda3\\envs\\agluon39\\lib\\site-packages (from ray<2.45,>=2.10.0->ray[default,tune]<2.45,>=2.10.0; extra == \"raytune\"->autogluon.core[raytune]==1.3.1->autogluon.timeseries) (1.7.0)\n",
      "Requirement already satisfied: tensorboardX>=1.9 in c:\\users\\fraco\\anaconda3\\envs\\agluon39\\lib\\site-packages (from ray[default,tune]<2.45,>=2.10.0; extra == \"raytune\"->autogluon.core[raytune]==1.3.1->autogluon.timeseries) (2.6.4)\n",
      "Requirement already satisfied: aiohttp_cors in c:\\users\\fraco\\anaconda3\\envs\\agluon39\\lib\\site-packages (from ray[default,tune]<2.45,>=2.10.0; extra == \"raytune\"->autogluon.core[raytune]==1.3.1->autogluon.timeseries) (0.8.1)\n",
      "Requirement already satisfied: colorful in c:\\users\\fraco\\anaconda3\\envs\\agluon39\\lib\\site-packages (from ray[default,tune]<2.45,>=2.10.0; extra == \"raytune\"->autogluon.core[raytune]==1.3.1->autogluon.timeseries) (0.5.6)\n",
      "Requirement already satisfied: py-spy>=0.2.0 in c:\\users\\fraco\\anaconda3\\envs\\agluon39\\lib\\site-packages (from ray[default,tune]<2.45,>=2.10.0; extra == \"raytune\"->autogluon.core[raytune]==1.3.1->autogluon.timeseries) (0.4.0)\n",
      "Requirement already satisfied: grpcio>=1.32.0 in c:\\users\\fraco\\anaconda3\\envs\\agluon39\\lib\\site-packages (from ray[default,tune]<2.45,>=2.10.0; extra == \"raytune\"->autogluon.core[raytune]==1.3.1->autogluon.timeseries) (1.73.0)\n",
      "Requirement already satisfied: opencensus in c:\\users\\fraco\\anaconda3\\envs\\agluon39\\lib\\site-packages (from ray[default,tune]<2.45,>=2.10.0; extra == \"raytune\"->autogluon.core[raytune]==1.3.1->autogluon.timeseries) (0.11.4)\n",
      "Requirement already satisfied: prometheus_client>=0.7.1 in c:\\users\\fraco\\anaconda3\\envs\\agluon39\\lib\\site-packages (from ray[default,tune]<2.45,>=2.10.0; extra == \"raytune\"->autogluon.core[raytune]==1.3.1->autogluon.timeseries) (0.22.1)\n",
      "Requirement already satisfied: smart_open in c:\\users\\fraco\\anaconda3\\envs\\agluon39\\lib\\site-packages (from ray[default,tune]<2.45,>=2.10.0; extra == \"raytune\"->autogluon.core[raytune]==1.3.1->autogluon.timeseries) (7.1.0)\n",
      "Requirement already satisfied: virtualenv!=20.21.1,>=20.0.24 in c:\\users\\fraco\\anaconda3\\envs\\agluon39\\lib\\site-packages (from ray[default,tune]<2.45,>=2.10.0; extra == \"raytune\"->autogluon.core[raytune]==1.3.1->autogluon.timeseries) (20.31.2)\n",
      "Requirement already satisfied: threadpoolctl>=3.1.0 in c:\\users\\fraco\\anaconda3\\envs\\agluon39\\lib\\site-packages (from scikit-learn<1.7.0,>=1.4.0->autogluon.core==1.3.1->autogluon.core[raytune]==1.3.1->autogluon.timeseries) (3.6.0)\n",
      "Requirement already satisfied: statsmodels>=0.13.2 in c:\\users\\fraco\\anaconda3\\envs\\agluon39\\lib\\site-packages (from statsforecast<2.0.2,>=1.7.0->autogluon.timeseries) (0.14.4)\n",
      "Requirement already satisfied: absl-py>=0.4 in c:\\users\\fraco\\anaconda3\\envs\\agluon39\\lib\\site-packages (from tensorboard<3,>=2.9->autogluon.timeseries) (2.3.0)\n",
      "Requirement already satisfied: markdown>=2.6.8 in c:\\users\\fraco\\anaconda3\\envs\\agluon39\\lib\\site-packages (from tensorboard<3,>=2.9->autogluon.timeseries) (3.8)\n",
      "Requirement already satisfied: tensorboard-data-server<0.8.0,>=0.7.0 in c:\\users\\fraco\\anaconda3\\envs\\agluon39\\lib\\site-packages (from tensorboard<3,>=2.9->autogluon.timeseries) (0.7.2)\n",
      "Requirement already satisfied: werkzeug>=1.0.1 in c:\\users\\fraco\\anaconda3\\envs\\agluon39\\lib\\site-packages (from tensorboard<3,>=2.9->autogluon.timeseries) (3.1.3)\n",
      "Requirement already satisfied: jinja2 in c:\\users\\fraco\\anaconda3\\envs\\agluon39\\lib\\site-packages (from torch<2.7,>=2.2->autogluon.timeseries) (3.1.6)\n",
      "Requirement already satisfied: sympy==1.13.1 in c:\\users\\fraco\\anaconda3\\envs\\agluon39\\lib\\site-packages (from torch<2.7,>=2.2->autogluon.timeseries) (1.13.1)\n",
      "Requirement already satisfied: mpmath<1.4,>=1.1.0 in c:\\users\\fraco\\anaconda3\\envs\\agluon39\\lib\\site-packages (from sympy==1.13.1->torch<2.7,>=2.2->autogluon.timeseries) (1.3.0)\n",
      "Requirement already satisfied: colorama in c:\\users\\fraco\\anaconda3\\envs\\agluon39\\lib\\site-packages (from tqdm<5,>=4.38->autogluon.timeseries) (0.4.6)\n",
      "Requirement already satisfied: regex!=2019.12.17 in c:\\users\\fraco\\anaconda3\\envs\\agluon39\\lib\\site-packages (from transformers<4.50,>=4.38.0->transformers[sentencepiece]<4.50,>=4.38.0->autogluon.timeseries) (2024.11.6)\n",
      "Requirement already satisfied: tokenizers<0.22,>=0.21 in c:\\users\\fraco\\anaconda3\\envs\\agluon39\\lib\\site-packages (from transformers<4.50,>=4.38.0->transformers[sentencepiece]<4.50,>=4.38.0->autogluon.timeseries) (0.21.1)\n",
      "Requirement already satisfied: sentencepiece!=0.1.92,>=0.1.91 in c:\\users\\fraco\\anaconda3\\envs\\agluon39\\lib\\site-packages (from transformers[sentencepiece]<4.50,>=4.38.0->autogluon.timeseries) (0.2.0)\n",
      "Requirement already satisfied: aiohappyeyeballs>=2.5.0 in c:\\users\\fraco\\anaconda3\\envs\\agluon39\\lib\\site-packages (from aiohttp!=4.0.0a0,!=4.0.0a1->fsspec[http]<2026.0,>=2022.5.0->lightning<2.7,>=2.2->autogluon.timeseries) (2.6.1)\n",
      "Requirement already satisfied: async-timeout<6.0,>=4.0 in c:\\users\\fraco\\anaconda3\\envs\\agluon39\\lib\\site-packages (from aiohttp!=4.0.0a0,!=4.0.0a1->fsspec[http]<2026.0,>=2022.5.0->lightning<2.7,>=2.2->autogluon.timeseries) (5.0.1)\n",
      "Requirement already satisfied: attrs>=17.3.0 in c:\\users\\fraco\\anaconda3\\envs\\agluon39\\lib\\site-packages (from aiohttp!=4.0.0a0,!=4.0.0a1->fsspec[http]<2026.0,>=2022.5.0->lightning<2.7,>=2.2->autogluon.timeseries) (25.3.0)\n",
      "Requirement already satisfied: multidict<7.0,>=4.5 in c:\\users\\fraco\\anaconda3\\envs\\agluon39\\lib\\site-packages (from aiohttp!=4.0.0a0,!=4.0.0a1->fsspec[http]<2026.0,>=2022.5.0->lightning<2.7,>=2.2->autogluon.timeseries) (6.4.4)\n",
      "Requirement already satisfied: propcache>=0.2.0 in c:\\users\\fraco\\anaconda3\\envs\\agluon39\\lib\\site-packages (from aiohttp!=4.0.0a0,!=4.0.0a1->fsspec[http]<2026.0,>=2022.5.0->lightning<2.7,>=2.2->autogluon.timeseries) (0.3.2)\n",
      "Requirement already satisfied: yarl<2.0,>=1.17.0 in c:\\users\\fraco\\anaconda3\\envs\\agluon39\\lib\\site-packages (from aiohttp!=4.0.0a0,!=4.0.0a1->fsspec[http]<2026.0,>=2022.5.0->lightning<2.7,>=2.2->autogluon.timeseries) (1.20.1)\n",
      "Requirement already satisfied: idna>=2.0 in c:\\users\\fraco\\anaconda3\\envs\\agluon39\\lib\\site-packages (from yarl<2.0,>=1.17.0->aiohttp!=4.0.0a0,!=4.0.0a1->fsspec[http]<2026.0,>=2022.5.0->lightning<2.7,>=2.2->autogluon.timeseries) (3.10)\n",
      "Requirement already satisfied: triad>=0.9.7 in c:\\users\\fraco\\anaconda3\\envs\\agluon39\\lib\\site-packages (from fugue>=0.9.0->autogluon.timeseries) (0.9.8)\n",
      "Requirement already satisfied: adagio>=0.2.4 in c:\\users\\fraco\\anaconda3\\envs\\agluon39\\lib\\site-packages (from fugue>=0.9.0->autogluon.timeseries) (0.2.6)\n",
      "Requirement already satisfied: zipp>=3.1.0 in c:\\users\\fraco\\anaconda3\\envs\\agluon39\\lib\\site-packages (from importlib-resources>=3.2.0->matplotlib<3.11,>=3.7.0->autogluon.core==1.3.1->autogluon.core[raytune]==1.3.1->autogluon.timeseries) (3.23.0)\n",
      "Requirement already satisfied: importlib-metadata>=4.4 in c:\\users\\fraco\\anaconda3\\envs\\agluon39\\lib\\site-packages (from markdown>=2.6.8->tensorboard<3,>=2.9->autogluon.timeseries) (8.7.0)\n",
      "Requirement already satisfied: llvmlite<0.44,>=0.43.0dev0 in c:\\users\\fraco\\anaconda3\\envs\\agluon39\\lib\\site-packages (from numba->mlforecast<0.14,>0.13->autogluon.timeseries) (0.43.0)\n",
      "Requirement already satisfied: patsy>=0.5.6 in c:\\users\\fraco\\anaconda3\\envs\\agluon39\\lib\\site-packages (from statsmodels>=0.13.2->statsforecast<2.0.2,>=1.7.0->autogluon.timeseries) (1.0.1)\n",
      "Requirement already satisfied: fs in c:\\users\\fraco\\anaconda3\\envs\\agluon39\\lib\\site-packages (from triad>=0.9.7->fugue>=0.9.0->autogluon.timeseries) (2.4.16)\n",
      "Requirement already satisfied: distlib<1,>=0.3.7 in c:\\users\\fraco\\anaconda3\\envs\\agluon39\\lib\\site-packages (from virtualenv!=20.21.1,>=20.0.24->ray[default,tune]<2.45,>=2.10.0; extra == \"raytune\"->autogluon.core[raytune]==1.3.1->autogluon.timeseries) (0.3.9)\n",
      "Requirement already satisfied: platformdirs<5,>=3.9.1 in c:\\users\\fraco\\anaconda3\\envs\\agluon39\\lib\\site-packages (from virtualenv!=20.21.1,>=20.0.24->ray[default,tune]<2.45,>=2.10.0; extra == \"raytune\"->autogluon.core[raytune]==1.3.1->autogluon.timeseries) (4.3.8)\n",
      "Requirement already satisfied: MarkupSafe>=2.1.1 in c:\\users\\fraco\\anaconda3\\envs\\agluon39\\lib\\site-packages (from werkzeug>=1.0.1->tensorboard<3,>=2.9->autogluon.timeseries) (3.0.2)\n",
      "Requirement already satisfied: appdirs~=1.4.3 in c:\\users\\fraco\\anaconda3\\envs\\agluon39\\lib\\site-packages (from fs->triad>=0.9.7->fugue>=0.9.0->autogluon.timeseries) (1.4.4)\n",
      "Requirement already satisfied: jsonschema-specifications>=2023.03.6 in c:\\users\\fraco\\anaconda3\\envs\\agluon39\\lib\\site-packages (from jsonschema->ray<2.45,>=2.10.0->ray[default,tune]<2.45,>=2.10.0; extra == \"raytune\"->autogluon.core[raytune]==1.3.1->autogluon.timeseries) (2025.4.1)\n",
      "Requirement already satisfied: referencing>=0.28.4 in c:\\users\\fraco\\anaconda3\\envs\\agluon39\\lib\\site-packages (from jsonschema->ray<2.45,>=2.10.0->ray[default,tune]<2.45,>=2.10.0; extra == \"raytune\"->autogluon.core[raytune]==1.3.1->autogluon.timeseries) (0.36.2)\n",
      "Requirement already satisfied: rpds-py>=0.7.1 in c:\\users\\fraco\\anaconda3\\envs\\agluon39\\lib\\site-packages (from jsonschema->ray<2.45,>=2.10.0->ray[default,tune]<2.45,>=2.10.0; extra == \"raytune\"->autogluon.core[raytune]==1.3.1->autogluon.timeseries) (0.25.1)\n",
      "Requirement already satisfied: opencensus-context>=0.1.3 in c:\\users\\fraco\\anaconda3\\envs\\agluon39\\lib\\site-packages (from opencensus->ray[default,tune]<2.45,>=2.10.0; extra == \"raytune\"->autogluon.core[raytune]==1.3.1->autogluon.timeseries) (0.1.3)\n",
      "Requirement already satisfied: google-api-core<3.0.0,>=1.0.0 in c:\\users\\fraco\\anaconda3\\envs\\agluon39\\lib\\site-packages (from opencensus->ray[default,tune]<2.45,>=2.10.0; extra == \"raytune\"->autogluon.core[raytune]==1.3.1->autogluon.timeseries) (2.25.0)\n",
      "Requirement already satisfied: googleapis-common-protos<2.0.0,>=1.56.2 in c:\\users\\fraco\\anaconda3\\envs\\agluon39\\lib\\site-packages (from google-api-core<3.0.0,>=1.0.0->opencensus->ray[default,tune]<2.45,>=2.10.0; extra == \"raytune\"->autogluon.core[raytune]==1.3.1->autogluon.timeseries) (1.70.0)\n",
      "Requirement already satisfied: proto-plus<2.0.0,>=1.22.3 in c:\\users\\fraco\\anaconda3\\envs\\agluon39\\lib\\site-packages (from google-api-core<3.0.0,>=1.0.0->opencensus->ray[default,tune]<2.45,>=2.10.0; extra == \"raytune\"->autogluon.core[raytune]==1.3.1->autogluon.timeseries) (1.26.1)\n",
      "Requirement already satisfied: google-auth<3.0.0,>=2.14.1 in c:\\users\\fraco\\anaconda3\\envs\\agluon39\\lib\\site-packages (from google-api-core<3.0.0,>=1.0.0->opencensus->ray[default,tune]<2.45,>=2.10.0; extra == \"raytune\"->autogluon.core[raytune]==1.3.1->autogluon.timeseries) (2.40.3)\n",
      "Requirement already satisfied: cachetools<6.0,>=2.0.0 in c:\\users\\fraco\\anaconda3\\envs\\agluon39\\lib\\site-packages (from google-auth<3.0.0,>=2.14.1->google-api-core<3.0.0,>=1.0.0->opencensus->ray[default,tune]<2.45,>=2.10.0; extra == \"raytune\"->autogluon.core[raytune]==1.3.1->autogluon.timeseries) (5.5.2)\n",
      "Requirement already satisfied: pyasn1-modules>=0.2.1 in c:\\users\\fraco\\anaconda3\\envs\\agluon39\\lib\\site-packages (from google-auth<3.0.0,>=2.14.1->google-api-core<3.0.0,>=1.0.0->opencensus->ray[default,tune]<2.45,>=2.10.0; extra == \"raytune\"->autogluon.core[raytune]==1.3.1->autogluon.timeseries) (0.4.2)\n",
      "Requirement already satisfied: rsa<5,>=3.1.4 in c:\\users\\fraco\\anaconda3\\envs\\agluon39\\lib\\site-packages (from google-auth<3.0.0,>=2.14.1->google-api-core<3.0.0,>=1.0.0->opencensus->ray[default,tune]<2.45,>=2.10.0; extra == \"raytune\"->autogluon.core[raytune]==1.3.1->autogluon.timeseries) (4.9.1)\n",
      "Requirement already satisfied: charset_normalizer<4,>=2 in c:\\users\\fraco\\anaconda3\\envs\\agluon39\\lib\\site-packages (from requests->autogluon.core==1.3.1->autogluon.core[raytune]==1.3.1->autogluon.timeseries) (3.4.2)\n",
      "Requirement already satisfied: certifi>=2017.4.17 in c:\\users\\fraco\\anaconda3\\envs\\agluon39\\lib\\site-packages (from requests->autogluon.core==1.3.1->autogluon.core[raytune]==1.3.1->autogluon.timeseries) (2025.4.26)\n",
      "Requirement already satisfied: pyasn1>=0.1.3 in c:\\users\\fraco\\anaconda3\\envs\\agluon39\\lib\\site-packages (from rsa<5,>=3.1.4->google-auth<3.0.0,>=2.14.1->google-api-core<3.0.0,>=1.0.0->opencensus->ray[default,tune]<2.45,>=2.10.0; extra == \"raytune\"->autogluon.core[raytune]==1.3.1->autogluon.timeseries) (0.6.1)\n",
      "Requirement already satisfied: alembic>=1.5.0 in c:\\users\\fraco\\anaconda3\\envs\\agluon39\\lib\\site-packages (from optuna->mlforecast<0.14,>0.13->autogluon.timeseries) (1.16.1)\n",
      "Requirement already satisfied: colorlog in c:\\users\\fraco\\anaconda3\\envs\\agluon39\\lib\\site-packages (from optuna->mlforecast<0.14,>0.13->autogluon.timeseries) (6.9.0)\n",
      "Requirement already satisfied: sqlalchemy>=1.4.2 in c:\\users\\fraco\\anaconda3\\envs\\agluon39\\lib\\site-packages (from optuna->mlforecast<0.14,>0.13->autogluon.timeseries) (2.0.41)\n",
      "Requirement already satisfied: Mako in c:\\users\\fraco\\anaconda3\\envs\\agluon39\\lib\\site-packages (from alembic>=1.5.0->optuna->mlforecast<0.14,>0.13->autogluon.timeseries) (1.3.10)\n",
      "Requirement already satisfied: tomli in c:\\users\\fraco\\anaconda3\\envs\\agluon39\\lib\\site-packages (from alembic>=1.5.0->optuna->mlforecast<0.14,>0.13->autogluon.timeseries) (2.2.1)\n",
      "Requirement already satisfied: greenlet>=1 in c:\\users\\fraco\\anaconda3\\envs\\agluon39\\lib\\site-packages (from sqlalchemy>=1.4.2->optuna->mlforecast<0.14,>0.13->autogluon.timeseries) (3.2.3)\n",
      "Requirement already satisfied: narwhals>=1.15.1 in c:\\users\\fraco\\anaconda3\\envs\\agluon39\\lib\\site-packages (from plotly->catboost<1.3,>=1.2->autogluon.tabular[catboost,lightgbm,xgboost]==1.3.1->autogluon.timeseries) (1.42.0)\n",
      "Requirement already satisfied: wrapt in c:\\users\\fraco\\anaconda3\\envs\\agluon39\\lib\\site-packages (from smart_open->ray[default,tune]<2.45,>=2.10.0; extra == \"raytune\"->autogluon.core[raytune]==1.3.1->autogluon.timeseries) (1.17.2)\n",
      "Note: you may need to restart the kernel to use updated packages.\n"
     ]
    },
    {
     "name": "stderr",
     "output_type": "stream",
     "text": [
      "c:\\Users\\fraco\\anaconda3\\envs\\agluon39\\lib\\site-packages\\tqdm\\auto.py:21: TqdmWarning: IProgress not found. Please update jupyter and ipywidgets. See https://ipywidgets.readthedocs.io/en/stable/user_install.html\n",
      "  from .autonotebook import tqdm as notebook_tqdm\n"
     ]
    }
   ],
   "source": [
    "%pip install autogluon.timeseries\n",
    "from autogluon.timeseries import TimeSeriesPredictor, TimeSeriesDataFrame"
   ]
  },
  {
   "cell_type": "code",
   "execution_count": 4,
   "id": "74387549",
   "metadata": {},
   "outputs": [],
   "source": [
    "## 2. Cargar datasets\n",
    "df_sellin = pd.read_csv(\"sell-in.txt\", sep=\"\\t\")\n",
    "df_productos = pd.read_csv(\"tb_productos.txt\", sep=\"\\t\")"
   ]
  },
  {
   "cell_type": "code",
   "execution_count": 5,
   "id": "e14417ff",
   "metadata": {},
   "outputs": [],
   "source": [
    "# Leer lista de productos a predecir\n",
    "with open(\"product_id_apredecir201912.TXT\", \"r\") as f:\n",
    "    product_ids = [int(line.strip()) for line in f if line.strip().isdigit()]"
   ]
  },
  {
   "cell_type": "code",
   "execution_count": 6,
   "id": "b1527b4d",
   "metadata": {},
   "outputs": [],
   "source": [
    "## 3. Preprocesamiento\n",
    "# Convertir periodo a datetime\n",
    "df_sellin['timestamp'] = pd.to_datetime(df_sellin['periodo'], format='%Y%m')"
   ]
  },
  {
   "cell_type": "code",
   "execution_count": 7,
   "id": "1083376b",
   "metadata": {},
   "outputs": [],
   "source": [
    "# Filtrar hasta dic 2019 y productos requeridos\n",
    "df_filtered = df_sellin[\n",
    "    (df_sellin['timestamp'] <= '2019-12-01') &\n",
    "    (df_sellin['product_id'].isin(product_ids))\n",
    "]"
   ]
  },
  {
   "cell_type": "code",
   "execution_count": 8,
   "id": "bb3c4bac",
   "metadata": {},
   "outputs": [],
   "source": [
    "# Agregar tn por periodo, cliente y producto\n",
    "df_grouped = df_filtered.groupby(['timestamp', 'customer_id', 'product_id'], as_index=False)['tn'].sum()"
   ]
  },
  {
   "cell_type": "code",
   "execution_count": 9,
   "id": "3df0c480",
   "metadata": {},
   "outputs": [],
   "source": [
    "# Agregar tn total por periodo y producto\n",
    "df_monthly_product = df_grouped.groupby(['timestamp', 'product_id'], as_index=False)['tn'].sum()"
   ]
  },
  {
   "cell_type": "code",
   "execution_count": 10,
   "id": "065d2ca2",
   "metadata": {},
   "outputs": [],
   "source": [
    "# Agregar columna 'item_id' para AutoGluon\n",
    "df_monthly_product['item_id'] = df_monthly_product['product_id']"
   ]
  },
  {
   "cell_type": "code",
   "execution_count": 11,
   "id": "eb4e2dfb",
   "metadata": {},
   "outputs": [],
   "source": [
    "## 4. Crear TimeSeriesDataFrame\n",
    "ts_data = TimeSeriesDataFrame.from_data_frame(\n",
    "    df_monthly_product,\n",
    "    id_column='item_id',\n",
    "    timestamp_column='timestamp'\n",
    ")"
   ]
  },
  {
   "cell_type": "code",
   "execution_count": 12,
   "id": "92e7dcbe",
   "metadata": {},
   "outputs": [
    {
     "name": "stdout",
     "output_type": "stream",
     "text": [
      "            product_id          tn\n",
      "timestamp                         \n",
      "2017-01-01       20001   934.77222\n",
      "2017-02-01       20001   798.01620\n",
      "2017-03-01       20001  1303.35771\n",
      "2017-04-01       20001  1069.96130\n",
      "2017-05-01       20001  1502.20132\n",
      "2017-06-01       20001  1520.06539\n",
      "2017-07-01       20001  1030.67391\n",
      "2017-08-01       20001  1267.39462\n",
      "2017-09-01       20001  1316.94604\n",
      "2017-10-01       20001  1439.75563\n",
      "2017-11-01       20001  1580.47401\n",
      "2017-12-01       20001  1049.38860\n",
      "2018-01-01       20001  1169.07532\n",
      "2018-02-01       20001  1043.76470\n",
      "2018-03-01       20001  1856.83534\n",
      "2018-04-01       20001  1251.28462\n",
      "2018-05-01       20001  1293.89788\n",
      "2018-06-01       20001  1150.79169\n",
      "2018-07-01       20001  1470.41009\n",
      "2018-08-01       20001  1800.96168\n",
      "2018-09-01       20001  1438.67455\n",
      "2018-10-01       20001  2295.19832\n",
      "2018-11-01       20001  1813.01511\n",
      "2018-12-01       20001  1486.68669\n",
      "2019-01-01       20001  1275.77351\n",
      "2019-02-01       20001  1259.09363\n",
      "2019-03-01       20001  1470.65653\n",
      "2019-04-01       20001  1647.63848\n",
      "2019-05-01       20001  1629.78233\n",
      "2019-06-01       20001  1109.93769\n",
      "2019-07-01       20001  1678.99318\n",
      "2019-08-01       20001  1261.34529\n",
      "2019-09-01       20001  1660.00561\n",
      "2019-10-01       20001  1561.50552\n",
      "2019-11-01       20001  1397.37231\n",
      "2019-12-01       20001  1504.68856\n"
     ]
    }
   ],
   "source": [
    "print(ts_data.loc[20001])"
   ]
  },
  {
   "cell_type": "code",
   "execution_count": 13,
   "id": "ddac4147",
   "metadata": {},
   "outputs": [],
   "source": [
    "# Completar valores faltantes\n",
    "ts_data = ts_data.fill_missing_values()"
   ]
  },
  {
   "cell_type": "code",
   "execution_count": 14,
   "id": "5b7cc7be",
   "metadata": {},
   "outputs": [],
   "source": [
    "predictor = TimeSeriesPredictor(\n",
    "    prediction_length=2,\n",
    "    target='tn',\n",
    "    freq='MS'  # Frecuencia mensual (Month Start), \n",
    ")"
   ]
  },
  {
   "cell_type": "code",
   "execution_count": 15,
   "id": "30ea18f5",
   "metadata": {},
   "outputs": [
    {
     "name": "stderr",
     "output_type": "stream",
     "text": [
      "Beginning AutoGluon training... Time limit = 3600s\n",
      "AutoGluon will save models to 'c:\\Users\\fraco\\Documents\\Github\\Labo 3\\AutogluonModels\\ag-20250701_233133'\n",
      "=================== System Info ===================\n",
      "AutoGluon Version:  1.3.1\n",
      "Python Version:     3.9.23\n",
      "Operating System:   Windows\n",
      "Platform Machine:   AMD64\n",
      "Platform Version:   10.0.26100\n",
      "CPU Count:          12\n",
      "GPU Count:          0\n",
      "Memory Avail:       36.38 GB / 63.69 GB (57.1%)\n",
      "Disk Space Avail:   592.71 GB / 909.94 GB (65.1%)\n",
      "===================================================\n",
      "\n",
      "Fitting with arguments:\n",
      "{'enable_ensemble': True,\n",
      " 'eval_metric': WQL,\n",
      " 'freq': 'MS',\n",
      " 'hyperparameters': 'default',\n",
      " 'known_covariates_names': [],\n",
      " 'num_val_windows': 2,\n",
      " 'prediction_length': 2,\n",
      " 'quantile_levels': [0.1, 0.2, 0.3, 0.4, 0.5, 0.6, 0.7, 0.8, 0.9],\n",
      " 'random_seed': 123,\n",
      " 'refit_every_n_windows': 1,\n",
      " 'refit_full': False,\n",
      " 'skip_model_selection': False,\n",
      " 'target': 'tn',\n",
      " 'time_limit': 3600,\n",
      " 'verbosity': 2}\n",
      "\n",
      "train_data with frequency 'IRREG' has been resampled to frequency 'MS'.\n",
      "Provided train_data has 22375 rows (NaN fraction=0.1%), 780 time series. Median time series length is 36 (min=4, max=36). \n",
      "\tRemoving 75 short time series from train_data. Only series with length >= 9 will be used for training.\n",
      "\tAfter filtering, train_data has 21916 rows (NaN fraction=0.1%), 705 time series. Median time series length is 36 (min=9, max=36). \n",
      "\n",
      "Provided data contains following columns:\n",
      "\ttarget: 'tn'\n",
      "\tpast_covariates:\n",
      "\t\tcategorical:        []\n",
      "\t\tcontinuous (float): ['product_id']\n",
      "\n",
      "To learn how to fix incorrectly inferred types, please see documentation for TimeSeriesPredictor.fit\n",
      "\n",
      "AutoGluon will gauge predictive performance using evaluation metric: 'WQL'\n",
      "\tThis metric's sign has been flipped to adhere to being higher_is_better. The metric score can be multiplied by -1 to get the metric value.\n",
      "===================================================\n",
      "\n",
      "Starting training. Start time is 2025-07-01 20:31:39\n",
      "Models that will be trained: ['SeasonalNaive', 'RecursiveTabular', 'DirectTabular', 'NPTS', 'DynamicOptimizedTheta', 'AutoETS', 'ChronosZeroShot[bolt_base]', 'ChronosFineTuned[bolt_small]', 'TemporalFusionTransformer', 'DeepAR', 'PatchTST', 'TiDE']\n",
      "Training timeseries model SeasonalNaive. Training for up to 276.4s of the 3592.7s of remaining time.\n",
      "\t-0.2298       = Validation score (-WQL)\n",
      "\t5.32    s     = Training runtime\n",
      "\t0.75    s     = Validation (prediction) runtime\n",
      "Training timeseries model RecursiveTabular. Training for up to 298.9s of the 3586.6s of remaining time.\n",
      "\tTime series in the dataset are too short for chosen differences [12]. Setting differences to [1].\n",
      "\tTime series in the dataset are too short for chosen differences [12]. Setting differences to [1].\n",
      "\t-0.2285       = Validation score (-WQL)\n",
      "\t4.29    s     = Training runtime\n",
      "\t0.13    s     = Validation (prediction) runtime\n",
      "Training timeseries model DirectTabular. Training for up to 325.7s of the 3582.2s of remaining time.\n",
      "\t-0.2436       = Validation score (-WQL)\n",
      "\t37.93   s     = Training runtime\n",
      "\t0.20    s     = Validation (prediction) runtime\n",
      "Training timeseries model NPTS. Training for up to 354.4s of the 3544.0s of remaining time.\n",
      "\t-0.2835       = Validation score (-WQL)\n",
      "\t1.15    s     = Training runtime\n",
      "\t1.02    s     = Validation (prediction) runtime\n",
      "Training timeseries model DynamicOptimizedTheta. Training for up to 393.5s of the 3541.9s of remaining time.\n",
      "\t-0.2039       = Validation score (-WQL)\n",
      "\t4.18    s     = Training runtime\n",
      "\t1.08    s     = Validation (prediction) runtime\n",
      "Training timeseries model AutoETS. Training for up to 442.1s of the 3536.6s of remaining time.\n",
      "\tWarning: AutoETS\\W0 failed for 45 time series (6.4%). Fallback model SeasonalNaive was used for these time series.\n",
      "\t-0.2010       = Validation score (-WQL)\n",
      "\t7.25    s     = Training runtime\n",
      "\t6.83    s     = Validation (prediction) runtime\n",
      "Training timeseries model ChronosZeroShot[bolt_base]. Training for up to 503.2s of the 3522.5s of remaining time.\n",
      "\t-0.1905       = Validation score (-WQL)\n",
      "\t13.34   s     = Training runtime\n",
      "\t6.41    s     = Validation (prediction) runtime\n",
      "Training timeseries model ChronosFineTuned[bolt_small]. Training for up to 583.8s of the 3502.7s of remaining time.\n",
      "\tSkipping covariate_regressor since the dataset contains no covariates or static features.\n",
      "\tFine-tuning on the CPU detected. We recommend using a GPU for faster fine-tuning of Chronos.\n",
      "\tSaving fine-tuned model to c:\\Users\\fraco\\Documents\\Github\\Labo 3\\AutogluonModels\\ag-20250701_233133\\models\\ChronosFineTuned[bolt_small]\\W0\\fine-tuned-ckpt\n",
      "\tSkipping covariate_regressor since the dataset contains no covariates or static features.\n",
      "\tFine-tuning on the CPU detected. We recommend using a GPU for faster fine-tuning of Chronos.\n",
      "\tSaving fine-tuned model to c:\\Users\\fraco\\Documents\\Github\\Labo 3\\AutogluonModels\\ag-20250701_233133\\models\\ChronosFineTuned[bolt_small]\\W1\\fine-tuned-ckpt\n",
      "\t-0.1793       = Validation score (-WQL)\n",
      "\t515.88  s     = Training runtime\n",
      "\t1.35    s     = Validation (prediction) runtime\n",
      "Training timeseries model TemporalFusionTransformer. Training for up to 597.1s of the 2985.5s of remaining time.\n",
      "\t-0.1891       = Validation score (-WQL)\n",
      "\t565.06  s     = Training runtime\n",
      "\t0.52    s     = Validation (prediction) runtime\n",
      "Training timeseries model DeepAR. Training for up to 606.6s of the 2419.8s of remaining time.\n",
      "\t-0.1861       = Validation score (-WQL)\n",
      "\t243.96  s     = Training runtime\n",
      "\t0.58    s     = Validation (prediction) runtime\n",
      "Training timeseries model PatchTST. Training for up to 787.6s of the 2175.3s of remaining time.\n",
      "\t-0.1867       = Validation score (-WQL)\n",
      "\t99.85   s     = Training runtime\n",
      "\t0.21    s     = Validation (prediction) runtime\n",
      "Training timeseries model TiDE. Training for up to 1475.2s of the 2075.2s of remaining time.\n",
      "\t-0.2214       = Validation score (-WQL)\n",
      "\t518.23  s     = Training runtime\n",
      "\t1.31    s     = Validation (prediction) runtime\n",
      "Fitting simple weighted ensemble.\n",
      "\tEnsemble weights: {'AutoETS': 0.17, 'ChronosFineTuned[bolt_small]': 0.25, 'DeepAR': 0.12, 'NPTS': 0.08, 'PatchTST': 0.12, 'SeasonalNaive': 0.05, 'TemporalFusionTransformer': 0.22}\n",
      "\t-0.1726       = Validation score (-WQL)\n",
      "\t4.17    s     = Training runtime\n",
      "\t11.26   s     = Validation (prediction) runtime\n",
      "Training complete. Models trained: ['SeasonalNaive', 'RecursiveTabular', 'DirectTabular', 'NPTS', 'DynamicOptimizedTheta', 'AutoETS', 'ChronosZeroShot[bolt_base]', 'ChronosFineTuned[bolt_small]', 'TemporalFusionTransformer', 'DeepAR', 'PatchTST', 'TiDE', 'WeightedEnsemble']\n",
      "Total runtime: 2042.60 s\n",
      "Best model: WeightedEnsemble\n",
      "Best model score: -0.1726\n"
     ]
    },
    {
     "data": {
      "text/plain": [
       "<autogluon.timeseries.predictor.TimeSeriesPredictor at 0x1a4cba2fe50>"
      ]
     },
     "execution_count": 15,
     "metadata": {},
     "output_type": "execute_result"
    }
   ],
   "source": [
    "predictor.fit(ts_data, num_val_windows=2, time_limit=60*60)"
   ]
  },
  {
   "cell_type": "code",
   "execution_count": 16,
   "id": "831890b4",
   "metadata": {},
   "outputs": [
    {
     "name": "stdout",
     "output_type": "stream",
     "text": [
      "780\n",
      "MS\n"
     ]
    }
   ],
   "source": [
    "print(ts_data.num_items)\n",
    "print(ts_data.freq)"
   ]
  },
  {
   "cell_type": "code",
   "execution_count": 17,
   "id": "2c27fefb",
   "metadata": {},
   "outputs": [
    {
     "name": "stderr",
     "output_type": "stream",
     "text": [
      "data with frequency 'IRREG' has been resampled to frequency 'MS'.\n",
      "Model not specified in predict, will default to the model with the best validation score: WeightedEnsemble\n",
      "\tWarning: AutoETS\\W1 failed for 46 time series (5.9%). Fallback model SeasonalNaive was used for these time series.\n"
     ]
    }
   ],
   "source": [
    "forecast = predictor.predict(ts_data)"
   ]
  },
  {
   "cell_type": "code",
   "execution_count": 18,
   "id": "2912e5b3",
   "metadata": {},
   "outputs": [
    {
     "name": "stdout",
     "output_type": "stream",
     "text": [
      "Index(['mean', '0.1', '0.2', '0.3', '0.4', '0.5', '0.6', '0.7', '0.8', '0.9'], dtype='object')\n"
     ]
    }
   ],
   "source": [
    "print(forecast.columns)"
   ]
  },
  {
   "cell_type": "code",
   "execution_count": 19,
   "id": "57205cb3",
   "metadata": {},
   "outputs": [
    {
     "name": "stdout",
     "output_type": "stream",
     "text": [
      "Index(['item_id', 'timestamp', 'mean'], dtype='object')\n"
     ]
    }
   ],
   "source": [
    "forecast_mean = forecast['mean'].reset_index()\n",
    "print(forecast_mean.columns)"
   ]
  },
  {
   "cell_type": "code",
   "execution_count": 20,
   "id": "d62a0982",
   "metadata": {},
   "outputs": [
    {
     "data": {
      "text/html": [
       "<div>\n",
       "<style scoped>\n",
       "    .dataframe tbody tr th:only-of-type {\n",
       "        vertical-align: middle;\n",
       "    }\n",
       "\n",
       "    .dataframe tbody tr th {\n",
       "        vertical-align: top;\n",
       "    }\n",
       "\n",
       "    .dataframe thead th {\n",
       "        text-align: right;\n",
       "    }\n",
       "</style>\n",
       "<table border=\"1\" class=\"dataframe\">\n",
       "  <thead>\n",
       "    <tr style=\"text-align: right;\">\n",
       "      <th></th>\n",
       "      <th>product_id</th>\n",
       "      <th>tn</th>\n",
       "    </tr>\n",
       "  </thead>\n",
       "  <tbody>\n",
       "    <tr>\n",
       "      <th>1</th>\n",
       "      <td>20001</td>\n",
       "      <td>1305.667077</td>\n",
       "    </tr>\n",
       "    <tr>\n",
       "      <th>3</th>\n",
       "      <td>20002</td>\n",
       "      <td>1063.011962</td>\n",
       "    </tr>\n",
       "    <tr>\n",
       "      <th>5</th>\n",
       "      <td>20003</td>\n",
       "      <td>701.688985</td>\n",
       "    </tr>\n",
       "    <tr>\n",
       "      <th>7</th>\n",
       "      <td>20004</td>\n",
       "      <td>529.550740</td>\n",
       "    </tr>\n",
       "    <tr>\n",
       "      <th>9</th>\n",
       "      <td>20005</td>\n",
       "      <td>509.063156</td>\n",
       "    </tr>\n",
       "  </tbody>\n",
       "</table>\n",
       "</div>"
      ],
      "text/plain": [
       "   product_id           tn\n",
       "1       20001  1305.667077\n",
       "3       20002  1063.011962\n",
       "5       20003   701.688985\n",
       "7       20004   529.550740\n",
       "9       20005   509.063156"
      ]
     },
     "execution_count": 20,
     "metadata": {},
     "output_type": "execute_result"
    }
   ],
   "source": [
    "# Tomar solo item_id y la predicción 'mean'\n",
    "resultado = forecast['mean'].reset_index()[['item_id', 'mean']]\n",
    "resultado.columns = ['product_id', 'tn']\n",
    "\n",
    "# Filtrar solo febrero 2020\n",
    "resultado = forecast['mean'].reset_index()\n",
    "resultado = resultado[resultado['timestamp'] == '2020-02-01']\n",
    "\n",
    "# Renombrar columnas\n",
    "resultado = resultado[['item_id', 'mean']]\n",
    "resultado.columns = ['product_id', 'tn']\n",
    "\n",
    "# Guardar a CSV\n",
    "resultado.to_csv(\"predicciones_febrero2020_26-06-25_5.csv\", index=False)\n",
    "resultado.head()"
   ]
  }
 ],
 "metadata": {
  "kernelspec": {
   "display_name": "agluon39",
   "language": "python",
   "name": "python3"
  },
  "language_info": {
   "codemirror_mode": {
    "name": "ipython",
    "version": 3
   },
   "file_extension": ".py",
   "mimetype": "text/x-python",
   "name": "python",
   "nbconvert_exporter": "python",
   "pygments_lexer": "ipython3",
   "version": "3.9.23"
  }
 },
 "nbformat": 4,
 "nbformat_minor": 5
}
