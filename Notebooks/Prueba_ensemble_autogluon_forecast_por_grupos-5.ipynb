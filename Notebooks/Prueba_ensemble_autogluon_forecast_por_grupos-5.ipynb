{
 "cells": [
  {
   "cell_type": "markdown",
   "id": "13ccdf85",
   "metadata": {},
   "source": [
    "## Ensemble Autogluon + Promedio "
   ]
  },
  {
   "cell_type": "markdown",
   "id": "6f1b6d11",
   "metadata": {},
   "source": [
    "En este script se realiza un ensemble entre las predicciones de autogluon en las que logramos menor error y el promedio de 12 meses. La estrategia aplicada es la siguiente en base a las predicciones de febrero 2019 , se identifico un grupo de product id en los cuales el error era menor si se utilizaba como prediccion el promedio. "
   ]
  },
  {
   "cell_type": "code",
   "execution_count": 1,
   "id": "7473fc4d",
   "metadata": {},
   "outputs": [],
   "source": [
    "import pandas as pd\n",
    "import numpy as np"
   ]
  },
  {
   "cell_type": "code",
   "execution_count": 3,
   "id": "06f57af0",
   "metadata": {},
   "outputs": [],
   "source": [
    "# 1. Cargar los archivos\n",
    "\n",
    "df_autogluon_23 = pd.read_csv(\"predicciones_febrero2020_01-07-25_2.csv\")\n",
    "df_promedios = pd.read_csv(\"promedio_12m_febrero2020_2.csv\")\n",
    "\n",
    "product_mejor_autogluon = pd.read_csv(\"product_id_autogluon_mejor.csv\")\n",
    "product_preciso = pd.read_csv(\"casos_mejor_promedio_total.csv\")"
   ]
  },
  {
   "cell_type": "code",
   "execution_count": 5,
   "id": "15e75762",
   "metadata": {},
   "outputs": [
    {
     "name": "stdout",
     "output_type": "stream",
     "text": [
      "   product_id           tn\n",
      "0       20001  1289.854612\n",
      "1       20002  1043.714777\n",
      "2       20003   730.515933\n",
      "3       20004   542.798590\n",
      "4       20005   534.809802\n",
      "Cantidad de productos en el ensamblado: 780\n"
     ]
    }
   ],
   "source": [
    "# Crear sets para facilitar la selección\n",
    "ids_mejor_autogluon = set(product_mejor_autogluon[\"product_id\"])\n",
    "ids_mejor_preciso = set(product_preciso[\"product_id\"])\n",
    "\n",
    "# Inicializar el dataframe ensamblado con los product_id únicos\n",
    "df_ensamblado = pd.DataFrame({'product_id': df_autogluon_23['product_id']})\n",
    "\n",
    "# Asignar las tn según la lógica\n",
    "def obtener_tn(row):\n",
    "    pid = row['product_id']\n",
    "    if pid in ids_mejor_autogluon:\n",
    "        return df_autogluon_23.loc[df_autogluon_23['product_id'] == pid, 'tn'].values[0]\n",
    "    elif pid in ids_mejor_preciso:\n",
    "        return df_promedios.loc[df_promedios['product_id'] == pid, 'tn'].values[0]\n",
    "    else:\n",
    "        tn_auto = df_autogluon_23.loc[df_autogluon_23['product_id'] == pid, 'tn'].values[0]\n",
    "        tn_prom = df_promedios.loc[df_promedios['product_id'] == pid, 'tn'].values[0]\n",
    "        return np.mean([tn_auto, tn_prom])\n",
    "\n",
    "df_ensamblado['tn'] = df_ensamblado.apply(obtener_tn, axis=1)\n",
    "\n",
    "# Mostrar el resultado\n",
    "print(df_ensamblado.head())\n",
    "print(\"Cantidad de productos en el ensamblado:\", len(df_ensamblado))"
   ]
  },
  {
   "cell_type": "code",
   "execution_count": 6,
   "id": "24e7a159",
   "metadata": {},
   "outputs": [
    {
     "name": "stdout",
     "output_type": "stream",
     "text": [
      "Archivo 'df_ensamblado_final.csv' guardado exitosamente.\n"
     ]
    }
   ],
   "source": [
    "df_ensamblado.to_csv(\"df_ensamblado_final.csv\", index=False)\n",
    "print(\"Archivo 'df_ensamblado_final.csv' guardado exitosamente.\")   "
   ]
  }
 ],
 "metadata": {
  "kernelspec": {
   "display_name": "base",
   "language": "python",
   "name": "python3"
  },
  "language_info": {
   "codemirror_mode": {
    "name": "ipython",
    "version": 3
   },
   "file_extension": ".py",
   "mimetype": "text/x-python",
   "name": "python",
   "nbconvert_exporter": "python",
   "pygments_lexer": "ipython3",
   "version": "3.12.7"
  }
 },
 "nbformat": 4,
 "nbformat_minor": 5
}
