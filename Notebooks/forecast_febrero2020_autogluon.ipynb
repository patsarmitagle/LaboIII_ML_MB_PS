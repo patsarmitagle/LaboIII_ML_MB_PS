{
 "cells": [
  {
   "cell_type": "code",
   "execution_count": 31,
   "id": "490c8917",
   "metadata": {},
   "outputs": [],
   "source": [
    "# AutoGluon - Predicción de ventas (tn) por producto para febrero 2020"
   ]
  },
  {
   "cell_type": "code",
   "execution_count": 32,
   "id": "8f52d34a",
   "metadata": {},
   "outputs": [],
   "source": [
    "## 1. Importar librerías necesarias\n",
    "import pandas as pd\n",
    "from autogluon.timeseries import TimeSeriesPredictor, TimeSeriesDataFrame"
   ]
  },
  {
   "cell_type": "code",
   "execution_count": 33,
   "id": "74387549",
   "metadata": {},
   "outputs": [],
   "source": [
    "## 2. Cargar datasets\n",
    "df_sellin = pd.read_csv(\"sell-in.txt\", sep=\"\\t\")\n",
    "df_productos = pd.read_csv(\"tb_productos.txt\", sep=\"\\t\")"
   ]
  },
  {
   "cell_type": "code",
   "execution_count": 34,
   "id": "e14417ff",
   "metadata": {},
   "outputs": [],
   "source": [
    "# Leer lista de productos a predecir\n",
    "with open(\"product_id_apredecir201912.TXT\", \"r\") as f:\n",
    "    product_ids = [int(line.strip()) for line in f if line.strip().isdigit()]"
   ]
  },
  {
   "cell_type": "code",
   "execution_count": 35,
   "id": "b1527b4d",
   "metadata": {},
   "outputs": [],
   "source": [
    "## 3. Preprocesamiento\n",
    "# Convertir periodo a datetime\n",
    "df_sellin['timestamp'] = pd.to_datetime(df_sellin['periodo'], format='%Y%m')"
   ]
  },
  {
   "cell_type": "code",
   "execution_count": 36,
   "id": "1083376b",
   "metadata": {},
   "outputs": [],
   "source": [
    "# Filtrar hasta dic 2019 y productos requeridos\n",
    "df_filtered = df_sellin[\n",
    "    (df_sellin['timestamp'] <= '2019-12-01') &\n",
    "    (df_sellin['product_id'].isin(product_ids))\n",
    "]"
   ]
  },
  {
   "cell_type": "code",
   "execution_count": 37,
   "id": "bb3c4bac",
   "metadata": {},
   "outputs": [],
   "source": [
    "# Agregar tn por periodo, cliente y producto\n",
    "df_grouped = df_filtered.groupby(['timestamp', 'customer_id', 'product_id'], as_index=False)['tn'].sum()"
   ]
  },
  {
   "cell_type": "code",
   "execution_count": 38,
   "id": "3df0c480",
   "metadata": {},
   "outputs": [],
   "source": [
    "# Agregar tn total por periodo y producto\n",
    "df_monthly_product = df_grouped.groupby(['timestamp', 'product_id'], as_index=False)['tn'].sum()"
   ]
  },
  {
   "cell_type": "code",
   "execution_count": 39,
   "id": "065d2ca2",
   "metadata": {},
   "outputs": [],
   "source": [
    "# Agregar columna 'item_id' para AutoGluon\n",
    "df_monthly_product['item_id'] = df_monthly_product['product_id']"
   ]
  },
  {
   "cell_type": "code",
   "execution_count": 40,
   "id": "eb4e2dfb",
   "metadata": {},
   "outputs": [],
   "source": [
    "## 4. Crear TimeSeriesDataFrame\n",
    "ts_data = TimeSeriesDataFrame.from_data_frame(\n",
    "    df_monthly_product,\n",
    "    id_column='item_id',\n",
    "    timestamp_column='timestamp'\n",
    ")"
   ]
  },
  {
   "cell_type": "code",
   "execution_count": 57,
   "id": "92e7dcbe",
   "metadata": {},
   "outputs": [
    {
     "name": "stdout",
     "output_type": "stream",
     "text": [
      "            product_id          tn\n",
      "timestamp                         \n",
      "2017-01-01       20001   934.77222\n",
      "2017-02-01       20001   798.01620\n",
      "2017-03-01       20001  1303.35771\n",
      "2017-04-01       20001  1069.96130\n",
      "2017-05-01       20001  1502.20132\n",
      "2017-06-01       20001  1520.06539\n",
      "2017-07-01       20001  1030.67391\n",
      "2017-08-01       20001  1267.39462\n",
      "2017-09-01       20001  1316.94604\n",
      "2017-10-01       20001  1439.75563\n",
      "2017-11-01       20001  1580.47401\n",
      "2017-12-01       20001  1049.38860\n",
      "2018-01-01       20001  1169.07532\n",
      "2018-02-01       20001  1043.76470\n",
      "2018-03-01       20001  1856.83534\n",
      "2018-04-01       20001  1251.28462\n",
      "2018-05-01       20001  1293.89788\n",
      "2018-06-01       20001  1150.79169\n",
      "2018-07-01       20001  1470.41009\n",
      "2018-08-01       20001  1800.96168\n",
      "2018-09-01       20001  1438.67455\n",
      "2018-10-01       20001  2295.19832\n",
      "2018-11-01       20001  1813.01511\n",
      "2018-12-01       20001  1486.68669\n",
      "2019-01-01       20001  1275.77351\n",
      "2019-02-01       20001  1259.09363\n",
      "2019-03-01       20001  1470.65653\n",
      "2019-04-01       20001  1647.63848\n",
      "2019-05-01       20001  1629.78233\n",
      "2019-06-01       20001  1109.93769\n",
      "2019-07-01       20001  1678.99318\n",
      "2019-08-01       20001  1261.34529\n",
      "2019-09-01       20001  1660.00561\n",
      "2019-10-01       20001  1561.50552\n",
      "2019-11-01       20001  1397.37231\n",
      "2019-12-01       20001  1504.68856\n"
     ]
    }
   ],
   "source": [
    "print(ts_data.loc[20001])"
   ]
  },
  {
   "cell_type": "code",
   "execution_count": 41,
   "id": "ddac4147",
   "metadata": {},
   "outputs": [],
   "source": [
    "# Completar valores faltantes\n",
    "ts_data = ts_data.fill_missing_values()"
   ]
  },
  {
   "cell_type": "code",
   "execution_count": 44,
   "id": "5b7cc7be",
   "metadata": {},
   "outputs": [],
   "source": [
    "predictor = TimeSeriesPredictor(\n",
    "    prediction_length=1,\n",
    "    target='tn',\n",
    "    freq='MS'  # Frecuencia mensual (Month Start)\n",
    ")"
   ]
  },
  {
   "cell_type": "code",
   "execution_count": 45,
   "id": "30ea18f5",
   "metadata": {},
   "outputs": [
    {
     "name": "stderr",
     "output_type": "stream",
     "text": [
      "Beginning AutoGluon training...\n",
      "AutoGluon will save models to '/Users/patricialorenasarmientotagle/austral-labo-iii/notebooks/AutogluonModels/ag-20250609_223417'\n",
      "=================== System Info ===================\n",
      "AutoGluon Version:  1.3.1\n",
      "Python Version:     3.9.6\n",
      "Operating System:   Darwin\n",
      "Platform Machine:   arm64\n",
      "Platform Version:   Darwin Kernel Version 24.5.0: Tue Apr 22 19:53:27 PDT 2025; root:xnu-11417.121.6~2/RELEASE_ARM64_T6041\n",
      "CPU Count:          12\n",
      "GPU Count:          0\n",
      "Memory Avail:       6.66 GB / 24.00 GB (27.7%)\n",
      "Disk Space Avail:   275.87 GB / 460.43 GB (59.9%)\n",
      "===================================================\n",
      "\n",
      "Fitting with arguments:\n",
      "{'enable_ensemble': True,\n",
      " 'eval_metric': WQL,\n",
      " 'freq': 'MS',\n",
      " 'hyperparameters': 'default',\n",
      " 'known_covariates_names': [],\n",
      " 'num_val_windows': 1,\n",
      " 'prediction_length': 1,\n",
      " 'quantile_levels': [0.1, 0.2, 0.3, 0.4, 0.5, 0.6, 0.7, 0.8, 0.9],\n",
      " 'random_seed': 123,\n",
      " 'refit_every_n_windows': 1,\n",
      " 'refit_full': False,\n",
      " 'skip_model_selection': False,\n",
      " 'target': 'tn',\n",
      " 'verbosity': 2}\n",
      "\n",
      "train_data with frequency 'IRREG' has been resampled to frequency 'MS'.\n",
      "Provided train_data has 22375 rows (NaN fraction=0.1%), 780 time series. Median time series length is 36 (min=4, max=36). \n",
      "\tRemoving 24 short time series from train_data. Only series with length >= 6 will be used for training.\n",
      "\tAfter filtering, train_data has 22264 rows (NaN fraction=0.1%), 756 time series. Median time series length is 36 (min=6, max=36). \n",
      "\n",
      "Provided data contains following columns:\n",
      "\ttarget: 'tn'\n",
      "\tpast_covariates:\n",
      "\t\tcategorical:        []\n",
      "\t\tcontinuous (float): ['product_id']\n",
      "\n",
      "To learn how to fix incorrectly inferred types, please see documentation for TimeSeriesPredictor.fit\n",
      "\n",
      "AutoGluon will gauge predictive performance using evaluation metric: 'WQL'\n",
      "\tThis metric's sign has been flipped to adhere to being higher_is_better. The metric score can be multiplied by -1 to get the metric value.\n",
      "===================================================\n",
      "\n",
      "Starting training. Start time is 2025-06-09 19:34:20\n",
      "Models that will be trained: ['SeasonalNaive', 'RecursiveTabular', 'DirectTabular', 'NPTS', 'DynamicOptimizedTheta', 'AutoETS', 'ChronosZeroShot[bolt_base]', 'ChronosFineTuned[bolt_small]', 'TemporalFusionTransformer', 'DeepAR', 'PatchTST', 'TiDE']\n",
      "Training timeseries model SeasonalNaive. \n",
      "\t-0.2561       = Validation score (-WQL)\n",
      "\t0.02    s     = Training runtime\n",
      "\t2.05    s     = Validation (prediction) runtime\n",
      "Training timeseries model RecursiveTabular. \n",
      "\tTime series in the dataset are too short for chosen differences [12]. Setting differences to [1].\n",
      "\t-0.2430       = Validation score (-WQL)\n",
      "\t0.95    s     = Training runtime\n",
      "\t0.02    s     = Validation (prediction) runtime\n",
      "Training timeseries model DirectTabular. \n",
      "\t-0.1962       = Validation score (-WQL)\n",
      "\t11.01   s     = Training runtime\n",
      "\t0.06    s     = Validation (prediction) runtime\n",
      "Training timeseries model NPTS. \n",
      "\t-0.3029       = Validation score (-WQL)\n",
      "\t0.02    s     = Training runtime\n",
      "\t0.13    s     = Validation (prediction) runtime\n",
      "Training timeseries model DynamicOptimizedTheta. \n",
      "\t-0.2436       = Validation score (-WQL)\n",
      "\t0.02    s     = Training runtime\n",
      "\t0.87    s     = Validation (prediction) runtime\n",
      "Training timeseries model AutoETS. \n",
      "\tWarning: AutoETS/W0 failed for 38 time series (5.0%). Fallback model SeasonalNaive was used for these time series.\n",
      "\t-0.2316       = Validation score (-WQL)\n",
      "\t0.02    s     = Training runtime\n",
      "\t1.16    s     = Validation (prediction) runtime\n",
      "Training timeseries model ChronosZeroShot[bolt_base]. \n",
      "\t-0.2251       = Validation score (-WQL)\n",
      "\t0.01    s     = Training runtime\n",
      "\t3.56    s     = Validation (prediction) runtime\n",
      "Training timeseries model ChronosFineTuned[bolt_small]. \n",
      "\tSkipping covariate_regressor since the dataset contains no covariates or static features.\n",
      "\tFine-tuning on the CPU detected. We recommend using a GPU for faster fine-tuning of Chronos.\n",
      "\tSaving fine-tuned model to /Users/patricialorenasarmientotagle/austral-labo-iii/notebooks/AutogluonModels/ag-20250609_223417/models/ChronosFineTuned[bolt_small]/W0/fine-tuned-ckpt\n",
      "\t-0.2089       = Validation score (-WQL)\n",
      "\t116.25  s     = Training runtime\n",
      "\t0.40    s     = Validation (prediction) runtime\n",
      "Training timeseries model TemporalFusionTransformer. \n",
      "\t-0.1736       = Validation score (-WQL)\n",
      "\t158.60  s     = Training runtime\n",
      "\t0.21    s     = Validation (prediction) runtime\n",
      "Training timeseries model DeepAR. \n",
      "\t-0.2153       = Validation score (-WQL)\n",
      "\t35.94   s     = Training runtime\n",
      "\t0.16    s     = Validation (prediction) runtime\n",
      "Training timeseries model PatchTST. \n",
      "\t-0.1879       = Validation score (-WQL)\n",
      "\t28.01   s     = Training runtime\n",
      "\t0.10    s     = Validation (prediction) runtime\n",
      "Training timeseries model TiDE. \n",
      "\t-0.1848       = Validation score (-WQL)\n",
      "\t67.60   s     = Training runtime\n",
      "\t0.24    s     = Validation (prediction) runtime\n",
      "Fitting simple weighted ensemble.\n",
      "\tEnsemble weights: {'DeepAR': 0.07, 'DynamicOptimizedTheta': 0.1, 'TemporalFusionTransformer': 0.51, 'TiDE': 0.32}\n",
      "\t-0.1697       = Validation score (-WQL)\n",
      "\t0.43    s     = Training runtime\n",
      "\t1.48    s     = Validation (prediction) runtime\n",
      "Training complete. Models trained: ['SeasonalNaive', 'RecursiveTabular', 'DirectTabular', 'NPTS', 'DynamicOptimizedTheta', 'AutoETS', 'ChronosZeroShot[bolt_base]', 'ChronosFineTuned[bolt_small]', 'TemporalFusionTransformer', 'DeepAR', 'PatchTST', 'TiDE', 'WeightedEnsemble']\n",
      "Total runtime: 427.92 s\n",
      "Best model: WeightedEnsemble\n",
      "Best model score: -0.1697\n"
     ]
    },
    {
     "data": {
      "text/plain": [
       "<autogluon.timeseries.predictor.TimeSeriesPredictor at 0x395a84220>"
      ]
     },
     "execution_count": 45,
     "metadata": {},
     "output_type": "execute_result"
    }
   ],
   "source": [
    "predictor.fit(ts_data)\n",
    "\n"
   ]
  },
  {
   "cell_type": "code",
   "execution_count": 47,
   "id": "831890b4",
   "metadata": {},
   "outputs": [
    {
     "name": "stdout",
     "output_type": "stream",
     "text": [
      "780\n",
      "MS\n"
     ]
    }
   ],
   "source": [
    "print(ts_data.num_items)\n",
    "print(ts_data.freq)\n"
   ]
  },
  {
   "cell_type": "code",
   "execution_count": 48,
   "id": "2c27fefb",
   "metadata": {},
   "outputs": [
    {
     "name": "stderr",
     "output_type": "stream",
     "text": [
      "data with frequency 'IRREG' has been resampled to frequency 'MS'.\n",
      "Model not specified in predict, will default to the model with the best validation score: WeightedEnsemble\n"
     ]
    }
   ],
   "source": [
    "forecast = predictor.predict(ts_data)"
   ]
  },
  {
   "cell_type": "code",
   "execution_count": 49,
   "id": "2912e5b3",
   "metadata": {},
   "outputs": [
    {
     "name": "stdout",
     "output_type": "stream",
     "text": [
      "Index(['mean', '0.1', '0.2', '0.3', '0.4', '0.5', '0.6', '0.7', '0.8', '0.9'], dtype='object')\n"
     ]
    }
   ],
   "source": [
    "print(forecast.columns)\n"
   ]
  },
  {
   "cell_type": "code",
   "execution_count": 50,
   "id": "57205cb3",
   "metadata": {},
   "outputs": [
    {
     "name": "stdout",
     "output_type": "stream",
     "text": [
      "Index(['item_id', 'timestamp', 'mean'], dtype='object')\n"
     ]
    }
   ],
   "source": [
    "forecast_mean = forecast['mean'].reset_index()\n",
    "print(forecast_mean.columns)\n"
   ]
  },
  {
   "cell_type": "code",
   "execution_count": 51,
   "id": "d62a0982",
   "metadata": {},
   "outputs": [
    {
     "data": {
      "text/html": [
       "<div>\n",
       "<style scoped>\n",
       "    .dataframe tbody tr th:only-of-type {\n",
       "        vertical-align: middle;\n",
       "    }\n",
       "\n",
       "    .dataframe tbody tr th {\n",
       "        vertical-align: top;\n",
       "    }\n",
       "\n",
       "    .dataframe thead th {\n",
       "        text-align: right;\n",
       "    }\n",
       "</style>\n",
       "<table border=\"1\" class=\"dataframe\">\n",
       "  <thead>\n",
       "    <tr style=\"text-align: right;\">\n",
       "      <th></th>\n",
       "      <th>product_id</th>\n",
       "      <th>tn</th>\n",
       "    </tr>\n",
       "  </thead>\n",
       "  <tbody>\n",
       "    <tr>\n",
       "      <th>0</th>\n",
       "      <td>20001</td>\n",
       "      <td>1237.338298</td>\n",
       "    </tr>\n",
       "    <tr>\n",
       "      <th>1</th>\n",
       "      <td>20002</td>\n",
       "      <td>957.624901</td>\n",
       "    </tr>\n",
       "    <tr>\n",
       "      <th>2</th>\n",
       "      <td>20003</td>\n",
       "      <td>700.614432</td>\n",
       "    </tr>\n",
       "    <tr>\n",
       "      <th>3</th>\n",
       "      <td>20004</td>\n",
       "      <td>522.681982</td>\n",
       "    </tr>\n",
       "    <tr>\n",
       "      <th>4</th>\n",
       "      <td>20005</td>\n",
       "      <td>497.931661</td>\n",
       "    </tr>\n",
       "  </tbody>\n",
       "</table>\n",
       "</div>"
      ],
      "text/plain": [
       "   product_id           tn\n",
       "0       20001  1237.338298\n",
       "1       20002   957.624901\n",
       "2       20003   700.614432\n",
       "3       20004   522.681982\n",
       "4       20005   497.931661"
      ]
     },
     "execution_count": 51,
     "metadata": {},
     "output_type": "execute_result"
    }
   ],
   "source": [
    "# Tomar solo item_id y la predicción 'mean'\n",
    "resultado = forecast['mean'].reset_index()[['item_id', 'mean']]\n",
    "resultado.columns = ['product_id', 'tn']\n",
    "\n",
    "# Guardar a CSV\n",
    "resultado.to_csv(\"predicciones_febrero2020.csv\", index=False)\n",
    "resultado.head()\n"
   ]
  },
  {
   "cell_type": "code",
   "execution_count": 58,
   "id": "3d327fd8",
   "metadata": {},
   "outputs": [],
   "source": [
    "# --- Cargar predicciones de AutoGluon ---\n",
    "df_autogluon = pd.read_csv(\"predicciones_febrero2020.csv\")  # columnas: product_id, tn\n",
    "\n",
    "# --- Cargar el promedio simple (ya lo calculaste) ---\n",
    "df_promedios = pd.read_csv(\"promedio_12m_febrero2020_2.csv\")  # columnas: product_id, tn\n",
    "\n",
    "# --- Renombrar columna del promedio para claridad ---\n",
    "df_promedios = df_promedios.rename(columns={\"tn\": \"tn_promedio\"})\n",
    "df_autogluon = df_autogluon.rename(columns={\"tn\": \"tn_autogluon\"})\n",
    "\n",
    "# --- Unir ambos resultados por product_id ---\n",
    "df_ensemble = df_autogluon.merge(df_promedios, on=\"product_id\", how=\"inner\")\n",
    "\n",
    "# --- Calcular promedio simple como ensemble ---\n",
    "df_ensemble[\"tn_ensemble\"] = (\n",
    "    df_ensemble[\"tn_autogluon\"] + df_ensemble[\"tn_promedio\"]\n",
    ") / 2\n",
    "\n",
    "# --- Guardar resultado final ---\n",
    "df_ensemble[[\"product_id\", \"tn_ensemble\"]].to_csv(\"ensemble_febrero2020.csv\", index=False)\n"
   ]
  }
 ],
 "metadata": {
  "kernelspec": {
   "display_name": "AST",
   "language": "python",
   "name": "python3"
  },
  "language_info": {
   "codemirror_mode": {
    "name": "ipython",
    "version": 3
   },
   "file_extension": ".py",
   "mimetype": "text/x-python",
   "name": "python",
   "nbconvert_exporter": "python",
   "pygments_lexer": "ipython3",
   "version": "3.9.6"
  }
 },
 "nbformat": 4,
 "nbformat_minor": 5
}
