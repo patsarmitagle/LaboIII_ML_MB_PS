{
 "cells": [
  {
   "cell_type": "code",
   "execution_count": 51,
   "id": "490c8917",
   "metadata": {},
   "outputs": [],
   "source": [
    "# AutoGluon - Predicción de ventas (tn) por producto para febrero 2020"
   ]
  },
  {
   "cell_type": "code",
   "execution_count": 52,
   "id": "8f52d34a",
   "metadata": {},
   "outputs": [],
   "source": [
    "## 1. Importar librerías necesarias\n",
    "import pandas as pd\n",
    "from autogluon.common import space\n",
    "from autogluon.timeseries import TimeSeriesPredictor, TimeSeriesDataFrame"
   ]
  },
  {
   "cell_type": "code",
   "execution_count": 53,
   "id": "a67eb1bb",
   "metadata": {},
   "outputs": [
    {
     "name": "stdout",
     "output_type": "stream",
     "text": [
      "Requirement already satisfied: autogluon.timeseries in /Users/patricialorenasarmientotagle/Env/AST/lib/python3.9/site-packages (1.3.1)\n",
      "Requirement already satisfied: joblib<2,>=1.1 in /Users/patricialorenasarmientotagle/Env/AST/lib/python3.9/site-packages (from autogluon.timeseries) (1.3.2)\n",
      "Requirement already satisfied: numpy<2.3.0,>=1.25.0 in /Users/patricialorenasarmientotagle/Env/AST/lib/python3.9/site-packages (from autogluon.timeseries) (1.26.4)\n",
      "Requirement already satisfied: scipy<1.16,>=1.5.4 in /Users/patricialorenasarmientotagle/Env/AST/lib/python3.9/site-packages (from autogluon.timeseries) (1.11.4)\n",
      "Requirement already satisfied: pandas<2.3.0,>=2.0.0 in /Users/patricialorenasarmientotagle/Env/AST/lib/python3.9/site-packages (from autogluon.timeseries) (2.1.4)\n",
      "Requirement already satisfied: torch<2.7,>=2.2 in /Users/patricialorenasarmientotagle/Env/AST/lib/python3.9/site-packages (from autogluon.timeseries) (2.5.1)\n",
      "Requirement already satisfied: lightning<2.7,>=2.2 in /Users/patricialorenasarmientotagle/Env/AST/lib/python3.9/site-packages (from autogluon.timeseries) (2.5.1.post0)\n",
      "Requirement already satisfied: pytorch-lightning in /Users/patricialorenasarmientotagle/Env/AST/lib/python3.9/site-packages (from autogluon.timeseries) (2.5.1.post0)\n",
      "Requirement already satisfied: transformers<4.50,>=4.38.0 in /Users/patricialorenasarmientotagle/Env/AST/lib/python3.9/site-packages (from transformers[sentencepiece]<4.50,>=4.38.0->autogluon.timeseries) (4.49.0)\n",
      "Requirement already satisfied: accelerate<2.0,>=0.34.0 in /Users/patricialorenasarmientotagle/Env/AST/lib/python3.9/site-packages (from autogluon.timeseries) (1.7.0)\n",
      "Requirement already satisfied: gluonts<0.17,>=0.15.0 in /Users/patricialorenasarmientotagle/Env/AST/lib/python3.9/site-packages (from autogluon.timeseries) (0.16.1)\n",
      "Requirement already satisfied: networkx<4,>=3.0 in /Users/patricialorenasarmientotagle/Env/AST/lib/python3.9/site-packages (from autogluon.timeseries) (3.2.1)\n",
      "Requirement already satisfied: statsforecast<2.0.2,>=1.7.0 in /Users/patricialorenasarmientotagle/Env/AST/lib/python3.9/site-packages (from autogluon.timeseries) (2.0.1)\n",
      "Requirement already satisfied: mlforecast<0.14,>0.13 in /Users/patricialorenasarmientotagle/Env/AST/lib/python3.9/site-packages (from autogluon.timeseries) (0.13.6)\n",
      "Requirement already satisfied: utilsforecast<0.2.11,>=0.2.3 in /Users/patricialorenasarmientotagle/Env/AST/lib/python3.9/site-packages (from autogluon.timeseries) (0.2.10)\n",
      "Requirement already satisfied: coreforecast<0.0.16,>=0.0.12 in /Users/patricialorenasarmientotagle/Env/AST/lib/python3.9/site-packages (from autogluon.timeseries) (0.0.15)\n",
      "Requirement already satisfied: fugue>=0.9.0 in /Users/patricialorenasarmientotagle/Env/AST/lib/python3.9/site-packages (from autogluon.timeseries) (0.9.1)\n",
      "Requirement already satisfied: tqdm<5,>=4.38 in /Users/patricialorenasarmientotagle/Env/AST/lib/python3.9/site-packages (from autogluon.timeseries) (4.67.1)\n",
      "Requirement already satisfied: orjson~=3.9 in /Users/patricialorenasarmientotagle/Env/AST/lib/python3.9/site-packages (from autogluon.timeseries) (3.10.15)\n",
      "Requirement already satisfied: tensorboard<3,>=2.9 in /Users/patricialorenasarmientotagle/Env/AST/lib/python3.9/site-packages (from autogluon.timeseries) (2.19.0)\n",
      "Requirement already satisfied: autogluon.core==1.3.1 in /Users/patricialorenasarmientotagle/Env/AST/lib/python3.9/site-packages (from autogluon.core[raytune]==1.3.1->autogluon.timeseries) (1.3.1)\n",
      "Requirement already satisfied: autogluon.common==1.3.1 in /Users/patricialorenasarmientotagle/Env/AST/lib/python3.9/site-packages (from autogluon.timeseries) (1.3.1)\n",
      "Requirement already satisfied: autogluon.features==1.3.1 in /Users/patricialorenasarmientotagle/Env/AST/lib/python3.9/site-packages (from autogluon.timeseries) (1.3.1)\n",
      "Requirement already satisfied: autogluon.tabular==1.3.1 in /Users/patricialorenasarmientotagle/Env/AST/lib/python3.9/site-packages (from autogluon.tabular[catboost,lightgbm,xgboost]==1.3.1->autogluon.timeseries) (1.3.1)\n",
      "Requirement already satisfied: boto3<2,>=1.10 in /Users/patricialorenasarmientotagle/Env/AST/lib/python3.9/site-packages (from autogluon.common==1.3.1->autogluon.timeseries) (1.38.29)\n",
      "Requirement already satisfied: psutil<7.1.0,>=5.7.3 in /Users/patricialorenasarmientotagle/Env/AST/lib/python3.9/site-packages (from autogluon.common==1.3.1->autogluon.timeseries) (6.1.1)\n",
      "Requirement already satisfied: scikit-learn<1.7.0,>=1.4.0 in /Users/patricialorenasarmientotagle/Env/AST/lib/python3.9/site-packages (from autogluon.core==1.3.1->autogluon.core[raytune]==1.3.1->autogluon.timeseries) (1.4.2)\n",
      "Requirement already satisfied: requests in /Users/patricialorenasarmientotagle/Env/AST/lib/python3.9/site-packages (from autogluon.core==1.3.1->autogluon.core[raytune]==1.3.1->autogluon.timeseries) (2.32.3)\n",
      "Requirement already satisfied: matplotlib<3.11,>=3.7.0 in /Users/patricialorenasarmientotagle/Env/AST/lib/python3.9/site-packages (from autogluon.core==1.3.1->autogluon.core[raytune]==1.3.1->autogluon.timeseries) (3.7.5)\n",
      "Requirement already satisfied: pyarrow>=15.0.0 in /Users/patricialorenasarmientotagle/Env/AST/lib/python3.9/site-packages (from autogluon.core[raytune]==1.3.1->autogluon.timeseries) (20.0.0)\n",
      "Requirement already satisfied: ray<2.45,>=2.10.0 in /Users/patricialorenasarmientotagle/Env/AST/lib/python3.9/site-packages (from ray[default,tune]<2.45,>=2.10.0; extra == \"raytune\"->autogluon.core[raytune]==1.3.1->autogluon.timeseries) (2.44.1)\n",
      "Requirement already satisfied: hyperopt<0.2.8,>=0.2.7 in /Users/patricialorenasarmientotagle/Env/AST/lib/python3.9/site-packages (from autogluon.core[raytune]==1.3.1->autogluon.timeseries) (0.2.7)\n",
      "Requirement already satisfied: catboost<1.3,>=1.2 in /Users/patricialorenasarmientotagle/Env/AST/lib/python3.9/site-packages (from autogluon.tabular[catboost,lightgbm,xgboost]==1.3.1->autogluon.timeseries) (1.2.8)\n",
      "Requirement already satisfied: lightgbm<4.7,>=4.0 in /Users/patricialorenasarmientotagle/Env/AST/lib/python3.9/site-packages (from autogluon.tabular[catboost,lightgbm,xgboost]==1.3.1->autogluon.timeseries) (4.5.0)\n",
      "Requirement already satisfied: xgboost<3.1,>=2.0 in /Users/patricialorenasarmientotagle/Env/AST/lib/python3.9/site-packages (from autogluon.tabular[catboost,lightgbm,xgboost]==1.3.1->autogluon.timeseries) (2.1.4)\n",
      "Requirement already satisfied: packaging>=20.0 in /Users/patricialorenasarmientotagle/Env/AST/lib/python3.9/site-packages (from accelerate<2.0,>=0.34.0->autogluon.timeseries) (24.2)\n",
      "Requirement already satisfied: pyyaml in /Users/patricialorenasarmientotagle/Env/AST/lib/python3.9/site-packages (from accelerate<2.0,>=0.34.0->autogluon.timeseries) (6.0.2)\n",
      "Requirement already satisfied: huggingface-hub>=0.21.0 in /Users/patricialorenasarmientotagle/Env/AST/lib/python3.9/site-packages (from accelerate<2.0,>=0.34.0->autogluon.timeseries) (0.32.4)\n",
      "Requirement already satisfied: safetensors>=0.4.3 in /Users/patricialorenasarmientotagle/Env/AST/lib/python3.9/site-packages (from accelerate<2.0,>=0.34.0->autogluon.timeseries) (0.5.3)\n",
      "Requirement already satisfied: botocore<1.39.0,>=1.38.29 in /Users/patricialorenasarmientotagle/Env/AST/lib/python3.9/site-packages (from boto3<2,>=1.10->autogluon.common==1.3.1->autogluon.timeseries) (1.38.29)\n",
      "Requirement already satisfied: jmespath<2.0.0,>=0.7.1 in /Users/patricialorenasarmientotagle/Env/AST/lib/python3.9/site-packages (from boto3<2,>=1.10->autogluon.common==1.3.1->autogluon.timeseries) (1.0.1)\n",
      "Requirement already satisfied: s3transfer<0.14.0,>=0.13.0 in /Users/patricialorenasarmientotagle/Env/AST/lib/python3.9/site-packages (from boto3<2,>=1.10->autogluon.common==1.3.1->autogluon.timeseries) (0.13.0)\n",
      "Requirement already satisfied: python-dateutil<3.0.0,>=2.1 in /Users/patricialorenasarmientotagle/Env/AST/lib/python3.9/site-packages (from botocore<1.39.0,>=1.38.29->boto3<2,>=1.10->autogluon.common==1.3.1->autogluon.timeseries) (2.9.0.post0)\n",
      "Requirement already satisfied: urllib3<1.27,>=1.25.4 in /Users/patricialorenasarmientotagle/Env/AST/lib/python3.9/site-packages (from botocore<1.39.0,>=1.38.29->boto3<2,>=1.10->autogluon.common==1.3.1->autogluon.timeseries) (1.26.20)\n",
      "Requirement already satisfied: graphviz in /Users/patricialorenasarmientotagle/Env/AST/lib/python3.9/site-packages (from catboost<1.3,>=1.2->autogluon.tabular[catboost,lightgbm,xgboost]==1.3.1->autogluon.timeseries) (0.20.3)\n",
      "Requirement already satisfied: plotly in /Users/patricialorenasarmientotagle/Env/AST/lib/python3.9/site-packages (from catboost<1.3,>=1.2->autogluon.tabular[catboost,lightgbm,xgboost]==1.3.1->autogluon.timeseries) (5.24.1)\n",
      "Requirement already satisfied: six in /Users/patricialorenasarmientotagle/Env/AST/lib/python3.9/site-packages (from catboost<1.3,>=1.2->autogluon.tabular[catboost,lightgbm,xgboost]==1.3.1->autogluon.timeseries) (1.17.0)\n",
      "Requirement already satisfied: pydantic<3,>=1.7 in /Users/patricialorenasarmientotagle/Env/AST/lib/python3.9/site-packages (from gluonts<0.17,>=0.15.0->autogluon.timeseries) (2.10.6)\n",
      "Requirement already satisfied: toolz~=0.10 in /Users/patricialorenasarmientotagle/Env/AST/lib/python3.9/site-packages (from gluonts<0.17,>=0.15.0->autogluon.timeseries) (0.12.1)\n",
      "Requirement already satisfied: typing-extensions~=4.0 in /Users/patricialorenasarmientotagle/Env/AST/lib/python3.9/site-packages (from gluonts<0.17,>=0.15.0->autogluon.timeseries) (4.12.2)\n",
      "Requirement already satisfied: future in /Users/patricialorenasarmientotagle/Env/AST/lib/python3.9/site-packages (from hyperopt<0.2.8,>=0.2.7->autogluon.core[raytune]==1.3.1->autogluon.timeseries) (1.0.0)\n",
      "Requirement already satisfied: cloudpickle in /Users/patricialorenasarmientotagle/Env/AST/lib/python3.9/site-packages (from hyperopt<0.2.8,>=0.2.7->autogluon.core[raytune]==1.3.1->autogluon.timeseries) (3.1.1)\n",
      "Requirement already satisfied: py4j in /Users/patricialorenasarmientotagle/Env/AST/lib/python3.9/site-packages (from hyperopt<0.2.8,>=0.2.7->autogluon.core[raytune]==1.3.1->autogluon.timeseries) (0.10.9.9)\n",
      "Requirement already satisfied: fsspec<2026.0,>=2022.5.0 in /Users/patricialorenasarmientotagle/Env/AST/lib/python3.9/site-packages (from fsspec[http]<2026.0,>=2022.5.0->lightning<2.7,>=2.2->autogluon.timeseries) (2024.12.0)\n",
      "Requirement already satisfied: lightning-utilities<2.0,>=0.10.0 in /Users/patricialorenasarmientotagle/Env/AST/lib/python3.9/site-packages (from lightning<2.7,>=2.2->autogluon.timeseries) (0.14.3)\n",
      "Requirement already satisfied: torchmetrics<3.0,>=0.7.0 in /Users/patricialorenasarmientotagle/Env/AST/lib/python3.9/site-packages (from lightning<2.7,>=2.2->autogluon.timeseries) (1.7.2)\n",
      "Requirement already satisfied: aiohttp!=4.0.0a0,!=4.0.0a1 in /Users/patricialorenasarmientotagle/Env/AST/lib/python3.9/site-packages (from fsspec[http]<2026.0,>=2022.5.0->lightning<2.7,>=2.2->autogluon.timeseries) (3.12.7)\n",
      "Requirement already satisfied: setuptools in /Users/patricialorenasarmientotagle/Env/AST/lib/python3.9/site-packages (from lightning-utilities<2.0,>=0.10.0->lightning<2.7,>=2.2->autogluon.timeseries) (75.8.0)\n",
      "Requirement already satisfied: contourpy>=1.0.1 in /Users/patricialorenasarmientotagle/Env/AST/lib/python3.9/site-packages (from matplotlib<3.11,>=3.7.0->autogluon.core==1.3.1->autogluon.core[raytune]==1.3.1->autogluon.timeseries) (1.3.0)\n",
      "Requirement already satisfied: cycler>=0.10 in /Users/patricialorenasarmientotagle/Env/AST/lib/python3.9/site-packages (from matplotlib<3.11,>=3.7.0->autogluon.core==1.3.1->autogluon.core[raytune]==1.3.1->autogluon.timeseries) (0.12.1)\n",
      "Requirement already satisfied: fonttools>=4.22.0 in /Users/patricialorenasarmientotagle/Env/AST/lib/python3.9/site-packages (from matplotlib<3.11,>=3.7.0->autogluon.core==1.3.1->autogluon.core[raytune]==1.3.1->autogluon.timeseries) (4.55.7)\n",
      "Requirement already satisfied: kiwisolver>=1.0.1 in /Users/patricialorenasarmientotagle/Env/AST/lib/python3.9/site-packages (from matplotlib<3.11,>=3.7.0->autogluon.core==1.3.1->autogluon.core[raytune]==1.3.1->autogluon.timeseries) (1.4.7)\n",
      "Requirement already satisfied: pillow>=6.2.0 in /Users/patricialorenasarmientotagle/Env/AST/lib/python3.9/site-packages (from matplotlib<3.11,>=3.7.0->autogluon.core==1.3.1->autogluon.core[raytune]==1.3.1->autogluon.timeseries) (11.1.0)\n",
      "Requirement already satisfied: pyparsing>=2.3.1 in /Users/patricialorenasarmientotagle/Env/AST/lib/python3.9/site-packages (from matplotlib<3.11,>=3.7.0->autogluon.core==1.3.1->autogluon.core[raytune]==1.3.1->autogluon.timeseries) (3.2.1)\n",
      "Requirement already satisfied: importlib-resources>=3.2.0 in /Users/patricialorenasarmientotagle/Env/AST/lib/python3.9/site-packages (from matplotlib<3.11,>=3.7.0->autogluon.core==1.3.1->autogluon.core[raytune]==1.3.1->autogluon.timeseries) (6.5.2)\n",
      "Requirement already satisfied: numba in /Users/patricialorenasarmientotagle/Env/AST/lib/python3.9/site-packages (from mlforecast<0.14,>0.13->autogluon.timeseries) (0.60.0)\n",
      "Requirement already satisfied: optuna in /Users/patricialorenasarmientotagle/Env/AST/lib/python3.9/site-packages (from mlforecast<0.14,>0.13->autogluon.timeseries) (4.2.0)\n",
      "Requirement already satisfied: window-ops in /Users/patricialorenasarmientotagle/Env/AST/lib/python3.9/site-packages (from mlforecast<0.14,>0.13->autogluon.timeseries) (0.0.15)\n",
      "Requirement already satisfied: pytz>=2020.1 in /Users/patricialorenasarmientotagle/Env/AST/lib/python3.9/site-packages (from pandas<2.3.0,>=2.0.0->autogluon.timeseries) (2024.2)\n",
      "Requirement already satisfied: tzdata>=2022.1 in /Users/patricialorenasarmientotagle/Env/AST/lib/python3.9/site-packages (from pandas<2.3.0,>=2.0.0->autogluon.timeseries) (2025.1)\n",
      "Requirement already satisfied: annotated-types>=0.6.0 in /Users/patricialorenasarmientotagle/Env/AST/lib/python3.9/site-packages (from pydantic<3,>=1.7->gluonts<0.17,>=0.15.0->autogluon.timeseries) (0.7.0)\n",
      "Requirement already satisfied: pydantic-core==2.27.2 in /Users/patricialorenasarmientotagle/Env/AST/lib/python3.9/site-packages (from pydantic<3,>=1.7->gluonts<0.17,>=0.15.0->autogluon.timeseries) (2.27.2)\n",
      "Requirement already satisfied: click>=7.0 in /Users/patricialorenasarmientotagle/Env/AST/lib/python3.9/site-packages (from ray<2.45,>=2.10.0->ray[default,tune]<2.45,>=2.10.0; extra == \"raytune\"->autogluon.core[raytune]==1.3.1->autogluon.timeseries) (8.1.8)\n",
      "Requirement already satisfied: filelock in /Users/patricialorenasarmientotagle/Env/AST/lib/python3.9/site-packages (from ray<2.45,>=2.10.0->ray[default,tune]<2.45,>=2.10.0; extra == \"raytune\"->autogluon.core[raytune]==1.3.1->autogluon.timeseries) (3.17.0)\n",
      "Requirement already satisfied: jsonschema in /Users/patricialorenasarmientotagle/Env/AST/lib/python3.9/site-packages (from ray<2.45,>=2.10.0->ray[default,tune]<2.45,>=2.10.0; extra == \"raytune\"->autogluon.core[raytune]==1.3.1->autogluon.timeseries) (4.23.0)\n",
      "Requirement already satisfied: msgpack<2.0.0,>=1.0.0 in /Users/patricialorenasarmientotagle/Env/AST/lib/python3.9/site-packages (from ray<2.45,>=2.10.0->ray[default,tune]<2.45,>=2.10.0; extra == \"raytune\"->autogluon.core[raytune]==1.3.1->autogluon.timeseries) (1.1.0)\n",
      "Requirement already satisfied: protobuf!=3.19.5,>=3.15.3 in /Users/patricialorenasarmientotagle/Env/AST/lib/python3.9/site-packages (from ray<2.45,>=2.10.0->ray[default,tune]<2.45,>=2.10.0; extra == \"raytune\"->autogluon.core[raytune]==1.3.1->autogluon.timeseries) (6.31.1)\n",
      "Requirement already satisfied: aiosignal in /Users/patricialorenasarmientotagle/Env/AST/lib/python3.9/site-packages (from ray<2.45,>=2.10.0->ray[default,tune]<2.45,>=2.10.0; extra == \"raytune\"->autogluon.core[raytune]==1.3.1->autogluon.timeseries) (1.3.2)\n",
      "Requirement already satisfied: frozenlist in /Users/patricialorenasarmientotagle/Env/AST/lib/python3.9/site-packages (from ray<2.45,>=2.10.0->ray[default,tune]<2.45,>=2.10.0; extra == \"raytune\"->autogluon.core[raytune]==1.3.1->autogluon.timeseries) (1.6.2)\n",
      "Requirement already satisfied: tensorboardX>=1.9 in /Users/patricialorenasarmientotagle/Env/AST/lib/python3.9/site-packages (from ray[default,tune]<2.45,>=2.10.0; extra == \"raytune\"->autogluon.core[raytune]==1.3.1->autogluon.timeseries) (2.6.2.2)\n",
      "Requirement already satisfied: aiohttp-cors in /Users/patricialorenasarmientotagle/Env/AST/lib/python3.9/site-packages (from ray[default,tune]<2.45,>=2.10.0; extra == \"raytune\"->autogluon.core[raytune]==1.3.1->autogluon.timeseries) (0.8.1)\n",
      "Requirement already satisfied: colorful in /Users/patricialorenasarmientotagle/Env/AST/lib/python3.9/site-packages (from ray[default,tune]<2.45,>=2.10.0; extra == \"raytune\"->autogluon.core[raytune]==1.3.1->autogluon.timeseries) (0.5.6)\n",
      "Requirement already satisfied: opencensus in /Users/patricialorenasarmientotagle/Env/AST/lib/python3.9/site-packages (from ray[default,tune]<2.45,>=2.10.0; extra == \"raytune\"->autogluon.core[raytune]==1.3.1->autogluon.timeseries) (0.11.4)\n",
      "Requirement already satisfied: prometheus-client>=0.7.1 in /Users/patricialorenasarmientotagle/Env/AST/lib/python3.9/site-packages (from ray[default,tune]<2.45,>=2.10.0; extra == \"raytune\"->autogluon.core[raytune]==1.3.1->autogluon.timeseries) (0.21.1)\n",
      "Requirement already satisfied: smart-open in /Users/patricialorenasarmientotagle/Env/AST/lib/python3.9/site-packages (from ray[default,tune]<2.45,>=2.10.0; extra == \"raytune\"->autogluon.core[raytune]==1.3.1->autogluon.timeseries) (7.1.0)\n",
      "Requirement already satisfied: virtualenv!=20.21.1,>=20.0.24 in /Users/patricialorenasarmientotagle/Env/AST/lib/python3.9/site-packages (from ray[default,tune]<2.45,>=2.10.0; extra == \"raytune\"->autogluon.core[raytune]==1.3.1->autogluon.timeseries) (20.31.2)\n",
      "Requirement already satisfied: grpcio>=1.32.0 in /Users/patricialorenasarmientotagle/Env/AST/lib/python3.9/site-packages (from ray[default,tune]<2.45,>=2.10.0; extra == \"raytune\"->autogluon.core[raytune]==1.3.1->autogluon.timeseries) (1.72.1)\n",
      "Requirement already satisfied: py-spy>=0.2.0 in /Users/patricialorenasarmientotagle/Env/AST/lib/python3.9/site-packages (from ray[default,tune]<2.45,>=2.10.0; extra == \"raytune\"->autogluon.core[raytune]==1.3.1->autogluon.timeseries) (0.4.0)\n",
      "Requirement already satisfied: threadpoolctl>=2.0.0 in /Users/patricialorenasarmientotagle/Env/AST/lib/python3.9/site-packages (from scikit-learn<1.7.0,>=1.4.0->autogluon.core==1.3.1->autogluon.core[raytune]==1.3.1->autogluon.timeseries) (3.5.0)\n",
      "Requirement already satisfied: statsmodels>=0.13.2 in /Users/patricialorenasarmientotagle/Env/AST/lib/python3.9/site-packages (from statsforecast<2.0.2,>=1.7.0->autogluon.timeseries) (0.14.4)\n",
      "Requirement already satisfied: absl-py>=0.4 in /Users/patricialorenasarmientotagle/Env/AST/lib/python3.9/site-packages (from tensorboard<3,>=2.9->autogluon.timeseries) (2.3.0)\n",
      "Requirement already satisfied: markdown>=2.6.8 in /Users/patricialorenasarmientotagle/Env/AST/lib/python3.9/site-packages (from tensorboard<3,>=2.9->autogluon.timeseries) (3.8)\n",
      "Requirement already satisfied: tensorboard-data-server<0.8.0,>=0.7.0 in /Users/patricialorenasarmientotagle/Env/AST/lib/python3.9/site-packages (from tensorboard<3,>=2.9->autogluon.timeseries) (0.7.2)\n",
      "Requirement already satisfied: werkzeug>=1.0.1 in /Users/patricialorenasarmientotagle/Env/AST/lib/python3.9/site-packages (from tensorboard<3,>=2.9->autogluon.timeseries) (3.0.6)\n",
      "Requirement already satisfied: jinja2 in /Users/patricialorenasarmientotagle/Env/AST/lib/python3.9/site-packages (from torch<2.7,>=2.2->autogluon.timeseries) (3.1.5)\n",
      "Requirement already satisfied: sympy==1.13.1 in /Users/patricialorenasarmientotagle/Env/AST/lib/python3.9/site-packages (from torch<2.7,>=2.2->autogluon.timeseries) (1.13.1)\n",
      "Requirement already satisfied: mpmath<1.4,>=1.1.0 in /Users/patricialorenasarmientotagle/Env/AST/lib/python3.9/site-packages (from sympy==1.13.1->torch<2.7,>=2.2->autogluon.timeseries) (1.3.0)\n",
      "Requirement already satisfied: regex!=2019.12.17 in /Users/patricialorenasarmientotagle/Env/AST/lib/python3.9/site-packages (from transformers<4.50,>=4.38.0->transformers[sentencepiece]<4.50,>=4.38.0->autogluon.timeseries) (2024.11.6)\n",
      "Requirement already satisfied: tokenizers<0.22,>=0.21 in /Users/patricialorenasarmientotagle/Env/AST/lib/python3.9/site-packages (from transformers<4.50,>=4.38.0->transformers[sentencepiece]<4.50,>=4.38.0->autogluon.timeseries) (0.21.1)\n",
      "Requirement already satisfied: hf-xet<2.0.0,>=1.1.2 in /Users/patricialorenasarmientotagle/Env/AST/lib/python3.9/site-packages (from huggingface-hub>=0.21.0->accelerate<2.0,>=0.34.0->autogluon.timeseries) (1.1.3)\n",
      "Requirement already satisfied: sentencepiece!=0.1.92,>=0.1.91 in /Users/patricialorenasarmientotagle/Env/AST/lib/python3.9/site-packages (from transformers[sentencepiece]<4.50,>=4.38.0->autogluon.timeseries) (0.2.0)\n",
      "Requirement already satisfied: aiohappyeyeballs>=2.5.0 in /Users/patricialorenasarmientotagle/Env/AST/lib/python3.9/site-packages (from aiohttp!=4.0.0a0,!=4.0.0a1->fsspec[http]<2026.0,>=2022.5.0->lightning<2.7,>=2.2->autogluon.timeseries) (2.6.1)\n",
      "Requirement already satisfied: async-timeout<6.0,>=4.0 in /Users/patricialorenasarmientotagle/Env/AST/lib/python3.9/site-packages (from aiohttp!=4.0.0a0,!=4.0.0a1->fsspec[http]<2026.0,>=2022.5.0->lightning<2.7,>=2.2->autogluon.timeseries) (5.0.1)\n",
      "Requirement already satisfied: attrs>=17.3.0 in /Users/patricialorenasarmientotagle/Env/AST/lib/python3.9/site-packages (from aiohttp!=4.0.0a0,!=4.0.0a1->fsspec[http]<2026.0,>=2022.5.0->lightning<2.7,>=2.2->autogluon.timeseries) (25.1.0)\n",
      "Requirement already satisfied: multidict<7.0,>=4.5 in /Users/patricialorenasarmientotagle/Env/AST/lib/python3.9/site-packages (from aiohttp!=4.0.0a0,!=4.0.0a1->fsspec[http]<2026.0,>=2022.5.0->lightning<2.7,>=2.2->autogluon.timeseries) (6.4.4)\n",
      "Requirement already satisfied: propcache>=0.2.0 in /Users/patricialorenasarmientotagle/Env/AST/lib/python3.9/site-packages (from aiohttp!=4.0.0a0,!=4.0.0a1->fsspec[http]<2026.0,>=2022.5.0->lightning<2.7,>=2.2->autogluon.timeseries) (0.3.1)\n",
      "Requirement already satisfied: yarl<2.0,>=1.17.0 in /Users/patricialorenasarmientotagle/Env/AST/lib/python3.9/site-packages (from aiohttp!=4.0.0a0,!=4.0.0a1->fsspec[http]<2026.0,>=2022.5.0->lightning<2.7,>=2.2->autogluon.timeseries) (1.20.0)\n",
      "Requirement already satisfied: idna>=2.0 in /Users/patricialorenasarmientotagle/Env/AST/lib/python3.9/site-packages (from yarl<2.0,>=1.17.0->aiohttp!=4.0.0a0,!=4.0.0a1->fsspec[http]<2026.0,>=2022.5.0->lightning<2.7,>=2.2->autogluon.timeseries) (3.10)\n",
      "Requirement already satisfied: triad>=0.9.7 in /Users/patricialorenasarmientotagle/Env/AST/lib/python3.9/site-packages (from fugue>=0.9.0->autogluon.timeseries) (0.9.8)\n",
      "Requirement already satisfied: adagio>=0.2.4 in /Users/patricialorenasarmientotagle/Env/AST/lib/python3.9/site-packages (from fugue>=0.9.0->autogluon.timeseries) (0.2.6)\n",
      "Requirement already satisfied: zipp>=3.1.0 in /Users/patricialorenasarmientotagle/Env/AST/lib/python3.9/site-packages (from importlib-resources>=3.2.0->matplotlib<3.11,>=3.7.0->autogluon.core==1.3.1->autogluon.core[raytune]==1.3.1->autogluon.timeseries) (3.21.0)\n",
      "Requirement already satisfied: importlib-metadata>=4.4 in /Users/patricialorenasarmientotagle/Env/AST/lib/python3.9/site-packages (from markdown>=2.6.8->tensorboard<3,>=2.9->autogluon.timeseries) (8.6.1)\n",
      "Requirement already satisfied: llvmlite<0.44,>=0.43.0dev0 in /Users/patricialorenasarmientotagle/Env/AST/lib/python3.9/site-packages (from numba->mlforecast<0.14,>0.13->autogluon.timeseries) (0.43.0)\n",
      "Requirement already satisfied: patsy>=0.5.6 in /Users/patricialorenasarmientotagle/Env/AST/lib/python3.9/site-packages (from statsmodels>=0.13.2->statsforecast<2.0.2,>=1.7.0->autogluon.timeseries) (1.0.1)\n",
      "Requirement already satisfied: fs in /Users/patricialorenasarmientotagle/Env/AST/lib/python3.9/site-packages (from triad>=0.9.7->fugue>=0.9.0->autogluon.timeseries) (2.4.16)\n",
      "Requirement already satisfied: distlib<1,>=0.3.7 in /Users/patricialorenasarmientotagle/Env/AST/lib/python3.9/site-packages (from virtualenv!=20.21.1,>=20.0.24->ray[default,tune]<2.45,>=2.10.0; extra == \"raytune\"->autogluon.core[raytune]==1.3.1->autogluon.timeseries) (0.3.9)\n",
      "Requirement already satisfied: platformdirs<5,>=3.9.1 in /Users/patricialorenasarmientotagle/Env/AST/lib/python3.9/site-packages (from virtualenv!=20.21.1,>=20.0.24->ray[default,tune]<2.45,>=2.10.0; extra == \"raytune\"->autogluon.core[raytune]==1.3.1->autogluon.timeseries) (4.3.6)\n",
      "Requirement already satisfied: MarkupSafe>=2.1.1 in /Users/patricialorenasarmientotagle/Env/AST/lib/python3.9/site-packages (from werkzeug>=1.0.1->tensorboard<3,>=2.9->autogluon.timeseries) (3.0.2)\n",
      "Requirement already satisfied: appdirs~=1.4.3 in /Users/patricialorenasarmientotagle/Env/AST/lib/python3.9/site-packages (from fs->triad>=0.9.7->fugue>=0.9.0->autogluon.timeseries) (1.4.4)\n",
      "Requirement already satisfied: jsonschema-specifications>=2023.03.6 in /Users/patricialorenasarmientotagle/Env/AST/lib/python3.9/site-packages (from jsonschema->ray<2.45,>=2.10.0->ray[default,tune]<2.45,>=2.10.0; extra == \"raytune\"->autogluon.core[raytune]==1.3.1->autogluon.timeseries) (2024.10.1)\n",
      "Requirement already satisfied: referencing>=0.28.4 in /Users/patricialorenasarmientotagle/Env/AST/lib/python3.9/site-packages (from jsonschema->ray<2.45,>=2.10.0->ray[default,tune]<2.45,>=2.10.0; extra == \"raytune\"->autogluon.core[raytune]==1.3.1->autogluon.timeseries) (0.36.2)\n",
      "Requirement already satisfied: rpds-py>=0.7.1 in /Users/patricialorenasarmientotagle/Env/AST/lib/python3.9/site-packages (from jsonschema->ray<2.45,>=2.10.0->ray[default,tune]<2.45,>=2.10.0; extra == \"raytune\"->autogluon.core[raytune]==1.3.1->autogluon.timeseries) (0.22.3)\n",
      "Requirement already satisfied: opencensus-context>=0.1.3 in /Users/patricialorenasarmientotagle/Env/AST/lib/python3.9/site-packages (from opencensus->ray[default,tune]<2.45,>=2.10.0; extra == \"raytune\"->autogluon.core[raytune]==1.3.1->autogluon.timeseries) (0.1.3)\n",
      "Requirement already satisfied: google-api-core<3.0.0,>=1.0.0 in /Users/patricialorenasarmientotagle/Env/AST/lib/python3.9/site-packages (from opencensus->ray[default,tune]<2.45,>=2.10.0; extra == \"raytune\"->autogluon.core[raytune]==1.3.1->autogluon.timeseries) (2.24.2)\n",
      "Requirement already satisfied: googleapis-common-protos<2.0.0,>=1.56.2 in /Users/patricialorenasarmientotagle/Env/AST/lib/python3.9/site-packages (from google-api-core<3.0.0,>=1.0.0->opencensus->ray[default,tune]<2.45,>=2.10.0; extra == \"raytune\"->autogluon.core[raytune]==1.3.1->autogluon.timeseries) (1.70.0)\n",
      "Requirement already satisfied: proto-plus<2.0.0,>=1.22.3 in /Users/patricialorenasarmientotagle/Env/AST/lib/python3.9/site-packages (from google-api-core<3.0.0,>=1.0.0->opencensus->ray[default,tune]<2.45,>=2.10.0; extra == \"raytune\"->autogluon.core[raytune]==1.3.1->autogluon.timeseries) (1.26.1)\n",
      "Requirement already satisfied: google-auth<3.0.0,>=2.14.1 in /Users/patricialorenasarmientotagle/Env/AST/lib/python3.9/site-packages (from google-api-core<3.0.0,>=1.0.0->opencensus->ray[default,tune]<2.45,>=2.10.0; extra == \"raytune\"->autogluon.core[raytune]==1.3.1->autogluon.timeseries) (2.40.2)\n",
      "Requirement already satisfied: cachetools<6.0,>=2.0.0 in /Users/patricialorenasarmientotagle/Env/AST/lib/python3.9/site-packages (from google-auth<3.0.0,>=2.14.1->google-api-core<3.0.0,>=1.0.0->opencensus->ray[default,tune]<2.45,>=2.10.0; extra == \"raytune\"->autogluon.core[raytune]==1.3.1->autogluon.timeseries) (5.5.2)\n",
      "Requirement already satisfied: pyasn1-modules>=0.2.1 in /Users/patricialorenasarmientotagle/Env/AST/lib/python3.9/site-packages (from google-auth<3.0.0,>=2.14.1->google-api-core<3.0.0,>=1.0.0->opencensus->ray[default,tune]<2.45,>=2.10.0; extra == \"raytune\"->autogluon.core[raytune]==1.3.1->autogluon.timeseries) (0.4.2)\n",
      "Requirement already satisfied: rsa<5,>=3.1.4 in /Users/patricialorenasarmientotagle/Env/AST/lib/python3.9/site-packages (from google-auth<3.0.0,>=2.14.1->google-api-core<3.0.0,>=1.0.0->opencensus->ray[default,tune]<2.45,>=2.10.0; extra == \"raytune\"->autogluon.core[raytune]==1.3.1->autogluon.timeseries) (4.9.1)\n",
      "Requirement already satisfied: charset-normalizer<4,>=2 in /Users/patricialorenasarmientotagle/Env/AST/lib/python3.9/site-packages (from requests->autogluon.core==1.3.1->autogluon.core[raytune]==1.3.1->autogluon.timeseries) (3.4.1)\n",
      "Requirement already satisfied: certifi>=2017.4.17 in /Users/patricialorenasarmientotagle/Env/AST/lib/python3.9/site-packages (from requests->autogluon.core==1.3.1->autogluon.core[raytune]==1.3.1->autogluon.timeseries) (2024.12.14)\n",
      "Requirement already satisfied: pyasn1>=0.1.3 in /Users/patricialorenasarmientotagle/Env/AST/lib/python3.9/site-packages (from rsa<5,>=3.1.4->google-auth<3.0.0,>=2.14.1->google-api-core<3.0.0,>=1.0.0->opencensus->ray[default,tune]<2.45,>=2.10.0; extra == \"raytune\"->autogluon.core[raytune]==1.3.1->autogluon.timeseries) (0.6.1)\n",
      "Requirement already satisfied: alembic>=1.5.0 in /Users/patricialorenasarmientotagle/Env/AST/lib/python3.9/site-packages (from optuna->mlforecast<0.14,>0.13->autogluon.timeseries) (1.14.1)\n",
      "Requirement already satisfied: colorlog in /Users/patricialorenasarmientotagle/Env/AST/lib/python3.9/site-packages (from optuna->mlforecast<0.14,>0.13->autogluon.timeseries) (6.9.0)\n",
      "Requirement already satisfied: sqlalchemy>=1.4.2 in /Users/patricialorenasarmientotagle/Env/AST/lib/python3.9/site-packages (from optuna->mlforecast<0.14,>0.13->autogluon.timeseries) (2.0.37)\n",
      "Requirement already satisfied: Mako in /Users/patricialorenasarmientotagle/Env/AST/lib/python3.9/site-packages (from alembic>=1.5.0->optuna->mlforecast<0.14,>0.13->autogluon.timeseries) (1.3.8)\n",
      "Requirement already satisfied: tenacity>=6.2.0 in /Users/patricialorenasarmientotagle/Env/AST/lib/python3.9/site-packages (from plotly->catboost<1.3,>=1.2->autogluon.tabular[catboost,lightgbm,xgboost]==1.3.1->autogluon.timeseries) (9.0.0)\n",
      "Requirement already satisfied: wrapt in /Users/patricialorenasarmientotagle/Env/AST/lib/python3.9/site-packages (from smart-open->ray[default,tune]<2.45,>=2.10.0; extra == \"raytune\"->autogluon.core[raytune]==1.3.1->autogluon.timeseries) (1.17.2)\n",
      "Note: you may need to restart the kernel to use updated packages.\n"
     ]
    }
   ],
   "source": [
    "%pip install autogluon.timeseries\n"
   ]
  },
  {
   "cell_type": "code",
   "execution_count": 54,
   "id": "74387549",
   "metadata": {},
   "outputs": [],
   "source": [
    "## 2. Cargar datasets\n",
    "df_sellin = pd.read_csv(\"sell-in.txt\", sep=\"\\t\")\n",
    "df_productos = pd.read_csv(\"tb_productos.txt\", sep=\"\\t\")"
   ]
  },
  {
   "cell_type": "code",
   "execution_count": 55,
   "id": "e14417ff",
   "metadata": {},
   "outputs": [],
   "source": [
    "# Leer lista de productos a predecir\n",
    "with open(\"product_id_apredecir201912.TXT\", \"r\") as f:\n",
    "    product_ids = [int(line.strip()) for line in f if line.strip().isdigit()]"
   ]
  },
  {
   "cell_type": "code",
   "execution_count": 56,
   "id": "b1527b4d",
   "metadata": {},
   "outputs": [],
   "source": [
    "## 3. Preprocesamiento\n",
    "# Convertir periodo a datetime\n",
    "df_sellin['timestamp'] = pd.to_datetime(df_sellin['periodo'], format='%Y%m')"
   ]
  },
  {
   "cell_type": "code",
   "execution_count": 57,
   "id": "1083376b",
   "metadata": {},
   "outputs": [],
   "source": [
    "# Filtrar hasta dic 2019 y productos requeridos\n",
    "df_filtered = df_sellin[\n",
    "    (df_sellin['timestamp'] <= '2019-12-01') &\n",
    "    (df_sellin['product_id'].isin(product_ids))\n",
    "]"
   ]
  },
  {
   "cell_type": "code",
   "execution_count": 58,
   "id": "bb3c4bac",
   "metadata": {},
   "outputs": [],
   "source": [
    "# Agregar tn por periodo, cliente y producto\n",
    "df_grouped = df_filtered.groupby(['timestamp', 'customer_id', 'product_id'], as_index=False)['tn'].sum()"
   ]
  },
  {
   "cell_type": "code",
   "execution_count": 59,
   "id": "3df0c480",
   "metadata": {},
   "outputs": [],
   "source": [
    "# Agregar tn total por periodo y producto\n",
    "df_monthly_product = df_grouped.groupby(['timestamp', 'product_id'], as_index=False)['tn'].sum()"
   ]
  },
  {
   "cell_type": "code",
   "execution_count": 60,
   "id": "065d2ca2",
   "metadata": {},
   "outputs": [],
   "source": [
    "# Agregar columna 'item_id' para AutoGluon\n",
    "df_monthly_product['item_id'] = df_monthly_product['product_id']"
   ]
  },
  {
   "cell_type": "code",
   "execution_count": 61,
   "id": "eb4e2dfb",
   "metadata": {},
   "outputs": [],
   "source": [
    "## 4. Crear TimeSeriesDataFrame\n",
    "ts_data = TimeSeriesDataFrame.from_data_frame(\n",
    "    df_monthly_product,\n",
    "    id_column='item_id',\n",
    "    timestamp_column='timestamp'\n",
    ")"
   ]
  },
  {
   "cell_type": "code",
   "execution_count": 62,
   "id": "92e7dcbe",
   "metadata": {},
   "outputs": [
    {
     "name": "stdout",
     "output_type": "stream",
     "text": [
      "            product_id          tn\n",
      "timestamp                         \n",
      "2017-01-01       20001   934.77222\n",
      "2017-02-01       20001   798.01620\n",
      "2017-03-01       20001  1303.35771\n",
      "2017-04-01       20001  1069.96130\n",
      "2017-05-01       20001  1502.20132\n",
      "2017-06-01       20001  1520.06539\n",
      "2017-07-01       20001  1030.67391\n",
      "2017-08-01       20001  1267.39462\n",
      "2017-09-01       20001  1316.94604\n",
      "2017-10-01       20001  1439.75563\n",
      "2017-11-01       20001  1580.47401\n",
      "2017-12-01       20001  1049.38860\n",
      "2018-01-01       20001  1169.07532\n",
      "2018-02-01       20001  1043.76470\n",
      "2018-03-01       20001  1856.83534\n",
      "2018-04-01       20001  1251.28462\n",
      "2018-05-01       20001  1293.89788\n",
      "2018-06-01       20001  1150.79169\n",
      "2018-07-01       20001  1470.41009\n",
      "2018-08-01       20001  1800.96168\n",
      "2018-09-01       20001  1438.67455\n",
      "2018-10-01       20001  2295.19832\n",
      "2018-11-01       20001  1813.01511\n",
      "2018-12-01       20001  1486.68669\n",
      "2019-01-01       20001  1275.77351\n",
      "2019-02-01       20001  1259.09363\n",
      "2019-03-01       20001  1470.65653\n",
      "2019-04-01       20001  1647.63848\n",
      "2019-05-01       20001  1629.78233\n",
      "2019-06-01       20001  1109.93769\n",
      "2019-07-01       20001  1678.99318\n",
      "2019-08-01       20001  1261.34529\n",
      "2019-09-01       20001  1660.00561\n",
      "2019-10-01       20001  1561.50552\n",
      "2019-11-01       20001  1397.37231\n",
      "2019-12-01       20001  1504.68856\n"
     ]
    }
   ],
   "source": [
    "print(ts_data.loc[20001])"
   ]
  },
  {
   "cell_type": "code",
   "execution_count": 63,
   "id": "ddac4147",
   "metadata": {},
   "outputs": [],
   "source": [
    "# Completar valores faltantes\n",
    "ts_data = ts_data.fill_missing_values()"
   ]
  },
  {
   "cell_type": "code",
   "execution_count": null,
   "id": "98a64a6b",
   "metadata": {},
   "outputs": [],
   "source": [
    "# Prueba de nuevo entrenamiento, creaando  un nuevo predictor:\n",
    "new_predictor = TimeSeriesPredictor(\n",
    "    prediction_length=2,\n",
    "    eval_metric='RMSE',\n",
    "    target='tn',\n",
    "    freq='MS'\n",
    ")\n",
    "\n"
   ]
  },
  {
   "cell_type": "code",
   "execution_count": null,
   "id": "b3828699",
   "metadata": {},
   "outputs": [
    {
     "data": {
      "text/html": [],
      "text/plain": [
       "<IPython.core.display.HTML object>"
      ]
     },
     "metadata": {},
     "output_type": "display_data"
    },
    {
     "name": "stderr",
     "output_type": "stream",
     "text": [
      "\tTrained 0 models while tuning PatchTST.\n",
      "Fitting simple weighted ensemble.\n",
      "\tEnsemble weights: {'ETS': 0.52, 'SeasonalNaive': 0.48}\n",
      "\t-31.5385      = Validation score (-RMSE)\n",
      "\t0.16    s     = Training runtime\n",
      "\t1.17    s     = Validation (prediction) runtime\n",
      "Training complete. Models trained: ['SeasonalNaive', 'Naive', 'ETS', 'WeightedEnsemble']\n",
      "Total runtime: 51.98 s\n",
      "Best model: WeightedEnsemble\n",
      "Best model score: -31.5385\n"
     ]
    },
    {
     "data": {
      "text/plain": [
       "<autogluon.timeseries.predictor.TimeSeriesPredictor at 0x34a5c4cd0>"
      ]
     },
     "execution_count": 65,
     "metadata": {},
     "output_type": "execute_result"
    }
   ],
   "source": [
    "# Crear un nuevo predictor antes de ajustar\n",
    "\n",
    "new_predictor.fit(\n",
    "    ts_data,\n",
    "    num_val_windows=3,\n",
    "    val_step_size=1,\n",
    "    hyperparameters=hyperparameters,\n",
    "    hyperparameter_tune_kwargs='auto',  # usa Hyperband por defecto\n",
    "    \n",
    ")"
   ]
  },
  {
   "cell_type": "code",
   "execution_count": 71,
   "id": "00da9607",
   "metadata": {},
   "outputs": [
    {
     "name": "stderr",
     "output_type": "stream",
     "text": [
      "data with frequency 'IRREG' has been resampled to frequency 'MS'.\n",
      "Additional data provided, testing on additional data. Resulting leaderboard will be sorted according to test score (`score_test`).\n",
      "\tWarning: ETS/W2 failed for 75 time series (9.6%). Fallback model SeasonalNaive was used for these time series.\n"
     ]
    },
    {
     "data": {
      "text/html": [
       "<div>\n",
       "<style scoped>\n",
       "    .dataframe tbody tr th:only-of-type {\n",
       "        vertical-align: middle;\n",
       "    }\n",
       "\n",
       "    .dataframe tbody tr th {\n",
       "        vertical-align: top;\n",
       "    }\n",
       "\n",
       "    .dataframe thead th {\n",
       "        text-align: right;\n",
       "    }\n",
       "</style>\n",
       "<table border=\"1\" class=\"dataframe\">\n",
       "  <thead>\n",
       "    <tr style=\"text-align: right;\">\n",
       "      <th></th>\n",
       "      <th>model</th>\n",
       "      <th>score_test</th>\n",
       "      <th>score_val</th>\n",
       "      <th>pred_time_test</th>\n",
       "      <th>pred_time_val</th>\n",
       "      <th>fit_time_marginal</th>\n",
       "      <th>fit_order</th>\n",
       "    </tr>\n",
       "  </thead>\n",
       "  <tbody>\n",
       "    <tr>\n",
       "      <th>0</th>\n",
       "      <td>WeightedEnsemble</td>\n",
       "      <td>-26.875034</td>\n",
       "      <td>-31.538525</td>\n",
       "      <td>1.790843</td>\n",
       "      <td>1.173683</td>\n",
       "      <td>0.163739</td>\n",
       "      <td>4</td>\n",
       "    </tr>\n",
       "    <tr>\n",
       "      <th>1</th>\n",
       "      <td>SeasonalNaive</td>\n",
       "      <td>-31.013073</td>\n",
       "      <td>-37.954457</td>\n",
       "      <td>0.111890</td>\n",
       "      <td>0.125704</td>\n",
       "      <td>2.166694</td>\n",
       "      <td>1</td>\n",
       "    </tr>\n",
       "    <tr>\n",
       "      <th>2</th>\n",
       "      <td>ETS</td>\n",
       "      <td>-32.867835</td>\n",
       "      <td>-37.215312</td>\n",
       "      <td>1.677526</td>\n",
       "      <td>1.047979</td>\n",
       "      <td>2.806980</td>\n",
       "      <td>3</td>\n",
       "    </tr>\n",
       "    <tr>\n",
       "      <th>3</th>\n",
       "      <td>Naive</td>\n",
       "      <td>-46.113437</td>\n",
       "      <td>-46.941168</td>\n",
       "      <td>1.874035</td>\n",
       "      <td>0.159942</td>\n",
       "      <td>0.257484</td>\n",
       "      <td>2</td>\n",
       "    </tr>\n",
       "  </tbody>\n",
       "</table>\n",
       "</div>"
      ],
      "text/plain": [
       "              model  score_test  score_val  pred_time_test  pred_time_val  \\\n",
       "0  WeightedEnsemble  -26.875034 -31.538525        1.790843       1.173683   \n",
       "1     SeasonalNaive  -31.013073 -37.954457        0.111890       0.125704   \n",
       "2               ETS  -32.867835 -37.215312        1.677526       1.047979   \n",
       "3             Naive  -46.113437 -46.941168        1.874035       0.159942   \n",
       "\n",
       "   fit_time_marginal  fit_order  \n",
       "0           0.163739          4  \n",
       "1           2.166694          1  \n",
       "2           2.806980          3  \n",
       "3           0.257484          2  "
      ]
     },
     "execution_count": 71,
     "metadata": {},
     "output_type": "execute_result"
    }
   ],
   "source": [
    "new_predictor.leaderboard(ts_data, silent=True)"
   ]
  },
  {
   "cell_type": "code",
   "execution_count": 66,
   "id": "831890b4",
   "metadata": {},
   "outputs": [
    {
     "name": "stdout",
     "output_type": "stream",
     "text": [
      "780\n",
      "MS\n"
     ]
    }
   ],
   "source": [
    "print(ts_data.num_items)\n",
    "print(ts_data.freq)"
   ]
  },
  {
   "cell_type": "code",
   "execution_count": 67,
   "id": "e91874f4",
   "metadata": {},
   "outputs": [
    {
     "name": "stderr",
     "output_type": "stream",
     "text": [
      "data with frequency 'IRREG' has been resampled to frequency 'MS'.\n",
      "Model not specified in predict, will default to the model with the best validation score: WeightedEnsemble\n",
      "\tWarning: ETS/W2 failed for 46 time series (5.9%). Fallback model SeasonalNaive was used for these time series.\n"
     ]
    }
   ],
   "source": [
    "forecast = new_predictor.predict(ts_data)"
   ]
  },
  {
   "cell_type": "code",
   "execution_count": 68,
   "id": "2912e5b3",
   "metadata": {},
   "outputs": [
    {
     "name": "stdout",
     "output_type": "stream",
     "text": [
      "Index(['mean', '0.1', '0.2', '0.3', '0.4', '0.5', '0.6', '0.7', '0.8', '0.9'], dtype='object')\n"
     ]
    }
   ],
   "source": [
    "print(forecast.columns)"
   ]
  },
  {
   "cell_type": "code",
   "execution_count": 69,
   "id": "57205cb3",
   "metadata": {},
   "outputs": [
    {
     "name": "stdout",
     "output_type": "stream",
     "text": [
      "Index(['item_id', 'timestamp', 'mean'], dtype='object')\n"
     ]
    }
   ],
   "source": [
    "forecast_mean = forecast['mean'].reset_index()\n",
    "print(forecast_mean.columns)"
   ]
  },
  {
   "cell_type": "code",
   "execution_count": 70,
   "id": "d62a0982",
   "metadata": {},
   "outputs": [
    {
     "data": {
      "text/html": [
       "<div>\n",
       "<style scoped>\n",
       "    .dataframe tbody tr th:only-of-type {\n",
       "        vertical-align: middle;\n",
       "    }\n",
       "\n",
       "    .dataframe tbody tr th {\n",
       "        vertical-align: top;\n",
       "    }\n",
       "\n",
       "    .dataframe thead th {\n",
       "        text-align: right;\n",
       "    }\n",
       "</style>\n",
       "<table border=\"1\" class=\"dataframe\">\n",
       "  <thead>\n",
       "    <tr style=\"text-align: right;\">\n",
       "      <th></th>\n",
       "      <th>product_id</th>\n",
       "      <th>tn</th>\n",
       "    </tr>\n",
       "  </thead>\n",
       "  <tbody>\n",
       "    <tr>\n",
       "      <th>1</th>\n",
       "      <td>20001</td>\n",
       "      <td>1376.990477</td>\n",
       "    </tr>\n",
       "    <tr>\n",
       "      <th>3</th>\n",
       "      <td>20002</td>\n",
       "      <td>1238.944873</td>\n",
       "    </tr>\n",
       "    <tr>\n",
       "      <th>5</th>\n",
       "      <td>20003</td>\n",
       "      <td>699.824743</td>\n",
       "    </tr>\n",
       "    <tr>\n",
       "      <th>7</th>\n",
       "      <td>20004</td>\n",
       "      <td>542.778781</td>\n",
       "    </tr>\n",
       "    <tr>\n",
       "      <th>9</th>\n",
       "      <td>20005</td>\n",
       "      <td>505.563725</td>\n",
       "    </tr>\n",
       "  </tbody>\n",
       "</table>\n",
       "</div>"
      ],
      "text/plain": [
       "   product_id           tn\n",
       "1       20001  1376.990477\n",
       "3       20002  1238.944873\n",
       "5       20003   699.824743\n",
       "7       20004   542.778781\n",
       "9       20005   505.563725"
      ]
     },
     "execution_count": 70,
     "metadata": {},
     "output_type": "execute_result"
    }
   ],
   "source": [
    "# Tomar solo item_id y la predicción 'mean'\n",
    "resultado = forecast['mean'].reset_index()[['item_id', 'mean']]\n",
    "resultado.columns = ['product_id', 'tn']\n",
    "\n",
    "# Filtrar solo febrero 2020\n",
    "resultado = forecast['mean'].reset_index()\n",
    "resultado = resultado[resultado['timestamp'] == '2020-02-01']\n",
    "\n",
    "# Renombrar columnas\n",
    "resultado = resultado[['item_id', 'mean']]\n",
    "resultado.columns = ['product_id', 'tn']\n",
    "\n",
    "# Guardar a CSV\n",
    "resultado.to_csv(\"predicciones_febrero2020_01-07-25_4.csv\", index=False)\n",
    "resultado.head()"
   ]
  }
 ],
 "metadata": {
  "kernelspec": {
   "display_name": "AST",
   "language": "python",
   "name": "python3"
  },
  "language_info": {
   "codemirror_mode": {
    "name": "ipython",
    "version": 3
   },
   "file_extension": ".py",
   "mimetype": "text/x-python",
   "name": "python",
   "nbconvert_exporter": "python",
   "pygments_lexer": "ipython3",
   "version": "3.9.6"
  }
 },
 "nbformat": 4,
 "nbformat_minor": 5
}
